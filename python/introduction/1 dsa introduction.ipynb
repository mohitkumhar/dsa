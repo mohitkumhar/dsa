{
 "cells": [
  {
   "cell_type": "markdown",
   "id": "b64f0393-65ba-46f5-8c3f-3d956d8e842a",
   "metadata": {},
   "source": [
    "# What is Data Structure\n",
    "<h5>\n",
    "    Data Structure is a particular way of storing and organizing data in a computer so that it can be used efficiently.\n",
    "</h5>"
   ]
  },
  {
   "cell_type": "markdown",
   "id": "bbcb9c8f-2c81-46ab-b774-e6e4ca1d0f42",
   "metadata": {},
   "source": [
    "# Why to Learn DSA?\n",
    "<h5>\n",
    "    1. Raise Level of Programming<br><br>\n",
    "    2. Efficient Programming<br><br>\n",
    "    3. Able to Solve Complex Problems<br><br>\n",
    "    4. Campus Placement<br><br>\n",
    "    5. A-Grade Company Placement<br><br>\n",
    "</h5>"
   ]
  },
  {
   "cell_type": "markdown",
   "id": "cc8c5522-740e-4680-becb-35129bb269dd",
   "metadata": {},
   "source": [
    "# # Classification of DS\n",
    "<h5>\n",
    "    <li>1. Linear Data Structure<br>\n",
    "        <b><u>Example:- <u/></b>Array, Dynamic Array, Linked-List, Stack, Queue, Deque, etc<br><br>\n",
    "    <li>2. Non-Linear Data Structure<br>\n",
    "        <b><u>Example:- <u/></b>BST, AVL, B-Tree, B+ Tree, Graph, etc\n",
    "</h5>"
   ]
  },
  {
   "cell_type": "code",
   "execution_count": null,
   "id": "dfd3d5d7",
   "metadata": {},
   "outputs": [],
   "source": []
  },
  {
   "cell_type": "markdown",
   "id": "74541ca6-0fe1-4a6d-a682-c23a16a8e798",
   "metadata": {},
   "source": [
    "<hr>"
   ]
  },
  {
   "cell_type": "markdown",
   "id": "db6e83f8-c2c3-44f3-a3fd-8d2bcba2bf2a",
   "metadata": {},
   "source": [
    "# What is Algorithm?\n",
    "<h5>\n",
    "    An Algorithm is the Step by Step, lingustic representation of large to solve a given problem.\n",
    "</h5>"
   ]
  },
  {
   "cell_type": "markdown",
   "id": "cf0ee328-cf28-447f-a958-78b481fb59e0",
   "metadata": {},
   "source": [
    "<hr>"
   ]
  },
  {
   "cell_type": "markdown",
   "id": "13cc027d-af97-43c1-a2d9-f176ea11dc49",
   "metadata": {},
   "source": [
    "# Prerequisites\n",
    "\n",
    "\n",
    "<h5>\n",
    "    <pre>\n",
    "Python:\n",
    "                        <li> Built-in types\n",
    "                        <li>Control Statements\n",
    "                        <li>Functions\n",
    "                        <li>Classes and Objects\n",
    "                        <li>__init__()\n",
    "                        <li>Types if Variables and Functions in Class\n",
    "  \n",
    "</pre>\n",
    "</h5>\n",
    "      "
   ]
  },
  {
   "cell_type": "code",
   "execution_count": null,
   "id": "ba3cf532-2405-4e02-8a5d-656e10745af8",
   "metadata": {},
   "outputs": [],
   "source": []
  },
  {
   "cell_type": "code",
   "execution_count": null,
   "id": "0874bed6-215d-44de-9db5-a6d182be2a1f",
   "metadata": {},
   "outputs": [],
   "source": []
  }
 ],
 "metadata": {
  "kernelspec": {
   "display_name": "Python 3 (ipykernel)",
   "language": "python",
   "name": "python3"
  },
  "language_info": {
   "codemirror_mode": {
    "name": "ipython",
    "version": 3
   },
   "file_extension": ".py",
   "mimetype": "text/x-python",
   "name": "python",
   "nbconvert_exporter": "python",
   "pygments_lexer": "ipython3",
   "version": "3.12.3"
  }
 },
 "nbformat": 4,
 "nbformat_minor": 5
}
