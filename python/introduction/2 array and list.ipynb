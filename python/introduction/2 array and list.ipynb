{
 "cells": [
  {
   "cell_type": "markdown",
   "id": "bcfbdef9-390a-46ac-8f5f-e0e1cea54a25",
   "metadata": {},
   "source": [
    "Arrays | Lists\n",
    "--- | ---\n",
    "Consists of elements belonging to the same data type | Consists of elements belonging to different data types\n",
    "Can handle arithmetic operations | Cannot handle arithmetic operations\n",
    "Needs external modules for declaration | Doesn’t require external modules\n",
    "Nesting must-have elements of the same size | Nesting without restrictions is possible\n",
    "Consumes shorter memory and easier to access | Larger memory for easy addition and relatively slower\n",
    "Creation, updating, and deletion must be done element-wise | Creation, updating, and deletion with ease\n",
    "The size of the array is fixed | The size of the lists is variable"
   ]
  },
  {
   "cell_type": "markdown",
   "id": "dce487cb-2e45-4925-8f9b-d6850087cd90",
   "metadata": {},
   "source": [
    "Array is not a built-in data structure and therefore need to be imported"
   ]
  },
  {
   "cell_type": "markdown",
   "id": "c7fb81a0-6ea9-4328-95c1-ca9323bea005",
   "metadata": {},
   "source": [
    "# Array\n",
    "<h4>\n",
    "    <li>This Module defines an object type which can efficiently represent an array of basic    values:\n",
    "</h4>\n",
    "Like: Characters, Integers, Floating Point Numbers\n",
    "\n",
    "<h4>\n",
    "    <br>\n",
    "   <li>Arrays are Sequence types and behave very much like lists, but arrays can have elements of limited types\n",
    "</h4>"
   ]
  },
  {
   "cell_type": "markdown",
   "id": "f859f8bd-e312-4ef6-8e3a-3f9d7d066656",
   "metadata": {},
   "source": [
    "# Creating Array\n",
    "\n",
    "from array import * <br>\n",
    "a1 - array(type code, [elements])\n",
    "\n",
    "Type Code | C-Type\n",
    "---|---\n",
    "'b' | signed integer\n",
    "'B' | unsigned integer\n",
    "'u' | unicode character\n",
    "‘h’ | signed integer\n",
    "‘H’ | unsigned integer\n",
    "‘i’ | signed integer\n",
    "‘l’ | signed long\n",
    "‘L’ | unsigned long\n",
    "'q' | signed integer\n",
    "'Q' | unsigned integer\n",
    "‘f’ | float\n",
    "‘d’ | double\n",
    "\n",
    "\n"
   ]
  },
  {
   "cell_type": "code",
   "execution_count": 6,
   "id": "f4d6a809-258f-44fc-a5a3-cb02cadb971b",
   "metadata": {},
   "outputs": [
    {
     "name": "stdout",
     "output_type": "stream",
     "text": [
      "<class 'array.array'>\n",
      "array('i', [23, 56, 11])\n"
     ]
    }
   ],
   "source": [
    "from array import *\n",
    "\n",
    "a1 = array('i', [23,56,11])\n",
    "\n",
    "print(type(a1))\n",
    "print(a1)"
   ]
  },
  {
   "cell_type": "code",
   "execution_count": 7,
   "id": "a58300e9-204c-440d-97ee-faf824f74e5c",
   "metadata": {},
   "outputs": [
    {
     "name": "stdout",
     "output_type": "stream",
     "text": [
      "23\n",
      "56\n",
      "11\n"
     ]
    }
   ],
   "source": [
    "for i in a1:\n",
    "    print(i)"
   ]
  },
  {
   "cell_type": "code",
   "execution_count": 9,
   "id": "66b5a166-85ba-4e37-9ce9-24a09371efbc",
   "metadata": {},
   "outputs": [
    {
     "name": "stdout",
     "output_type": "stream",
     "text": [
      "23\n",
      "56\n",
      "11\n"
     ]
    }
   ],
   "source": [
    "for i in range(len(a1)):\n",
    "    print(a1[i])"
   ]
  },
  {
   "cell_type": "markdown",
   "id": "d7b44a20-b913-4670-9ef5-77b29715c01b",
   "metadata": {},
   "source": [
    "<hr>"
   ]
  },
  {
   "cell_type": "markdown",
   "id": "852c07dd-b1f8-496f-996b-9078d890c8e7",
   "metadata": {},
   "source": [
    "# Array Methods\n",
    "<h4>\n",
    "    <li>append()<br>\n",
    "    <li>count()<br>\n",
    "    <li>extend()<br>\n",
    "    <li>fromlist()<br>\n",
    "    <li>index()<br>\n",
    "    <li>insert()<br>\n",
    "    <li>pop()<br>\n",
    "    <li>remove()<br>\n",
    "    <li>reverse()<br>\n",
    "    <li>to_list()\n",
    "</h4>"
   ]
  },
  {
   "cell_type": "markdown",
   "id": "8970abfd-d88c-4ae7-9e18-350dc59032e9",
   "metadata": {},
   "source": [
    "<hr>"
   ]
  },
  {
   "cell_type": "markdown",
   "id": "3154152c-02e8-4926-82fb-639e8203386c",
   "metadata": {},
   "source": [
    "# Lists\n",
    "<h4>\n",
    "    <li> List is a Class\n",
    "    <li> It is Mutable\n",
    "    <li> List Elements are Indexed\n",
    "    <li> It is an Iterable\n",
    "    <li> It can Grow (Dynamic Array)\n",
    "    <li> List can contain different type elements\n",
    "</h4>"
   ]
  },
  {
   "cell_type": "markdown",
   "id": "4d69e637-191a-412a-9f60-2e8830899517",
   "metadata": {},
   "source": [
    "# Methods of Lists\n",
    "<h4>\n",
    "    <li> append()\n",
    "    <li> clear()\n",
    "    <li> count()\n",
    "    <li> extend()\n",
    "    <li> index()\n",
    "    <li> insert()\n",
    "    <li> pop()\n",
    "    <li> remove()\n",
    "    <li> sort()\n",
    "    <li> reverse()\n",
    "</h4>"
   ]
  },
  {
   "cell_type": "markdown",
   "id": "0981f651-bd4a-42f3-a57e-c462bcd9665f",
   "metadata": {},
   "source": [
    "<hr>"
   ]
  },
  {
   "cell_type": "markdown",
   "id": "b1c36e28-9b6d-492d-b75c-ddbbcedf79d6",
   "metadata": {},
   "source": [
    "# Built-in Methods\n",
    "<h4>\n",
    "    <li> len()\n",
    "    <li> sum()\n",
    "    <li> max()\n",
    "    <li> min()\n",
    "    <li> sorted()\n",
    "</h4>"
   ]
  }
 ],
 "metadata": {
  "kernelspec": {
   "display_name": "Python 3 (ipykernel)",
   "language": "python",
   "name": "python3"
  },
  "language_info": {
   "codemirror_mode": {
    "name": "ipython",
    "version": 3
   },
   "file_extension": ".py",
   "mimetype": "text/x-python",
   "name": "python",
   "nbconvert_exporter": "python",
   "pygments_lexer": "ipython3",
   "version": "3.12.3"
  }
 },
 "nbformat": 4,
 "nbformat_minor": 5
}
