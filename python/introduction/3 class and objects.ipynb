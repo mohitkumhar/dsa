{
 "cells": [
  {
   "cell_type": "markdown",
   "id": "447ffc25-f2c3-4db6-abda-c39521c745d4",
   "metadata": {},
   "source": [
    "# Class\n",
    "<h4>\n",
    "<li> class is a description of an object<br>\n",
    "<br>\n",
    "<li> Syntex:-<br>\n",
    "    <pre>\n",
    "class Test:\n",
    "    # attributes\n",
    "    </pre>\n",
    "<li> It defines various attributes of an object\n",
    "<li> Defining a class is creating a data type\n",
    "\n",
    "</h4>"
   ]
  },
  {
   "cell_type": "markdown",
   "id": "4442a918-9365-47f2-8aab-7f90656551db",
   "metadata": {},
   "source": [
    "# Attributes\n",
    "<h4>\n",
    "    Attributes are member variables and member functions\n",
    "</h4>\n",
    "<pre>\n",
    "class Test:\n",
    "    x = 5\n",
    "    def f1():\n",
    "        # code\n",
    "\n",
    "Here x and f1 are attributes\n",
    "</pre>"
   ]
  },
  {
   "cell_type": "markdown",
   "id": "d11f5ebf-2264-4968-a903-f379326bc1a6",
   "metadata": {},
   "source": [
    "<hr>"
   ]
  },
  {
   "cell_type": "markdown",
   "id": "1bdbc43d-3381-43fe-9379-73b7b4d9bcf3",
   "metadata": {},
   "source": [
    "# Objects\n",
    "<h4>\n",
    "    <pre>\n",
    "        <li> Objects is an instance of a class\n",
    "        <li> Objects are of two types:-\n",
    "            1. class object\n",
    "            2. instance object\n",
    "    </pre>\n",
    "</h4>\n",
    "t1 = Test()<br>\n",
    "t2 = Test()<br>\n",
    "<br>\n",
    "Here t1 and t2 are instance objects of Test Class"
   ]
  },
  {
   "cell_type": "markdown",
   "id": "8d74f52b-76e4-4cda-a775-f1b9e7a918dd",
   "metadata": {},
   "source": [
    "# Warning\n",
    "<pre>\n",
    "    t1 = Test()\n",
    "    t2 = Test()\n",
    "    t1 = Test()  \n",
    "    \n",
    "    When you reassign t1 = Test(), it breaks the link to the old object and makes t1 point to a new Test object instead.\n",
    "                _\n",
    "    t2 ------> |_|\n",
    "                _\n",
    "    t1 ---     |_|\n",
    "         |\n",
    "         |       _\n",
    "         |----> |_|\n",
    "</pre>\n"
   ]
  },
  {
   "cell_type": "markdown",
   "id": "21c5c930-9321-438d-bd17-f1c749be974b",
   "metadata": {},
   "source": [
    "# Class Object and Instance Object"
   ]
  },
  {
   "cell_type": "markdown",
   "id": "438fe471-282d-42aa-89d4-188505f6be52",
   "metadata": {},
   "source": [
    "<h4>\n",
    "    <pre>\n",
    "        Test vs Test() \n",
    "         |        |\n",
    "         |        |\n",
    "         |        ---> create instance object\n",
    "         |\n",
    "         ---> represent class object\n",
    "    </pre>\n",
    "    <li> class object variable is shared among all instances of the class, while an instance object variable is unique to each instance.\n",
    "</h4>"
   ]
  },
  {
   "cell_type": "markdown",
   "id": "501f876c-65e6-4b05-b427-f64cb56c186e",
   "metadata": {},
   "source": [
    "<HR>"
   ]
  },
  {
   "cell_type": "markdown",
   "id": "c8438c83-652d-4617-8dba-bad2776b92ba",
   "metadata": {},
   "source": [
    "# Practice Question"
   ]
  },
  {
   "cell_type": "markdown",
   "id": "eb846edf-d7b0-4dc7-ab1a-893d930c08e0",
   "metadata": {},
   "source": [
    "Q. Create a class Employee with attributes empid, name, salary and also define methods to access properties of Employee."
   ]
  },
  {
   "cell_type": "code",
   "execution_count": 9,
   "id": "94e1ee1a-5c7d-4e18-bdb7-5e41c97f5613",
   "metadata": {},
   "outputs": [
    {
     "name": "stdout",
     "output_type": "stream",
     "text": [
      "1 Mohit Kumhar 10000\n",
      "2 Heisenberg 1000\n"
     ]
    }
   ],
   "source": [
    "class Employee:\n",
    "    def __init__(self, empid=None, name=None, salary=None):\n",
    "        self.empid = empid\n",
    "        self.name = name\n",
    "        self.salary = salary\n",
    "\n",
    "    def set_empid(self, empid):\n",
    "        self.empid=empid\n",
    "    def set_name(self, name):\n",
    "        self.name=name\n",
    "    def set_salary(self, salary):\n",
    "        self.salary=salary\n",
    "\n",
    "    def get_empid(self):\n",
    "        return self.empid\n",
    "    def get_name(self):\n",
    "        return self.name\n",
    "    def get_salary(self):\n",
    "        return self.salary\n",
    "\n",
    "t1 = Employee()\n",
    "t2 = Employee(2, 'Heisenberg', 1000)\n",
    "\n",
    "t1.set_empid(1)\n",
    "t1.set_name('Mohit Kumhar')\n",
    "t1.set_salary(10000)\n",
    "\n",
    "print(t1.get_empid(), t1.get_name(), t1.get_salary())\n",
    "print(t2.get_empid(), t2.get_name(), t2.get_salary())\n",
    "    "
   ]
  },
  {
   "cell_type": "code",
   "execution_count": null,
   "id": "ba568475-52cc-4909-97b2-2193e61ec0cf",
   "metadata": {},
   "outputs": [],
   "source": []
  }
 ],
 "metadata": {
  "kernelspec": {
   "display_name": "Python 3 (ipykernel)",
   "language": "python",
   "name": "python3"
  },
  "language_info": {
   "codemirror_mode": {
    "name": "ipython",
    "version": 3
   },
   "file_extension": ".py",
   "mimetype": "text/x-python",
   "name": "python",
   "nbconvert_exporter": "python",
   "pygments_lexer": "ipython3",
   "version": "3.12.3"
  }
 },
 "nbformat": 4,
 "nbformat_minor": 5
}
