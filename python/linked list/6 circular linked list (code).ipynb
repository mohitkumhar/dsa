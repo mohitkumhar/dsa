{
 "cells": [
  {
   "cell_type": "code",
   "execution_count": 318,
   "id": "92d23137-6be0-46b4-9b08-5e7cfaf49cd8",
   "metadata": {},
   "outputs": [],
   "source": [
    "class Node:\n",
    "    def __init__(self, data=None, next=None):\n",
    "        self.data=data\n",
    "        self.next=next"
   ]
  },
  {
   "cell_type": "code",
   "execution_count": 1,
   "id": "5cb5d812-b7a5-48eb-9897-cf504ef550d9",
   "metadata": {},
   "outputs": [],
   "source": [
    "class LinkedList:\n",
    "    def __init__(self):\n",
    "        self.tail = None\n",
    "\n",
    "    def is_empty(self):\n",
    "        return self.tail is None\n",
    "\n",
    "    # Insertion Operations\n",
    "\n",
    "    def insert_start(self, data):\n",
    "        new_node = Node(data)\n",
    "        \n",
    "        if self.is_empty():\n",
    "            new_node.next = new_node\n",
    "            self.tail = new_node\n",
    "        \n",
    "        else:\n",
    "            new_node.next = self.tail.next\n",
    "            self.tail.next = new_node\n",
    "\n",
    "    def insert_end(self, data):\n",
    "        if self.is_empty():\n",
    "            return self.insert_start(data)\n",
    "\n",
    "        new_node = Node(data)\n",
    "\n",
    "        new_node.next = self.tail.next\n",
    "        self.tail.next = new_node\n",
    "        self.tail = new_node\n",
    "\n",
    "    # def insert_after_value()   Same as Singly linked list \n",
    "    # def insert_after_index()   Same as Singly linked list \n",
    "\n",
    "\n",
    "    # Deletion Operation\n",
    "\n",
    "    def delete_start(self):\n",
    "        if self.is_empty():\n",
    "            return 'Linked List is Empty'\n",
    "\n",
    "        if self.tail.next == self.tail:\n",
    "            self.tail = None\n",
    "        else:\n",
    "            self.tail.next = self.tail.next.next\n",
    "\n",
    "    def delete_end(self):\n",
    "        if self.is_empty():\n",
    "            return 'Empty Linked List'\n",
    "\n",
    "        if self.tail == self.tail.next:\n",
    "            self.tail = None\n",
    "\n",
    "        else:\n",
    "            head = self.tail.next\n",
    "            current = head\n",
    "            while current.next != self.tail:\n",
    "                current = current.next\n",
    "    \n",
    "            current.next = head\n",
    "            self.tail = current\n",
    "            \n",
    "    # def delete_value()   Same as Singly linked list \n",
    "    # def delete_index()   Same as Singly linked list         \n",
    "\n",
    "\n",
    "    # Traversal \n",
    "\n",
    "    def traversal(self):\n",
    "        if self.is_empty():\n",
    "            return 'Empty Linked list'\n",
    "        current = self.tail.next\n",
    "        ans = ''\n",
    "\n",
    "        while True:\n",
    "            ans = ans + str(current.data) + ' -> '\n",
    "            current=current.next\n",
    "            if current == self.tail.next:\n",
    "                break\n",
    "        return ans[:-4]\n",
    "\n",
    "    # Searching\n",
    "\n",
    "    def search_value(self, value):\n",
    "        if self.is_empty():\n",
    "            return 'Empty Linked List'\n",
    "            \n",
    "        current = self.tail.next\n",
    "        \n",
    "        ind = 0\n",
    "\n",
    "        while True:\n",
    "            if current.data == value:\n",
    "                return ind\n",
    "            if current == self.tail: break\n",
    "            ind += 1\n",
    "            current = current.next\n",
    "        return 'Value Not Found'\n",
    "\n",
    "    def search_index(self, index):\n",
    "        if self.is_empty():\n",
    "            return 'Empty Linked List'\n",
    "            \n",
    "        current = self.tail.next\n",
    "        ind = 0\n",
    "\n",
    "        while True:\n",
    "            if ind == index:\n",
    "                return current.data\n",
    "\n",
    "            if current == self.tail:\n",
    "                return 'Out of Index'\n",
    "            ind += 1\n",
    "            current = current.next\n",
    "    def __iter__(self): \n",
    "        if self.tail == None:\n",
    "            return Iterator(None)\n",
    "        return Iterator(self.tail.next)\n",
    "            \n",
    "            \n",
    "        "
   ]
  },
  {
   "cell_type": "code",
   "execution_count": 362,
   "id": "c4d618c9-c92a-45bf-ba1b-f6800c54617b",
   "metadata": {},
   "outputs": [],
   "source": [
    "class Iterator:\n",
    "    def __init__(self, head):\n",
    "        self.head = head\n",
    "        self.current = head\n",
    "        self.count = 0\n",
    "    def __iter__(self):\n",
    "        return self\n",
    "    def __next__(self):\n",
    "        if self.head == None:\n",
    "            raise StopIteration\n",
    "        if self.current == self.head and self.count:\n",
    "            raise StopIteration\n",
    "        self.count = 1\n",
    "        data = self.current.data\n",
    "        self.current = self.current.next\n",
    "        \n",
    "        \n",
    "        return data"
   ]
  },
  {
   "cell_type": "code",
   "execution_count": 371,
   "id": "43d75967-677c-4c64-b813-e5bfb25fc323",
   "metadata": {},
   "outputs": [],
   "source": [
    "l1 = LinkedList()"
   ]
  },
  {
   "cell_type": "code",
   "execution_count": 372,
   "id": "7898933d-7db7-48fd-b916-550b185f5ee1",
   "metadata": {},
   "outputs": [
    {
     "data": {
      "text/plain": [
       "True"
      ]
     },
     "execution_count": 372,
     "metadata": {},
     "output_type": "execute_result"
    }
   ],
   "source": [
    "l1.is_empty()"
   ]
  },
  {
   "cell_type": "code",
   "execution_count": 373,
   "id": "453870a9-8cb0-4caf-a537-44246e244335",
   "metadata": {},
   "outputs": [],
   "source": [
    "l1.insert_start(33)\n",
    "l1.insert_start(22)\n",
    "l1.insert_start(11)"
   ]
  },
  {
   "cell_type": "code",
   "execution_count": 374,
   "id": "7534fd88-bfd5-4630-9a63-c43e0b254528",
   "metadata": {},
   "outputs": [
    {
     "name": "stdout",
     "output_type": "stream",
     "text": [
      "11\n",
      "22\n",
      "33\n"
     ]
    }
   ],
   "source": [
    "for i in l1:\n",
    "    print(i)"
   ]
  },
  {
   "cell_type": "code",
   "execution_count": 366,
   "id": "314ce843-4fd6-4599-a039-0874bbd77e9f",
   "metadata": {},
   "outputs": [
    {
     "data": {
      "text/plain": [
       "False"
      ]
     },
     "execution_count": 366,
     "metadata": {},
     "output_type": "execute_result"
    }
   ],
   "source": [
    "l1.is_empty()"
   ]
  },
  {
   "cell_type": "code",
   "execution_count": 367,
   "id": "8c18fb47-e131-4262-a9e7-4cdb4ba02f0b",
   "metadata": {},
   "outputs": [
    {
     "data": {
      "text/plain": [
       "'11 -> 22 -> 33'"
      ]
     },
     "execution_count": 367,
     "metadata": {},
     "output_type": "execute_result"
    }
   ],
   "source": [
    "l1.traversal()"
   ]
  },
  {
   "cell_type": "code",
   "execution_count": 368,
   "id": "590ec07d-d09d-490f-ac22-720837c4a4fe",
   "metadata": {},
   "outputs": [],
   "source": [
    "l1.insert_end(77)\n",
    "l1.insert_end(88)\n",
    "l1.insert_end(99)"
   ]
  },
  {
   "cell_type": "code",
   "execution_count": 369,
   "id": "eecd84ec-742c-4fdf-ad13-4ca220840f4f",
   "metadata": {},
   "outputs": [
    {
     "data": {
      "text/plain": [
       "'11 -> 22 -> 33 -> 77 -> 88 -> 99'"
      ]
     },
     "execution_count": 369,
     "metadata": {},
     "output_type": "execute_result"
    }
   ],
   "source": [
    "l1.traversal()"
   ]
  },
  {
   "cell_type": "code",
   "execution_count": 354,
   "id": "a1babf79-0cf0-49bb-808d-9c8b0ee755b8",
   "metadata": {},
   "outputs": [],
   "source": [
    "l1.delete_start()"
   ]
  },
  {
   "cell_type": "code",
   "execution_count": 355,
   "id": "b537d72d-925b-4549-9672-8a6ebf9eace9",
   "metadata": {},
   "outputs": [
    {
     "data": {
      "text/plain": [
       "'22 -> 33 -> 77 -> 88 -> 99'"
      ]
     },
     "execution_count": 355,
     "metadata": {},
     "output_type": "execute_result"
    }
   ],
   "source": [
    "l1.traversal()"
   ]
  },
  {
   "cell_type": "code",
   "execution_count": 356,
   "id": "9902592e-4d19-430f-9976-95ad1c98549e",
   "metadata": {},
   "outputs": [],
   "source": [
    "l1.delete_end()"
   ]
  },
  {
   "cell_type": "code",
   "execution_count": 357,
   "id": "96250393-777f-45b7-be20-b19fb907f39d",
   "metadata": {},
   "outputs": [
    {
     "data": {
      "text/plain": [
       "'22 -> 33 -> 77 -> 88'"
      ]
     },
     "execution_count": 357,
     "metadata": {},
     "output_type": "execute_result"
    }
   ],
   "source": [
    "l1.traversal()"
   ]
  },
  {
   "cell_type": "code",
   "execution_count": 358,
   "id": "878d4449-6271-48c3-bcac-8b1a43ff9cd8",
   "metadata": {},
   "outputs": [
    {
     "data": {
      "text/plain": [
       "3"
      ]
     },
     "execution_count": 358,
     "metadata": {},
     "output_type": "execute_result"
    }
   ],
   "source": [
    "l1.search_value(88)"
   ]
  },
  {
   "cell_type": "code",
   "execution_count": 359,
   "id": "b67837d8-fa32-4a73-a8a8-b4bf5562d2f6",
   "metadata": {},
   "outputs": [
    {
     "data": {
      "text/plain": [
       "88"
      ]
     },
     "execution_count": 359,
     "metadata": {},
     "output_type": "execute_result"
    }
   ],
   "source": [
    "l1.search_index(3)"
   ]
  },
  {
   "cell_type": "code",
   "execution_count": null,
   "id": "0083603f-7fa1-4665-be1f-32afcde6e541",
   "metadata": {},
   "outputs": [],
   "source": []
  },
  {
   "cell_type": "code",
   "execution_count": null,
   "id": "8fc4d7bf-11eb-409d-871d-0540b88dc26f",
   "metadata": {},
   "outputs": [],
   "source": []
  },
  {
   "cell_type": "code",
   "execution_count": null,
   "id": "70bd324f-c691-48b5-8feb-75cb16eaf8d6",
   "metadata": {},
   "outputs": [],
   "source": []
  },
  {
   "cell_type": "code",
   "execution_count": null,
   "id": "ed6b5e1c-61aa-4f9f-97cc-920c818614c5",
   "metadata": {},
   "outputs": [],
   "source": []
  },
  {
   "cell_type": "code",
   "execution_count": null,
   "id": "c84cb266-cf47-4512-bd7b-ffe8a69a265f",
   "metadata": {},
   "outputs": [],
   "source": []
  },
  {
   "cell_type": "code",
   "execution_count": null,
   "id": "bfeb707d-77f0-4359-a8a3-0be046a35984",
   "metadata": {},
   "outputs": [],
   "source": []
  },
  {
   "cell_type": "code",
   "execution_count": null,
   "id": "4b9817a4-5e3f-4720-b4ed-28768641cdde",
   "metadata": {},
   "outputs": [],
   "source": []
  },
  {
   "cell_type": "code",
   "execution_count": null,
   "id": "4600917a-2b57-4004-806d-bc3cdcc2afe7",
   "metadata": {},
   "outputs": [],
   "source": []
  },
  {
   "cell_type": "code",
   "execution_count": null,
   "id": "3489fd5e-f450-425d-a135-c19f68ee8875",
   "metadata": {},
   "outputs": [],
   "source": []
  },
  {
   "cell_type": "code",
   "execution_count": null,
   "id": "df792ea7-ac9f-48af-b4b0-a972a7f5ed7a",
   "metadata": {},
   "outputs": [],
   "source": []
  },
  {
   "cell_type": "code",
   "execution_count": null,
   "id": "e0af8bd4-2e9c-4b15-9239-9ec8d7782aeb",
   "metadata": {},
   "outputs": [],
   "source": []
  },
  {
   "cell_type": "code",
   "execution_count": null,
   "id": "72013d7f-ad73-47d1-9b5d-840ddc9e37c4",
   "metadata": {},
   "outputs": [],
   "source": []
  },
  {
   "cell_type": "code",
   "execution_count": null,
   "id": "9078df25-2f4b-4205-a54f-6c791b19cbdd",
   "metadata": {},
   "outputs": [],
   "source": []
  },
  {
   "cell_type": "code",
   "execution_count": null,
   "id": "8b5af964-9c3b-4a23-b9ae-738104e64e9a",
   "metadata": {},
   "outputs": [],
   "source": []
  },
  {
   "cell_type": "code",
   "execution_count": null,
   "id": "021a5ac9-b8d5-40c5-b468-523c6b9c9606",
   "metadata": {},
   "outputs": [],
   "source": []
  },
  {
   "cell_type": "code",
   "execution_count": null,
   "id": "54e5a85a-1542-4640-a8da-c53d7b148b54",
   "metadata": {},
   "outputs": [],
   "source": []
  },
  {
   "cell_type": "code",
   "execution_count": null,
   "id": "0af24ffa-420c-4018-8cfb-15aea293e2ec",
   "metadata": {},
   "outputs": [],
   "source": []
  },
  {
   "cell_type": "code",
   "execution_count": null,
   "id": "4580e7e5-76b8-4a65-86f4-d320189e6625",
   "metadata": {},
   "outputs": [],
   "source": []
  },
  {
   "cell_type": "code",
   "execution_count": null,
   "id": "db9654b2-a00b-4182-ab92-44d1412d912b",
   "metadata": {},
   "outputs": [],
   "source": []
  }
 ],
 "metadata": {
  "kernelspec": {
   "display_name": "Python 3 (ipykernel)",
   "language": "python",
   "name": "python3"
  },
  "language_info": {
   "codemirror_mode": {
    "name": "ipython",
    "version": 3
   },
   "file_extension": ".py",
   "mimetype": "text/x-python",
   "name": "python",
   "nbconvert_exporter": "python",
   "pygments_lexer": "ipython3",
   "version": "3.12.3"
  }
 },
 "nbformat": 4,
 "nbformat_minor": 5
}
