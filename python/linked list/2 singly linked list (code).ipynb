{
 "cells": [
  {
   "cell_type": "code",
   "execution_count": 5,
   "id": "2473292b-606f-48d8-855d-8363374bbc08",
   "metadata": {},
   "outputs": [],
   "source": [
    "class Node:\n",
    "    def __init__(self, data=None, next=None):\n",
    "        self.data=data\n",
    "        self.next=next        "
   ]
  },
  {
   "cell_type": "code",
   "execution_count": 1,
   "id": "071c450b-c50c-42ae-bcce-e208d801917b",
   "metadata": {},
   "outputs": [],
   "source": [
    "class LinkedList:\n",
    "    def __init__(self):\n",
    "        self.head=None\n",
    "        self.next=None\n",
    "    \n",
    "    def is_empty(self):\n",
    "        return self.head == None\n",
    "\n",
    "\n",
    "    # Insertion Operations\n",
    "    def insert_at_start(self, data):\n",
    "        newNode = Node(data)\n",
    "\n",
    "        newNode.next = self.head\n",
    "        self.head = newNode\n",
    "\n",
    "    def insert_at_end(self, data):\n",
    "        newNode = Node(data)\n",
    "\n",
    "        current = self.head\n",
    "\n",
    "        if not self.is_empty():\n",
    "            while current.next != None:\n",
    "                current = current.next\n",
    "    \n",
    "            current.next = newNode\n",
    "            return\n",
    "\n",
    "        self.insert_at_start(data)\n",
    "\n",
    "    def insert_after_value(self, value, data):            \n",
    "        newNode = Node(data)\n",
    "        current = self.head\n",
    "\n",
    "        if not self.is_empty():\n",
    "            \n",
    "            while current and  current.data != value:\n",
    "                current = current.next\n",
    "            \n",
    "            if current:\n",
    "                newNode.next = current.next\n",
    "                current.next = newNode\n",
    "            else:\n",
    "                return 'Value Not Found'\n",
    "\n",
    "    def insert_after_index(self, index, data):\n",
    "        ind = 0\n",
    "        current = self.head\n",
    "        new_node = Node(data)\n",
    "        if not self.is_empty():\n",
    "            while ind != index:\n",
    "                ind += 1\n",
    "                current = current.next\n",
    "\n",
    "            new_node.next = current.next\n",
    "            current.next = new_node\n",
    "\n",
    "    # Deletion Operation\n",
    "\n",
    "    def delete_at_start(self):\n",
    "        if self.is_empty():\n",
    "            return \"Cannot Delete - Empty List\"\n",
    "\n",
    "        self.head = self.head.next\n",
    "\n",
    "    def delete_at_last(self):\n",
    "        if self.is_empty():\n",
    "            return \"Cannot Delete - Empty List\"\n",
    "\n",
    "        current = self.head\n",
    "        if current.next == None:\n",
    "            return self.delete_at_start()\n",
    "\n",
    "        while current.next != None and current.next.next != None:\n",
    "            current = current.next\n",
    "\n",
    "        current.next = None\n",
    "\n",
    "    def delete_value(self, value):\n",
    "        if self.is_empty():\n",
    "            return None\n",
    "\n",
    "        current = self.head\n",
    "\n",
    "        if self.head.data == value:\n",
    "            return self.delete_at_start()\n",
    "\n",
    "        while current.next and current.next.data != value:\n",
    "            \n",
    "            current = current.next\n",
    "            \n",
    "        if current.next == None:\n",
    "                return 'Value Not Found in List'\n",
    "            \n",
    "        current.next = current.next.next\n",
    "\n",
    "        \n",
    "\n",
    "    def delete_at_index(self, index):\n",
    "\n",
    "        if index < 0:\n",
    "             return (\"Index cannot be negative\")\n",
    "\n",
    "        if self.is_empty():\n",
    "            return 'Empty list'\n",
    "\n",
    "        if index == 0: return self.delete_at_start()\n",
    "\n",
    "        current = self.head\n",
    "        previous = None\n",
    "\n",
    "        ind = 0\n",
    "        while current and ind < index:\n",
    "            if current.next == None:\n",
    "                return 'Index Error'\n",
    "\n",
    "            previous = current\n",
    "            current = current.next\n",
    "            \n",
    "            ind += 1\n",
    "\n",
    "        if current == None: return 'Index Error'\n",
    "\n",
    "        if current.next == None:\n",
    "            previous.next = None\n",
    "            return\n",
    "\n",
    "        previous.next = current.next\n",
    "    \n",
    "\n",
    "\n",
    "    # Searching (by value)\n",
    "    def search(self, value):\n",
    "        current = self.head\n",
    "        index = 0\n",
    "        \n",
    "        while current != None:\n",
    "            if current.data == value:\n",
    "                return f'{value} found on index {index}'\n",
    "            current = current.next\n",
    "            index += 1            \n",
    "        return -1\n",
    "            \n",
    "    # Traversal\n",
    "    def traverse(self):\n",
    "        current = self.head\n",
    "\n",
    "        ans = ''\n",
    "        while current != None:\n",
    "            ans = ans + (str(current.data) + \" -> \")\n",
    "            current = current.next\n",
    "\n",
    "        return ans[:-4]\n",
    "\n",
    "    def __iter__(self):\n",
    "        return LinkedListIterator(self.head)\n",
    "\n",
    "    \n",
    "\n",
    "        \n",
    "        \n",
    "    \n"
   ]
  },
  {
   "cell_type": "code",
   "execution_count": 104,
   "id": "c181e10a-9eb1-4932-9ca9-31ff68510b0e",
   "metadata": {},
   "outputs": [],
   "source": [
    "class LinkedListIterator:\n",
    "    def __init__(self, head):\n",
    "        self.current = head\n",
    "    def __iter__(self):\n",
    "        return self\n",
    "    def __next__(self):\n",
    "        if not self.current:\n",
    "            raise StopIteration\n",
    "        data = self.current.data\n",
    "        self.current = self.current.next\n",
    "        return data"
   ]
  },
  {
   "cell_type": "code",
   "execution_count": 105,
   "id": "5281cc8c-f239-460f-87db-12c0d706165d",
   "metadata": {},
   "outputs": [],
   "source": [
    "l1 = LinkedList()"
   ]
  },
  {
   "cell_type": "code",
   "execution_count": 106,
   "id": "045496f2-ac57-4145-99d5-60cb241d0143",
   "metadata": {},
   "outputs": [],
   "source": [
    "l1.insert_at_start(11)\n",
    "l1.insert_at_start(22)\n",
    "l1.insert_at_start(33)\n",
    "l1.insert_at_start(44)\n",
    "l1.insert_at_start(55)\n",
    "l1.insert_at_start(66)"
   ]
  },
  {
   "cell_type": "code",
   "execution_count": 107,
   "id": "54a51ed3-8e7d-4ad4-b800-7f04a2269ab5",
   "metadata": {},
   "outputs": [
    {
     "name": "stdout",
     "output_type": "stream",
     "text": [
      "66\n",
      "55\n",
      "44\n",
      "33\n",
      "22\n",
      "11\n"
     ]
    }
   ],
   "source": [
    "for i in l1:\n",
    "    print(i)"
   ]
  },
  {
   "cell_type": "code",
   "execution_count": 108,
   "id": "af95d02b-56f7-4fe4-85bb-c94ec28b4ce5",
   "metadata": {},
   "outputs": [
    {
     "data": {
      "text/plain": [
       "False"
      ]
     },
     "execution_count": 108,
     "metadata": {},
     "output_type": "execute_result"
    }
   ],
   "source": [
    "l1.is_empty()"
   ]
  },
  {
   "cell_type": "code",
   "execution_count": 109,
   "id": "1d76f290-28d6-4389-87dd-8bb0ae0927de",
   "metadata": {},
   "outputs": [
    {
     "data": {
      "text/plain": [
       "False"
      ]
     },
     "execution_count": 109,
     "metadata": {},
     "output_type": "execute_result"
    }
   ],
   "source": [
    "l1.is_empty()"
   ]
  },
  {
   "cell_type": "code",
   "execution_count": 110,
   "id": "79312b92-0085-4cb9-9511-0a800be82371",
   "metadata": {},
   "outputs": [
    {
     "data": {
      "text/plain": [
       "'66 -> 55 -> 44 -> 33 -> 22 -> 11'"
      ]
     },
     "execution_count": 110,
     "metadata": {},
     "output_type": "execute_result"
    }
   ],
   "source": [
    "l1.traverse()"
   ]
  },
  {
   "cell_type": "code",
   "execution_count": 111,
   "id": "63d8b5c1-25f4-4ba4-970b-f7bbeb8f50b9",
   "metadata": {},
   "outputs": [],
   "source": [
    "l1.insert_at_end(22)"
   ]
  },
  {
   "cell_type": "code",
   "execution_count": 112,
   "id": "0dc30906-c3d9-4022-b9cd-0f7af270bb90",
   "metadata": {},
   "outputs": [
    {
     "data": {
      "text/plain": [
       "'66 -> 55 -> 44 -> 33 -> 22 -> 11 -> 22'"
      ]
     },
     "execution_count": 112,
     "metadata": {},
     "output_type": "execute_result"
    }
   ],
   "source": [
    "l1.traverse()"
   ]
  },
  {
   "cell_type": "code",
   "execution_count": 113,
   "id": "53d430c5-48d6-4d5c-b586-05ba3cc640b2",
   "metadata": {},
   "outputs": [
    {
     "data": {
      "text/plain": [
       "'22 found on index 4'"
      ]
     },
     "execution_count": 113,
     "metadata": {},
     "output_type": "execute_result"
    }
   ],
   "source": [
    "l1.search(22)"
   ]
  },
  {
   "cell_type": "code",
   "execution_count": 114,
   "id": "6d3602fc-b2d6-47eb-a3ce-9eb72f9a40e4",
   "metadata": {},
   "outputs": [],
   "source": [
    "l1.insert_after_value(11, 33)"
   ]
  },
  {
   "cell_type": "code",
   "execution_count": 115,
   "id": "0dffc82f-16f0-4da7-8426-acf40f4037b0",
   "metadata": {},
   "outputs": [
    {
     "data": {
      "text/plain": [
       "'66 -> 55 -> 44 -> 33 -> 22 -> 11 -> 33 -> 22'"
      ]
     },
     "execution_count": 115,
     "metadata": {},
     "output_type": "execute_result"
    }
   ],
   "source": [
    "l1.traverse()"
   ]
  },
  {
   "cell_type": "code",
   "execution_count": 116,
   "id": "dc755211-665a-4093-b737-5245b807034c",
   "metadata": {},
   "outputs": [],
   "source": [
    "l1.insert_after_index(1, 23)"
   ]
  },
  {
   "cell_type": "code",
   "execution_count": 117,
   "id": "2f6322aa-32d1-4a01-90e0-3bc2b6a648dd",
   "metadata": {},
   "outputs": [
    {
     "data": {
      "text/plain": [
       "'66 -> 55 -> 23 -> 44 -> 33 -> 22 -> 11 -> 33 -> 22'"
      ]
     },
     "execution_count": 117,
     "metadata": {},
     "output_type": "execute_result"
    }
   ],
   "source": [
    "l1.traverse()"
   ]
  },
  {
   "cell_type": "code",
   "execution_count": 118,
   "id": "f5364493-0d6e-456d-a4d4-2e2d528580c4",
   "metadata": {},
   "outputs": [],
   "source": [
    "l1.delete_at_start()"
   ]
  },
  {
   "cell_type": "code",
   "execution_count": 119,
   "id": "a0162911-7087-4716-a395-c68567863ec9",
   "metadata": {},
   "outputs": [
    {
     "data": {
      "text/plain": [
       "'55 -> 23 -> 44 -> 33 -> 22 -> 11 -> 33 -> 22'"
      ]
     },
     "execution_count": 119,
     "metadata": {},
     "output_type": "execute_result"
    }
   ],
   "source": [
    "l1.traverse()"
   ]
  },
  {
   "cell_type": "code",
   "execution_count": 120,
   "id": "5cf4b651-5e62-46ab-9e71-4f610e3a51f7",
   "metadata": {},
   "outputs": [],
   "source": [
    "l1.delete_at_last()"
   ]
  },
  {
   "cell_type": "code",
   "execution_count": 121,
   "id": "f4f38679-a1b7-4ca8-a476-48af7bae544a",
   "metadata": {},
   "outputs": [
    {
     "data": {
      "text/plain": [
       "'55 -> 23 -> 44 -> 33 -> 22 -> 11 -> 33'"
      ]
     },
     "execution_count": 121,
     "metadata": {},
     "output_type": "execute_result"
    }
   ],
   "source": [
    "l1.traverse()"
   ]
  },
  {
   "cell_type": "code",
   "execution_count": 122,
   "id": "8ec8c318-a1b1-4667-8131-015f476b7350",
   "metadata": {},
   "outputs": [],
   "source": [
    "l1.delete_value(11)"
   ]
  },
  {
   "cell_type": "code",
   "execution_count": 123,
   "id": "9200affe-12dc-450e-a3cc-549371e39a89",
   "metadata": {},
   "outputs": [
    {
     "data": {
      "text/plain": [
       "'55 -> 23 -> 44 -> 33 -> 22 -> 33'"
      ]
     },
     "execution_count": 123,
     "metadata": {},
     "output_type": "execute_result"
    }
   ],
   "source": [
    "l1.traverse()"
   ]
  },
  {
   "cell_type": "code",
   "execution_count": 124,
   "id": "dd62b93a-fa48-44c6-b078-3113ea023de0",
   "metadata": {},
   "outputs": [],
   "source": [
    "l1.delete_at_index(1)"
   ]
  },
  {
   "cell_type": "code",
   "execution_count": 125,
   "id": "a1f9ca1e-8125-4f90-843e-1da06f9fb022",
   "metadata": {},
   "outputs": [
    {
     "data": {
      "text/plain": [
       "'55 -> 44 -> 33 -> 22 -> 33'"
      ]
     },
     "execution_count": 125,
     "metadata": {},
     "output_type": "execute_result"
    }
   ],
   "source": [
    "l1.traverse()"
   ]
  },
  {
   "cell_type": "code",
   "execution_count": null,
   "id": "20bf39b6-ddfc-4f87-8d22-4085bdb9a678",
   "metadata": {},
   "outputs": [],
   "source": []
  },
  {
   "cell_type": "code",
   "execution_count": null,
   "id": "d99b6518-03f6-4735-8ca7-16ea37a249a4",
   "metadata": {},
   "outputs": [],
   "source": []
  },
  {
   "cell_type": "code",
   "execution_count": null,
   "id": "83d4cf6e-e3c9-44ef-b0f3-8e8e8d511cf1",
   "metadata": {},
   "outputs": [],
   "source": []
  },
  {
   "cell_type": "code",
   "execution_count": null,
   "id": "7c1614d3-9043-48e0-bc57-0a56fe9c56ac",
   "metadata": {},
   "outputs": [],
   "source": []
  },
  {
   "cell_type": "code",
   "execution_count": null,
   "id": "09f61b16-772a-4e1a-a187-289c289150cf",
   "metadata": {},
   "outputs": [],
   "source": []
  },
  {
   "cell_type": "code",
   "execution_count": null,
   "id": "a2177a7a-a7a1-45e2-a174-0cdfe5822513",
   "metadata": {},
   "outputs": [],
   "source": []
  },
  {
   "cell_type": "code",
   "execution_count": null,
   "id": "219cb84a-c906-435d-9837-1c9f5ab68edf",
   "metadata": {},
   "outputs": [],
   "source": []
  },
  {
   "cell_type": "code",
   "execution_count": null,
   "id": "fc213b25-f97e-4a5c-be04-ee728379fde9",
   "metadata": {},
   "outputs": [],
   "source": []
  },
  {
   "cell_type": "code",
   "execution_count": null,
   "id": "4172b273-e8bb-42bc-91a0-d91e3bfe427d",
   "metadata": {},
   "outputs": [],
   "source": []
  },
  {
   "cell_type": "code",
   "execution_count": null,
   "id": "892360ad-b720-47bf-b4ac-edaf9413fe5f",
   "metadata": {},
   "outputs": [],
   "source": []
  },
  {
   "cell_type": "code",
   "execution_count": null,
   "id": "87abb01a-63cb-44be-98ce-0a8035343290",
   "metadata": {},
   "outputs": [],
   "source": []
  },
  {
   "cell_type": "code",
   "execution_count": null,
   "id": "09f4037e-aaca-43ef-abee-6172fc5a70f4",
   "metadata": {},
   "outputs": [],
   "source": []
  },
  {
   "cell_type": "code",
   "execution_count": null,
   "id": "5759a041-d582-4a77-9491-032536799707",
   "metadata": {},
   "outputs": [],
   "source": []
  },
  {
   "cell_type": "code",
   "execution_count": null,
   "id": "d3b23e31-83ff-4136-81f2-e8262e6c5dc9",
   "metadata": {},
   "outputs": [],
   "source": []
  },
  {
   "cell_type": "code",
   "execution_count": null,
   "id": "17fa7c55-593b-4f54-b0e0-96fe10e588b4",
   "metadata": {},
   "outputs": [],
   "source": []
  }
 ],
 "metadata": {
  "kernelspec": {
   "display_name": "Python 3 (ipykernel)",
   "language": "python",
   "name": "python3"
  },
  "language_info": {
   "codemirror_mode": {
    "name": "ipython",
    "version": 3
   },
   "file_extension": ".py",
   "mimetype": "text/x-python",
   "name": "python",
   "nbconvert_exporter": "python",
   "pygments_lexer": "ipython3",
   "version": "3.12.3"
  }
 },
 "nbformat": 4,
 "nbformat_minor": 5
}
