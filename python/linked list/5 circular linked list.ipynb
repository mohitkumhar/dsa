{
 "cells": [
  {
   "cell_type": "markdown",
   "id": "a421d7ba-e2fd-43c8-b963-cfb61d584049",
   "metadata": {},
   "source": [
    "# <center>Circular Linked List</center>"
   ]
  },
  {
   "cell_type": "markdown",
   "id": "dd359e69-cd46-4b71-8274-ef773d847ea9",
   "metadata": {},
   "source": [
    "A type of linked list where the last node points back to the first node, forming a circle."
   ]
  },
  {
   "cell_type": "markdown",
   "id": "e6647432-d03f-4032-84ee-6f9930cf57ea",
   "metadata": {},
   "source": [
    "# Advantages\n"
   ]
  },
  {
   "cell_type": "markdown",
   "id": "a46feb8a-647b-4a53-b164-bca01cb04dce",
   "metadata": {},
   "source": [
    "<li> There are no null pointers, making it easier to traverse the entire list from any node.\n",
    "<li> Ideal for applications where data needs to be accessed in a circular manner (e.g., round-robin scheduling)."
   ]
  },
  {
   "cell_type": "markdown",
   "id": "9f87c2bb-9d8b-4d1a-a610-3ecb1c295e3b",
   "metadata": {},
   "source": [
    "# Disadvantages"
   ]
  },
  {
   "cell_type": "markdown",
   "id": "6c372257-2f02-4909-833c-791a1fdad412",
   "metadata": {},
   "source": [
    "<li> More complex to implement and manage compared to a singly linked list.\n",
    "<li> Traversing to find the end of the list requires additional checks to avoid infinite loops."
   ]
  },
  {
   "cell_type": "markdown",
   "id": "0905d0cf-1511-439a-bc6b-09b635c1139c",
   "metadata": {},
   "source": [
    "# Important Operations of Circular Linked List"
   ]
  },
  {
   "cell_type": "markdown",
   "id": "d8fcf337-8cc4-48e3-a53b-8c6a6adb1bc8",
   "metadata": {},
   "source": [
    "<pre>\n",
    "&rarr; Insertion\n",
    "        &rarr; Insert at the beginning\n",
    "        &rarr; Insert at the end\n",
    "\n",
    "&rarr; Deletion\n",
    "        &rarr; Delete a node from the beginning\n",
    "        &rarr; Delete a node from the end\n",
    "\n",
    "&rarr; Traversal\n",
    "        &rarr; Traverse forward\n",
    "        &rarr; Traverse backward\n",
    "\n",
    "    \n",
    "&rarr; Searching:\n",
    "    &rarr; search_value()\n",
    "    &rarr; search_index()\n",
    "\n",
    "\n",
    "    \n",
    "&rarr; is_empty()\n",
    "&rarr; find_length()\n",
    "&rarr; find_middle_element()\n",
    "&rarr; reverse()\n",
    "    \n",
    "    \n",
    "\n",
    "\n",
    "</pre>"
   ]
  },
  {
   "cell_type": "code",
   "execution_count": null,
   "id": "740aa25c-3070-42da-a5bd-ad748d0c2ecb",
   "metadata": {},
   "outputs": [],
   "source": []
  },
  {
   "cell_type": "code",
   "execution_count": null,
   "id": "36dc09b9-9013-42d5-b2f4-84fe80eb160c",
   "metadata": {},
   "outputs": [],
   "source": []
  }
 ],
 "metadata": {
  "kernelspec": {
   "display_name": "Python 3 (ipykernel)",
   "language": "python",
   "name": "python3"
  },
  "language_info": {
   "codemirror_mode": {
    "name": "ipython",
    "version": 3
   },
   "file_extension": ".py",
   "mimetype": "text/x-python",
   "name": "python",
   "nbconvert_exporter": "python",
   "pygments_lexer": "ipython3",
   "version": "3.12.3"
  }
 },
 "nbformat": 4,
 "nbformat_minor": 5
}
