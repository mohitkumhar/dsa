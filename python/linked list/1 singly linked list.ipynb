{
 "cells": [
  {
   "cell_type": "markdown",
   "id": "73987eeb-666a-45e2-bd76-071c103b5c59",
   "metadata": {},
   "source": [
    "<h1>\n",
    "    <center>Singly Linked List</center>\n",
    "</h1>"
   ]
  },
  {
   "cell_type": "markdown",
   "id": "1ebb8042-2ed6-44b0-85c2-89fb3264e8a2",
   "metadata": {},
   "source": [
    "# What is list?\n",
    "<h4>\n",
    "    <pre>\n",
    "List is a linear collection of data items\n",
    "    also known as List Item\n",
    "    </pre>\n",
    "</h4>"
   ]
  },
  {
   "cell_type": "markdown",
   "id": "342133a6-49da-4dfe-86c4-606376f9a395",
   "metadata": {},
   "source": [
    "<hr>"
   ]
  },
  {
   "cell_type": "markdown",
   "id": "c9bc4435-83b0-48fb-a1b4-ea178480467a",
   "metadata": {},
   "source": [
    "# What is Singly Linked List?\n",
    "<h4>\n",
    "    A singly linked list is a sequence of nodes where each node contains data and a link to the next node. The list starts with a head node and ends with a node pointing to None\n",
    "</h4>\n",
    "\n",
    "<pre>\n",
    "    Head -> [Data | Next] -> [Data | Next] -> [Data | Next] -> None\n",
    "</pre>"
   ]
  },
  {
   "cell_type": "markdown",
   "id": "5aee4d58-6893-4929-9f22-0b86bf79b665",
   "metadata": {},
   "source": [
    "# Singly Linked List Creation"
   ]
  },
  {
   "cell_type": "code",
   "execution_count": 3,
   "id": "5d3cd756-4e9c-4b0f-a64e-c0d416ecf395",
   "metadata": {},
   "outputs": [],
   "source": [
    "class Node:\n",
    "    def __init__(self, data):\n",
    "        self.data=data\n",
    "        self.next=None\n",
    "        \n"
   ]
  },
  {
   "cell_type": "markdown",
   "id": "433b505b-edd2-4590-8d82-3f7a179d4c11",
   "metadata": {},
   "source": [
    "&rarr; operations on Singly Linked list\n",
    "<pre>\n",
    "     &rarr; insertion\n",
    "         &rarr; insert_at_start()\n",
    "         &rarr; insert_at_last()\n",
    "         &rarr; insert_after_value()\n",
    "         &rarr; insert_after_index()\n",
    "         \n",
    "    \n",
    "     &rarr; deletion\n",
    "         &rarr; deletion_at_start()\n",
    "         &rarr; deletion_at_last()\n",
    "         &rarr; deletion_at_value()\n",
    "         &rarr; deletion_at_index()\n",
    "    \n",
    "     &rarr; is_empty()\n",
    "     &rarr; traverse()\n",
    "     &rarr; search()\n",
    "     &rarr; update/modification()\n",
    "     &rarr; reverse()\n",
    "     &rarr; find_length()\n",
    "     &rarr; find_middle_element()\n",
    "    \n",
    "    \n",
    "    \n",
    "    \n",
    "</pre>"
   ]
  },
  {
   "cell_type": "markdown",
   "id": "32d2a54f-6f90-4877-98e0-d32906568f56",
   "metadata": {},
   "source": [
    "# Limitation of Singly Linked List"
   ]
  },
  {
   "cell_type": "markdown",
   "id": "f06d80ea-59d1-4595-8376-22419ae8c2a4",
   "metadata": {},
   "source": [
    "<li> You can only traverse the list in one direction, from the head to the end.\n",
    "<li> Accessing an element by index requires traversing the list from the head, which can be slow for large lists.\n",
    "<li> Each node requires extra memory for a pointer to the next node, in addition to the data itself."
   ]
  }
 ],
 "metadata": {
  "kernelspec": {
   "display_name": "Python 3 (ipykernel)",
   "language": "python",
   "name": "python3"
  },
  "language_info": {
   "codemirror_mode": {
    "name": "ipython",
    "version": 3
   },
   "file_extension": ".py",
   "mimetype": "text/x-python",
   "name": "python",
   "nbconvert_exporter": "python",
   "pygments_lexer": "ipython3",
   "version": "3.12.3"
  }
 },
 "nbformat": 4,
 "nbformat_minor": 5
}
