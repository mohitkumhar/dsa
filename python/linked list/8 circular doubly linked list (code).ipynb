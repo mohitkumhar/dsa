{
 "cells": [
  {
   "cell_type": "code",
   "execution_count": 6,
   "id": "75882070-5ff3-4659-a5d1-bb800786df1e",
   "metadata": {},
   "outputs": [],
   "source": [
    "class Node:\n",
    "    def __init__(self, data=0, right=None, left=None):\n",
    "        self.data = data\n",
    "        self.right = right\n",
    "        self.left = left"
   ]
  },
  {
   "cell_type": "code",
   "execution_count": 7,
   "id": "0cd30c03-0700-4531-aa3c-7c7b1c8081f8",
   "metadata": {},
   "outputs": [],
   "source": [
    "class LinkedList:\n",
    "    def __init__(self):\n",
    "        self.head = None\n",
    "        self.next = None\n",
    "        self.prev = None        \n",
    "\n",
    "    def is_empty(self):\n",
    "        return self.head == None\n",
    "\n",
    "\n",
    "    # Insertion Operation\n",
    "\n",
    "    def insert_first(self, data):\n",
    "        new_node = Node(data)\n",
    "        \n",
    "        if self.is_empty():\n",
    "            new_node.next = new_node\n",
    "            new_node.prev = new_node\n",
    "            self.head = new_node\n",
    "        \n",
    "        else:\n",
    "            tail = self.head.prev\n",
    "            tail.next = new_node\n",
    "            self.head.prev = new_node\n",
    "            new_node.next= self.head\n",
    "            new_node.prev = tail\n",
    "            self.head = new_node\n",
    "\n",
    "    def insert_last(self, data):\n",
    "        if self.is_empty():\n",
    "            return self.insert_first(data)\n",
    "\n",
    "\n",
    "        last = self.head.prev\n",
    "        \n",
    "        new_node = Node(data)\n",
    "        new_node.next = last.next\n",
    "        new_node.prev = last\n",
    "        last.next = new_node\n",
    "        self.head.prev = new_node\n",
    "\n",
    "    # def insert_after_value()\n",
    "    # def insert_after_index()\n",
    "\n",
    "\n",
    "    # Deletion Operation\n",
    "\n",
    "    def delete_start(self):\n",
    "        if self.is_empty():\n",
    "            return 'Cannot Delete! Empty Linked List'\n",
    "\n",
    "        if self.head.next == self.head:\n",
    "            self.head = None\n",
    "            return\n",
    "\n",
    "        tail = self.head.prev\n",
    "\n",
    "        tail.next = tail.next.next\n",
    "        self.head = self.head.next\n",
    "        self.head.prev = tail\n",
    "\n",
    "    def delete_end(self):\n",
    "        if self.is_empty():\n",
    "            return 'Cannot Delete! Empty Linked List'\n",
    "\n",
    "        if self.head.next == self.head:\n",
    "            self.head = None\n",
    "            return \n",
    "\n",
    "        tail = self.head.prev\n",
    "        tail = tail.prev\n",
    "        tail.next = self.head\n",
    "        self.head.prev = tail\n",
    "\n",
    "\n",
    "    # Searching\n",
    "\n",
    "    def search(self, value):\n",
    "        if self.is_empty():\n",
    "            return 'Empty Linked List! Cannot Search'\n",
    "\n",
    "        current = self.head\n",
    "        index = 0\n",
    "        \n",
    "        while current is not None:\n",
    "            if current.data == value:\n",
    "                return index\n",
    "            index += 1\n",
    "            current = current.next\n",
    "\n",
    "        return 'Value Not Found in Linked List'\n",
    "\n",
    "    \n",
    "\n",
    "        \n",
    "\n",
    "    \n",
    "        \n",
    "        \n",
    "            \n",
    "    # Traversal\n",
    "\n",
    "    def traversal(self):\n",
    "        if self.is_empty():\n",
    "            return 'Empty Linked List! Cannot Traverse'\n",
    "\n",
    "        current = self.head\n",
    "        string = ''\n",
    "        while True:\n",
    "            string = string + str(current.data) + ' -> '\n",
    "            current = current.next\n",
    "            if current == self.head:\n",
    "                break\n",
    "\n",
    "        return string[:-4]\n",
    "\n",
    "    def __iter__(self):\n",
    "        return Iterator(self.head)\n",
    "\n",
    "        \n",
    "\n",
    "            \n",
    "            "
   ]
  },
  {
   "cell_type": "code",
   "execution_count": 8,
   "id": "ba2ee2a6-cf5d-4947-8c54-994f28bea0a7",
   "metadata": {},
   "outputs": [],
   "source": [
    "class Iterator:\n",
    "    def __init__(self, head):\n",
    "        self.current = head\n",
    "        self.start = head\n",
    "        self.count = 0\n",
    "    def __iter__(self):\n",
    "        return self\n",
    "    def __next__(self):\n",
    "        if self.current is None:\n",
    "            raise StopIteration\n",
    "        if self.current == self.start and self.count:\n",
    "            raise StopIteration\n",
    "\n",
    "        self.count = 1\n",
    "        data = self.current.data\n",
    "        self.current = self.current.next\n",
    "        return data\n",
    "        "
   ]
  },
  {
   "cell_type": "code",
   "execution_count": 9,
   "id": "eaf59380-0935-4655-9b52-447f1eda32ae",
   "metadata": {},
   "outputs": [],
   "source": [
    "l1 = LinkedList()"
   ]
  },
  {
   "cell_type": "code",
   "execution_count": 10,
   "id": "81a1624d-88cc-4a89-b061-c496b6cef452",
   "metadata": {},
   "outputs": [
    {
     "data": {
      "text/plain": [
       "True"
      ]
     },
     "execution_count": 10,
     "metadata": {},
     "output_type": "execute_result"
    }
   ],
   "source": [
    "l1.is_empty()"
   ]
  },
  {
   "cell_type": "code",
   "execution_count": 11,
   "id": "af06d175-62f5-451a-8063-b1e7dbd5c44b",
   "metadata": {},
   "outputs": [],
   "source": [
    "l1.insert_first(33)\n",
    "l1.insert_first(22)\n",
    "l1.insert_first(11)"
   ]
  },
  {
   "cell_type": "code",
   "execution_count": 12,
   "id": "e8ed5266-7ac8-4e29-8a68-fb7dd9055589",
   "metadata": {},
   "outputs": [
    {
     "name": "stdout",
     "output_type": "stream",
     "text": [
      "11\n",
      "22\n",
      "33\n"
     ]
    }
   ],
   "source": [
    "for i in l1:\n",
    "    print(i)"
   ]
  },
  {
   "cell_type": "code",
   "execution_count": 13,
   "id": "32140736-ccd2-44f6-b160-053446cc1858",
   "metadata": {},
   "outputs": [
    {
     "data": {
      "text/plain": [
       "False"
      ]
     },
     "execution_count": 13,
     "metadata": {},
     "output_type": "execute_result"
    }
   ],
   "source": [
    "l1.is_empty()"
   ]
  },
  {
   "cell_type": "code",
   "execution_count": 14,
   "id": "a79f2809-c710-429d-b71b-bceb4f2984de",
   "metadata": {},
   "outputs": [
    {
     "data": {
      "text/plain": [
       "'11 -> 22 -> 33'"
      ]
     },
     "execution_count": 14,
     "metadata": {},
     "output_type": "execute_result"
    }
   ],
   "source": [
    "l1.traversal()"
   ]
  },
  {
   "cell_type": "code",
   "execution_count": 15,
   "id": "375e0023-4571-4442-8c3d-3df27512fec3",
   "metadata": {},
   "outputs": [],
   "source": [
    "l1.insert_last(55)"
   ]
  },
  {
   "cell_type": "code",
   "execution_count": 16,
   "id": "5f11cdb5-8d43-4c73-9e59-70256c1a4bef",
   "metadata": {},
   "outputs": [
    {
     "data": {
      "text/plain": [
       "'11 -> 22 -> 33 -> 55'"
      ]
     },
     "execution_count": 16,
     "metadata": {},
     "output_type": "execute_result"
    }
   ],
   "source": [
    "l1.traversal()"
   ]
  },
  {
   "cell_type": "code",
   "execution_count": 17,
   "id": "b7d76077-a0b5-4228-a318-ad0cb9012aa1",
   "metadata": {},
   "outputs": [],
   "source": [
    "l1.delete_start()"
   ]
  },
  {
   "cell_type": "code",
   "execution_count": 18,
   "id": "db4cab24-c560-4188-ad23-e19140f01b60",
   "metadata": {},
   "outputs": [
    {
     "data": {
      "text/plain": [
       "'22 -> 33 -> 55'"
      ]
     },
     "execution_count": 18,
     "metadata": {},
     "output_type": "execute_result"
    }
   ],
   "source": [
    "l1.traversal()"
   ]
  },
  {
   "cell_type": "code",
   "execution_count": 19,
   "id": "c6ce6b0c-7891-4040-b2d9-f3fd8362884f",
   "metadata": {},
   "outputs": [],
   "source": [
    "l1.delete_end()"
   ]
  },
  {
   "cell_type": "code",
   "execution_count": 20,
   "id": "b2ef0c5d-7ec7-4d9b-b4b7-8b4d046067ea",
   "metadata": {},
   "outputs": [
    {
     "data": {
      "text/plain": [
       "'22 -> 33'"
      ]
     },
     "execution_count": 20,
     "metadata": {},
     "output_type": "execute_result"
    }
   ],
   "source": [
    "l1.traversal()"
   ]
  },
  {
   "cell_type": "code",
   "execution_count": null,
   "id": "13efd82f-a8cd-4e0b-a960-36e48cbd9258",
   "metadata": {},
   "outputs": [],
   "source": []
  },
  {
   "cell_type": "code",
   "execution_count": null,
   "id": "1de5f57d-7c50-4f24-a1ba-60eb7df128e8",
   "metadata": {},
   "outputs": [],
   "source": []
  },
  {
   "cell_type": "code",
   "execution_count": null,
   "id": "85df8d7a-094e-40e1-922d-00d5ff7991e6",
   "metadata": {},
   "outputs": [],
   "source": []
  },
  {
   "cell_type": "code",
   "execution_count": null,
   "id": "8e52621e-773b-4bb6-95dc-84ecbdafeab6",
   "metadata": {},
   "outputs": [],
   "source": []
  },
  {
   "cell_type": "code",
   "execution_count": null,
   "id": "d11d8a75-257f-4e35-bf4a-38576cb11a20",
   "metadata": {},
   "outputs": [],
   "source": []
  },
  {
   "cell_type": "code",
   "execution_count": null,
   "id": "2bc61ff6-9a9b-4514-ad54-81ac0d38151a",
   "metadata": {},
   "outputs": [],
   "source": []
  },
  {
   "cell_type": "code",
   "execution_count": null,
   "id": "7b722ef7-7e7b-463e-92e7-168196f1fe31",
   "metadata": {},
   "outputs": [],
   "source": []
  },
  {
   "cell_type": "code",
   "execution_count": null,
   "id": "0ff958d8-666d-4db4-b1b5-42e58a602c9e",
   "metadata": {},
   "outputs": [],
   "source": []
  },
  {
   "cell_type": "code",
   "execution_count": null,
   "id": "fff6b62b-5e80-4a0e-948e-a3d1ac85f921",
   "metadata": {},
   "outputs": [],
   "source": []
  },
  {
   "cell_type": "code",
   "execution_count": null,
   "id": "ff4c90e7-e14d-4af3-bba6-1a1f957954c2",
   "metadata": {},
   "outputs": [],
   "source": []
  },
  {
   "cell_type": "code",
   "execution_count": null,
   "id": "5dde3854-0090-454a-931c-2df236e88591",
   "metadata": {},
   "outputs": [],
   "source": []
  },
  {
   "cell_type": "code",
   "execution_count": null,
   "id": "5d154cff-3e74-4e8a-b533-a203e772ea38",
   "metadata": {},
   "outputs": [],
   "source": []
  },
  {
   "cell_type": "code",
   "execution_count": null,
   "id": "6add204a-49ac-44d4-820b-d0adc2d6818c",
   "metadata": {},
   "outputs": [],
   "source": []
  },
  {
   "cell_type": "code",
   "execution_count": null,
   "id": "b3597eb5-3bfc-4ea3-baff-47bc005afbe8",
   "metadata": {},
   "outputs": [],
   "source": []
  },
  {
   "cell_type": "code",
   "execution_count": null,
   "id": "c6fc7dbb-d05e-4897-b590-de1c559a3412",
   "metadata": {},
   "outputs": [],
   "source": []
  },
  {
   "cell_type": "code",
   "execution_count": null,
   "id": "3b31e054-8019-4685-afc5-0aff355eb25c",
   "metadata": {},
   "outputs": [],
   "source": []
  },
  {
   "cell_type": "code",
   "execution_count": null,
   "id": "9c5de756-f868-45f7-b4ea-8165ea4e417d",
   "metadata": {},
   "outputs": [],
   "source": []
  },
  {
   "cell_type": "code",
   "execution_count": null,
   "id": "c74b9fd4-4728-44b0-a19b-6f8add537bee",
   "metadata": {},
   "outputs": [],
   "source": []
  }
 ],
 "metadata": {
  "kernelspec": {
   "display_name": "Python 3 (ipykernel)",
   "language": "python",
   "name": "python3"
  },
  "language_info": {
   "codemirror_mode": {
    "name": "ipython",
    "version": 3
   },
   "file_extension": ".py",
   "mimetype": "text/x-python",
   "name": "python",
   "nbconvert_exporter": "python",
   "pygments_lexer": "ipython3",
   "version": "3.12.3"
  }
 },
 "nbformat": 4,
 "nbformat_minor": 5
}
