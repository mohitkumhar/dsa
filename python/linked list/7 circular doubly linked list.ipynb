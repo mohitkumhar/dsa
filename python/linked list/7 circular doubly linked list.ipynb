{
 "cells": [
  {
   "cell_type": "markdown",
   "id": "45cc3c0c-58cf-4c10-9a04-420aa7126035",
   "metadata": {},
   "source": [
    "# <center>Circular Doubly Linked List </center>\n",
    "\n",
    "A Circular Doubly Linked List is a type of linked list where each node has pointers to both the next and previous nodes, and the last node points back to the first node, forming a circle.\n"
   ]
  },
  {
   "cell_type": "markdown",
   "id": "e41c3da3-62a4-4068-a836-5226c585f2dc",
   "metadata": {},
   "source": [
    "<pre>\n",
    "&rarr; Advantages\n",
    "    &rarr; You can move both forwards and backwards through the list.\n",
    "    &rarr; The list has no end, which is useful for applications requiring continuous looping, like in some gaming scenarios.\n",
    "    &rarr; Adding or removing nodes can be done easily from both ends without needing to shift other elements.\n",
    "\n",
    "    \n",
    "&rarr; Disadvantages\n",
    "    &rarr;  More pointers mean more complex implementation and management compared to a singly linked list.\n",
    "    &rarr; Requires more memory to store both next and previous pointers for each node.\n",
    "    &rarr; Improper handling can lead to infinite loops since there's no null end to stop traversal.\n",
    "</pre>"
   ]
  },
  {
   "cell_type": "code",
   "execution_count": null,
   "id": "9d49d86a-d3f9-45d4-b40f-0c3954130e7b",
   "metadata": {},
   "outputs": [],
   "source": []
  }
 ],
 "metadata": {
  "kernelspec": {
   "display_name": "Python 3 (ipykernel)",
   "language": "python",
   "name": "python3"
  },
  "language_info": {
   "codemirror_mode": {
    "name": "ipython",
    "version": 3
   },
   "file_extension": ".py",
   "mimetype": "text/x-python",
   "name": "python",
   "nbconvert_exporter": "python",
   "pygments_lexer": "ipython3",
   "version": "3.12.3"
  }
 },
 "nbformat": 4,
 "nbformat_minor": 5
}
