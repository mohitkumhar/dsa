{
 "cells": [
  {
   "cell_type": "markdown",
   "id": "df532dcd-36aa-4be9-8650-f4a1c5c8ac04",
   "metadata": {},
   "source": [
    "# <center> Doubly Linked List</center>"
   ]
  },
  {
   "cell_type": "markdown",
   "id": "519c468f-0871-4856-8f3a-c2c8a708b1ea",
   "metadata": {},
   "source": [
    "<h4>\n",
    "    A doubly linked list is a type of linked list where each node has two pointers: one pointing to the next node and one pointing to the previous node. This allows traversal in both directions.\n",
    "</h4>"
   ]
  },
  {
   "cell_type": "markdown",
   "id": "01a302c7-0019-44cc-8070-947cce1343be",
   "metadata": {},
   "source": [
    "Some Important Functions of Doubly Linked List:\n",
    "\n",
    "<pre>\n",
    "&rarr; Insertion :- \n",
    "   &rarr; insert_at_start()\n",
    "   &rarr; insert_at_end()\n",
    "   &rarr; insert_after_node()\n",
    "   &rarr; insert_after_index()\n",
    "    \n",
    "&rarr; Deletion :- \n",
    "   &rarr; delete_at_start()\n",
    "   &rarr; delete_at_end()\n",
    "   &rarr; delete_node()\n",
    "   &rarr; delete_at_index()\n",
    "    \n",
    "&rarr; Traversal :- \n",
    "   &rarr; traverse_forward()\n",
    "   &rarr; traverse_backward()\n",
    "\n",
    "    \n",
    "&rarr; Search :- \n",
    "   &rarr; search()\n",
    "\n",
    "\n",
    "&rarr; Utility :- \n",
    "   &rarr; get_length()\n",
    "   &rarr; reverse()\n",
    "    \n",
    "\n",
    "</pre>"
   ]
  },
  {
   "cell_type": "markdown",
   "id": "854fca5e-287f-4215-a825-4969dfa0360c",
   "metadata": {},
   "source": [
    "# Limitation of Doubly Linked List"
   ]
  },
  {
   "cell_type": "markdown",
   "id": "95a27849-b7cd-4d3f-af36-f8efa5db2825",
   "metadata": {},
   "source": [
    "<li> Each node has two pointers (to the next and previous nodes), using more memory.\n",
    "<li> Inserting and deleting nodes is more complicated because you have to update two pointers.\n",
    "<li> Extra pointers mean more operations, which can slow down performance a bit.\n",
    "<li> Managing more pointers increases the chance of mistakes like memory leaks."
   ]
  },
  {
   "cell_type": "code",
   "execution_count": null,
   "id": "a839a647-e3e4-43b6-ac18-c1b2c17160f6",
   "metadata": {},
   "outputs": [],
   "source": []
  }
 ],
 "metadata": {
  "kernelspec": {
   "display_name": "Python 3 (ipykernel)",
   "language": "python",
   "name": "python3"
  },
  "language_info": {
   "codemirror_mode": {
    "name": "ipython",
    "version": 3
   },
   "file_extension": ".py",
   "mimetype": "text/x-python",
   "name": "python",
   "nbconvert_exporter": "python",
   "pygments_lexer": "ipython3",
   "version": "3.12.3"
  }
 },
 "nbformat": 4,
 "nbformat_minor": 5
}
