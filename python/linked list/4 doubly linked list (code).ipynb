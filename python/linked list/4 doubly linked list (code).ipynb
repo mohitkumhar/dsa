{
 "cells": [
  {
   "cell_type": "markdown",
   "id": "e2be411a-e7b6-42b1-8b68-bf372168f36e",
   "metadata": {},
   "source": [
    "# <center>Doubly Linked List</center>"
   ]
  },
  {
   "cell_type": "code",
   "execution_count": 1,
   "id": "a3cbbb2d-6f2d-4ea8-a333-26cb4a7ef6e1",
   "metadata": {},
   "outputs": [],
   "source": [
    "class Node:\n",
    "    def __init__(self, data=None, next=None, prev=None):\n",
    "        self.data=data\n",
    "        self.next=next\n",
    "        self.prev=prev  "
   ]
  },
  {
   "cell_type": "code",
   "execution_count": 22,
   "id": "34e670e8-4316-46b2-894a-83eb2adaa764",
   "metadata": {},
   "outputs": [],
   "source": [
    "class LinkedList:\n",
    "    def __init__(self):\n",
    "        self.head=None\n",
    "        self.next=None\n",
    "        self.prev=None\n",
    "\n",
    "    def is_empty(self):\n",
    "        return self.head==None\n",
    "\n",
    "    # Insertion Functions\n",
    "\n",
    "    def insert_at_start(self, data):\n",
    "        new_node = Node(data)\n",
    "        \n",
    "        if self.is_empty():\n",
    "            self.head = new_node\n",
    "            return \n",
    "\n",
    "        new_node.next = self.head\n",
    "        self.head.prev = new_node\n",
    "        self.head = new_node\n",
    "\n",
    "    def insert_at_end(self, data):\n",
    "        if self.is_empty():\n",
    "            return self.insert_at_start(data)\n",
    "\n",
    "        current = self.head\n",
    "        new_node = Node(data)\n",
    "\n",
    "        while current.next:\n",
    "            current = current.next\n",
    "\n",
    "        current.next = new_node\n",
    "        new_node.prev = current\n",
    "\n",
    "\n",
    "    def insert_after_node(self, node, data):\n",
    "        if self.is_empty():\n",
    "            return self.insert_at_start(data)\n",
    "\n",
    "        new_node = Node(data)\n",
    "\n",
    "        current = self.head\n",
    "\n",
    "        while current != None:\n",
    "\n",
    "            if current.data == node:\n",
    "                if current.next == None:\n",
    "                    return self.insert_at_end(data)\n",
    "                new_node.next = current.next\n",
    "                new_node.prev = current\n",
    "                if current.next != None:\n",
    "                    current.next.prev = new_node\n",
    "                current.next = new_node\n",
    "                return\n",
    "                \n",
    "            if current.next == None:\n",
    "                return 'Value Not Found'\n",
    "\n",
    "            current = current.next\n",
    "\n",
    "    def insert_after_index(self, index, data):\n",
    "        if index < 0 : return 'Negative Index'\n",
    "\n",
    "        if self.is_empty():\n",
    "            return 'Empty List'\n",
    "\n",
    "\n",
    "        current = self.head\n",
    "        new_node = Node(data)\n",
    "        ind = 0\n",
    "        while ind < index:\n",
    "            ind += 1\n",
    "            current = current.next\n",
    "\n",
    "        new_node.next = current.next\n",
    "        new_node.prev = current\n",
    "        if current.next != None:\n",
    "            current.next.prev = new_node\n",
    "        current.next = new_node\n",
    "\n",
    "\n",
    "    # Deletion Functions\n",
    "\n",
    "    def delete_at_start(self):\n",
    "        if self.is_empty():\n",
    "            return 'Empty Linked List'\n",
    "\n",
    "        if self.head.next != None:\n",
    "            self.head.next.prev = None\n",
    "        \n",
    "        self.head = self.head.next\n",
    "\n",
    "    def delete_at_end(self):\n",
    "        if self.is_empty():\n",
    "            return 'Empty Linked List'\n",
    "\n",
    "        current = self.head\n",
    "\n",
    "        if current.next == None:\n",
    "            return self.delete_at_start()\n",
    "\n",
    "        while current.next != None:\n",
    "            current = current.next\n",
    "\n",
    "        current.prev.next = None\n",
    "        current.prev = None\n",
    "\n",
    "\n",
    "    def delete_node(self, value):\n",
    "        if self.is_empty():\n",
    "            return 'Empty Linked List'\n",
    "\n",
    "        if self.head.data == value:\n",
    "            return self.delete_at_start()\n",
    "\n",
    "        current = self.head\n",
    "\n",
    "        while current.next and current.next.data != value:\n",
    "            current = current.next\n",
    "\n",
    "        \n",
    "        if current.next == None:\n",
    "            return 'Value Not Found'\n",
    "\n",
    "        node_to_delete = current.next\n",
    "        \n",
    "\n",
    "        if node_to_delete.next is not None:\n",
    "            node_to_delete.next.prev=current\n",
    "        current.next = node_to_delete.next\n",
    "\n",
    "\n",
    "    def delete_at_index(self, index):\n",
    "\n",
    "        if index < 0 : return 'Negative Index'\n",
    "            \n",
    "        if index == 0: return self.delete_at_start()\n",
    "\n",
    "        if self.is_empty(): return 'Empty Linked List'\n",
    "\n",
    "        ind = 0\n",
    "        current = self.head\n",
    "\n",
    "        while ind < index:\n",
    "            if current.next is None: return 'Out of Index'\n",
    "            ind += 1\n",
    "            current = current.next\n",
    "\n",
    "        # now we are standing at thw node which we want to delete\n",
    "\n",
    "        \n",
    "        if current.next is None:\n",
    "            if ind == index:\n",
    "                return self.delete_at_end()\n",
    "            return 'Index Not Found'\n",
    "\n",
    "        node_to_delete = current.prev.next\n",
    "        \n",
    "        current.prev.next = node_to_delete.next\n",
    "        node_to_delete.next.prev = node_to_delete.prev\n",
    "        \n",
    "        \n",
    "\n",
    "        \n",
    "            \n",
    "        \n",
    "        \n",
    "        \n",
    "\n",
    "        \n",
    "            \n",
    "            \n",
    "        \n",
    "        \n",
    "            \n",
    "\n",
    "    def traverse(self):\n",
    "        if self.is_empty():\n",
    "            return 'Empty Linked List'\n",
    "\n",
    "        current = self.head\n",
    "        string = ''\n",
    "\n",
    "        while current:\n",
    "            string = string +  (str(current.data) + ' -> ')\n",
    "            current = current.next\n",
    "\n",
    "        return string[:-4]\n",
    "            \n",
    "            \n",
    "    "
   ]
  },
  {
   "cell_type": "code",
   "execution_count": 3,
   "id": "113ad745-bce4-4778-bc82-90c4f3592092",
   "metadata": {},
   "outputs": [],
   "source": [
    "l1 = LinkedList()"
   ]
  },
  {
   "cell_type": "code",
   "execution_count": 4,
   "id": "3eb6135e-5ee9-40bf-b249-a7eab0fc2702",
   "metadata": {},
   "outputs": [
    {
     "data": {
      "text/plain": [
       "True"
      ]
     },
     "execution_count": 4,
     "metadata": {},
     "output_type": "execute_result"
    }
   ],
   "source": [
    "l1.is_empty()"
   ]
  },
  {
   "cell_type": "code",
   "execution_count": 5,
   "id": "99264b08-9504-4828-939d-2f81e99f3cf8",
   "metadata": {},
   "outputs": [],
   "source": [
    "l1.insert_at_start(11)\n",
    "l1.insert_at_start(22)\n",
    "l1.insert_at_start(33)\n",
    "l1.insert_at_start(44)"
   ]
  },
  {
   "cell_type": "code",
   "execution_count": 6,
   "id": "d804ca9a-04a0-4007-b39b-acaba63a18a9",
   "metadata": {},
   "outputs": [
    {
     "data": {
      "text/plain": [
       "False"
      ]
     },
     "execution_count": 6,
     "metadata": {},
     "output_type": "execute_result"
    }
   ],
   "source": [
    "l1.is_empty()"
   ]
  },
  {
   "cell_type": "code",
   "execution_count": 7,
   "id": "5fdd1e81-fe1b-4ec2-b169-a940f3ff569a",
   "metadata": {},
   "outputs": [
    {
     "data": {
      "text/plain": [
       "'44 -> 33 -> 22 -> 11'"
      ]
     },
     "execution_count": 7,
     "metadata": {},
     "output_type": "execute_result"
    }
   ],
   "source": [
    "l1.traverse()"
   ]
  },
  {
   "cell_type": "code",
   "execution_count": 8,
   "id": "e70af981-65d2-4e22-9bbe-0cf69efb8e06",
   "metadata": {},
   "outputs": [],
   "source": [
    "l1.insert_at_end(22)"
   ]
  },
  {
   "cell_type": "code",
   "execution_count": 9,
   "id": "90ccb589-a3a3-406d-9455-b509350b2e2b",
   "metadata": {},
   "outputs": [
    {
     "data": {
      "text/plain": [
       "'44 -> 33 -> 22 -> 11 -> 22'"
      ]
     },
     "execution_count": 9,
     "metadata": {},
     "output_type": "execute_result"
    }
   ],
   "source": [
    "l1.traverse()"
   ]
  },
  {
   "cell_type": "code",
   "execution_count": 10,
   "id": "ca391452-d4fa-4d41-9f64-c041790c8aa0",
   "metadata": {},
   "outputs": [],
   "source": [
    "l1.insert_after_node(44, 55)"
   ]
  },
  {
   "cell_type": "code",
   "execution_count": 11,
   "id": "cd41d8b5-c9d3-4d26-9648-2085fccb7809",
   "metadata": {},
   "outputs": [
    {
     "data": {
      "text/plain": [
       "'44 -> 55 -> 33 -> 22 -> 11 -> 22'"
      ]
     },
     "execution_count": 11,
     "metadata": {},
     "output_type": "execute_result"
    }
   ],
   "source": [
    "l1.traverse()"
   ]
  },
  {
   "cell_type": "code",
   "execution_count": 12,
   "id": "74ddb247-e4f3-4678-af1f-7dbd9dae3cb9",
   "metadata": {},
   "outputs": [],
   "source": [
    "l1.insert_after_index(0, 9)"
   ]
  },
  {
   "cell_type": "code",
   "execution_count": 13,
   "id": "9c2e3424-f839-474f-858c-28efdbef89cb",
   "metadata": {},
   "outputs": [
    {
     "data": {
      "text/plain": [
       "'44 -> 9 -> 55 -> 33 -> 22 -> 11 -> 22'"
      ]
     },
     "execution_count": 13,
     "metadata": {},
     "output_type": "execute_result"
    }
   ],
   "source": [
    "l1.traverse()"
   ]
  },
  {
   "cell_type": "code",
   "execution_count": 14,
   "id": "f3df257d-1a0e-4dec-9050-a505138210c2",
   "metadata": {},
   "outputs": [],
   "source": [
    "l1.delete_at_start()"
   ]
  },
  {
   "cell_type": "code",
   "execution_count": 15,
   "id": "cc985996-6a68-4c99-a705-15298025ae38",
   "metadata": {},
   "outputs": [
    {
     "data": {
      "text/plain": [
       "'9 -> 55 -> 33 -> 22 -> 11 -> 22'"
      ]
     },
     "execution_count": 15,
     "metadata": {},
     "output_type": "execute_result"
    }
   ],
   "source": [
    "l1.traverse()"
   ]
  },
  {
   "cell_type": "code",
   "execution_count": 16,
   "id": "8275a587-815c-42df-8054-b9e57105d613",
   "metadata": {},
   "outputs": [],
   "source": [
    "l1.delete_at_end()"
   ]
  },
  {
   "cell_type": "code",
   "execution_count": 17,
   "id": "1a156f0f-5b4d-4642-b053-c1f96c1a195f",
   "metadata": {},
   "outputs": [
    {
     "data": {
      "text/plain": [
       "'9 -> 55 -> 33 -> 22 -> 11'"
      ]
     },
     "execution_count": 17,
     "metadata": {},
     "output_type": "execute_result"
    }
   ],
   "source": [
    "l1.traverse()"
   ]
  },
  {
   "cell_type": "code",
   "execution_count": 18,
   "id": "ef432f9e-03fe-4c0d-b86d-e545fa21c971",
   "metadata": {},
   "outputs": [],
   "source": [
    "l1.delete_node(22)"
   ]
  },
  {
   "cell_type": "code",
   "execution_count": 19,
   "id": "4f03703b-833b-431f-be94-dee4fa1858d3",
   "metadata": {},
   "outputs": [
    {
     "data": {
      "text/plain": [
       "'9 -> 55 -> 33 -> 11'"
      ]
     },
     "execution_count": 19,
     "metadata": {},
     "output_type": "execute_result"
    }
   ],
   "source": [
    "l1.traverse()"
   ]
  },
  {
   "cell_type": "code",
   "execution_count": 20,
   "id": "72928ff4-aac4-414c-b31c-e3207680f26d",
   "metadata": {},
   "outputs": [],
   "source": [
    "l1.delete_at_index(1)"
   ]
  },
  {
   "cell_type": "code",
   "execution_count": 21,
   "id": "39f70c15-ee56-4cfd-81c5-eb6ad52be54e",
   "metadata": {},
   "outputs": [
    {
     "data": {
      "text/plain": [
       "'9 -> 33 -> 11'"
      ]
     },
     "execution_count": 21,
     "metadata": {},
     "output_type": "execute_result"
    }
   ],
   "source": [
    "l1.traverse()"
   ]
  },
  {
   "cell_type": "code",
   "execution_count": null,
   "id": "dcc200de-7d5a-4628-9e19-8810fa2d16f2",
   "metadata": {},
   "outputs": [],
   "source": []
  },
  {
   "cell_type": "code",
   "execution_count": null,
   "id": "f2269848-8235-4d39-b5d1-9632863ca66a",
   "metadata": {},
   "outputs": [],
   "source": []
  },
  {
   "cell_type": "code",
   "execution_count": null,
   "id": "b5bff603-8b0a-4070-8684-02267da79d56",
   "metadata": {},
   "outputs": [],
   "source": []
  },
  {
   "cell_type": "code",
   "execution_count": null,
   "id": "0f5302e2-310f-46af-8524-e84ed3870f69",
   "metadata": {},
   "outputs": [],
   "source": []
  },
  {
   "cell_type": "code",
   "execution_count": null,
   "id": "b74f914e-6f83-401e-af6f-ad9c50bb9ff5",
   "metadata": {},
   "outputs": [],
   "source": []
  },
  {
   "cell_type": "code",
   "execution_count": null,
   "id": "dca04d1e-a959-43b6-a455-2ddcadecb655",
   "metadata": {},
   "outputs": [],
   "source": []
  },
  {
   "cell_type": "code",
   "execution_count": null,
   "id": "cfa5f47e-4cb2-493e-a759-9d7c01d0a54b",
   "metadata": {},
   "outputs": [],
   "source": []
  },
  {
   "cell_type": "code",
   "execution_count": null,
   "id": "c43970a7-ab08-4605-a50e-9b06a52300f3",
   "metadata": {},
   "outputs": [],
   "source": []
  },
  {
   "cell_type": "code",
   "execution_count": null,
   "id": "553f8cce-fcb6-42b1-a185-96db2389508b",
   "metadata": {},
   "outputs": [],
   "source": []
  },
  {
   "cell_type": "code",
   "execution_count": null,
   "id": "e24e44e4-17f0-4b09-910e-e67600889827",
   "metadata": {},
   "outputs": [],
   "source": []
  },
  {
   "cell_type": "code",
   "execution_count": null,
   "id": "cb2437b4-e3d8-4e93-bbca-761a3b433703",
   "metadata": {},
   "outputs": [],
   "source": []
  }
 ],
 "metadata": {
  "kernelspec": {
   "display_name": "Python 3 (ipykernel)",
   "language": "python",
   "name": "python3"
  },
  "language_info": {
   "codemirror_mode": {
    "name": "ipython",
    "version": 3
   },
   "file_extension": ".py",
   "mimetype": "text/x-python",
   "name": "python",
   "nbconvert_exporter": "python",
   "pygments_lexer": "ipython3",
   "version": "3.12.3"
  }
 },
 "nbformat": 4,
 "nbformat_minor": 5
}
