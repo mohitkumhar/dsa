{
 "cells": [
  {
   "cell_type": "code",
   "execution_count": 66,
   "id": "10adb162-6d61-4269-af9a-790e1fe860cc",
   "metadata": {},
   "outputs": [],
   "source": [
    "class Graph:\n",
    "    def __init__(self, vertex_count):\n",
    "        self.vertex_count = vertex_count\n",
    "        self.adj_list = {v : [] for v in range(vertex_count)}\n",
    "\n",
    "    def insert_edge(self, u, v, weight=1):\n",
    "        if 0 <= u < self.vertex_count and 0 <= v < self.vertex_count:\n",
    "            self.adj_list[u].append((v, weight))\n",
    "            self.adj_list[v].append((u, weight))\n",
    "        else:\n",
    "            return 'Invalid Rows or Columns'\n",
    "\n",
    "    def remove_edge(self, u, v):\n",
    "        if 0 <= u < self.vertex_count and 0 <= v < self.vertex_count:\n",
    "            self.adj_list[u] = [(vertex, weight) for vertex, weight in self.adj_list[u] if vertex != v]\n",
    "            self.adj_list[v] = [(vertex, weight) for vertex, weight in self.adj_list[v] if vertex != u]\n",
    "        else:\n",
    "            return 'Invalid Rows or Columns'\n",
    "\n",
    "    def has_edge(self, u, v):\n",
    "        if 0 <= u < self.vertex_count and 0 <= v < self.vertex_count:\n",
    "            return any(v == vertex for vertex, x in self.adj_list[u])\n",
    "        return 'Invalid Rows or Columns'\n",
    "\n",
    "    def print_adj_list(self):\n",
    "        for vertex, weight in self.adj_list.items():\n",
    "            print(f\"Vertex: {vertex}: {weight}\")\n",
    "            \n",
    "        \n",
    "            "
   ]
  },
  {
   "cell_type": "code",
   "execution_count": 67,
   "id": "0462bcd9-97e9-488f-b6c3-14781580eb55",
   "metadata": {},
   "outputs": [],
   "source": [
    "g1 = Graph(5)"
   ]
  },
  {
   "cell_type": "code",
   "execution_count": 68,
   "id": "3292ff9e-436e-45e1-bd5b-16096691c906",
   "metadata": {},
   "outputs": [],
   "source": [
    "g1.insert_edge(0, 1)\n",
    "g1.insert_edge(1, 2)\n",
    "g1.insert_edge(1, 3)\n",
    "g1.insert_edge(2, 4)\n",
    "g1.insert_edge(3, 4)\n"
   ]
  },
  {
   "cell_type": "code",
   "execution_count": 69,
   "id": "270fe017-a51d-4c2f-8790-b89313f024a1",
   "metadata": {},
   "outputs": [
    {
     "data": {
      "text/plain": [
       "True"
      ]
     },
     "execution_count": 69,
     "metadata": {},
     "output_type": "execute_result"
    }
   ],
   "source": [
    "g1.has_edge(0, 1)"
   ]
  },
  {
   "cell_type": "code",
   "execution_count": 70,
   "id": "ebbb4cf6-3c54-41e7-bdbb-720c36efed97",
   "metadata": {},
   "outputs": [
    {
     "name": "stdout",
     "output_type": "stream",
     "text": [
      "Vertex: 0: [(1, 1)]\n",
      "Vertex: 1: [(0, 1), (2, 1), (3, 1)]\n",
      "Vertex: 2: [(1, 1), (4, 1)]\n",
      "Vertex: 3: [(1, 1), (4, 1)]\n",
      "Vertex: 4: [(2, 1), (3, 1)]\n"
     ]
    }
   ],
   "source": [
    "g1.print_adj_list()"
   ]
  },
  {
   "cell_type": "code",
   "execution_count": null,
   "id": "87c94632-ca41-4975-80a5-49d562b2c87b",
   "metadata": {},
   "outputs": [],
   "source": []
  },
  {
   "cell_type": "code",
   "execution_count": null,
   "id": "3394dc0b-fac8-462e-bce3-d594de1293ee",
   "metadata": {},
   "outputs": [],
   "source": []
  },
  {
   "cell_type": "code",
   "execution_count": null,
   "id": "642a2b57-feb4-4c8f-ac08-6beb038003c3",
   "metadata": {},
   "outputs": [],
   "source": []
  },
  {
   "cell_type": "code",
   "execution_count": null,
   "id": "7a8c5029-1619-49cd-a0bf-969453c1aca8",
   "metadata": {},
   "outputs": [],
   "source": []
  },
  {
   "cell_type": "code",
   "execution_count": null,
   "id": "52ad3bb1-ac33-4ac1-a002-e149655465bf",
   "metadata": {},
   "outputs": [],
   "source": []
  }
 ],
 "metadata": {
  "kernelspec": {
   "display_name": "Python 3 (ipykernel)",
   "language": "python",
   "name": "python3"
  },
  "language_info": {
   "codemirror_mode": {
    "name": "ipython",
    "version": 3
   },
   "file_extension": ".py",
   "mimetype": "text/x-python",
   "name": "python",
   "nbconvert_exporter": "python",
   "pygments_lexer": "ipython3",
   "version": "3.12.3"
  }
 },
 "nbformat": 4,
 "nbformat_minor": 5
}
