{
 "cells": [
  {
   "cell_type": "markdown",
   "id": "a5b85b49-9cc8-4996-bd57-61d1d6040717",
   "metadata": {},
   "source": [
    "# <center>Graph</center>"
   ]
  },
  {
   "cell_type": "markdown",
   "id": "c1e21db1-dc3a-475f-b07b-e50e5ac2b24e",
   "metadata": {},
   "source": [
    "A graph in data structures is a collection of nodes (vertices) connected by edges. It's used to represent relationships between objects. Graphs can be directed (edges have a direction) or undirected (edges have no direction)"
   ]
  },
  {
   "cell_type": "markdown",
   "id": "4cbc8341-220e-49e3-9c8d-c0d4c326b765",
   "metadata": {},
   "source": [
    "# Terminology"
   ]
  },
  {
   "cell_type": "markdown",
   "id": "817883f1-61ff-4538-a64d-f1d975ab243b",
   "metadata": {},
   "source": [
    "- **Node (Vertex):** A fundamental unit representing an entity or object.\n",
    "  \n",
    "- **Edge:** A connection between two nodes that may be directed (one-way) or undirected (two-way).\n",
    "  \n",
    "- **Adjacency:** Describes nodes that are directly connected by an edge.\n",
    "  \n",
    "- **Degree:** The number of edges connected to a node.\n",
    "  \n",
    "- **Path:** A sequence of edges that allows traversal from one node to another.\n",
    "  \n",
    "- **Cycle:** A path that starts and ends at the same node, without repeating any edge except the starting and ending node.\n",
    "  \n",
    "- **Connected:** When there is a path between every pair of nodes in the graph.\n",
    "  \n",
    "- **Weighted Graph:** A graph where each edge is assigned a numerical weight or cost.\n",
    "  \n",
    "- **Directed Graph:** A graph where edges have a direction from one node to another.\n",
    "  \n",
    "- **Undirected Graph:** A graph where edges have no specific direction between nodes.\n"
   ]
  },
  {
   "cell_type": "markdown",
   "id": "78c71e82-67f9-4c30-9df1-700cb99af4c2",
   "metadata": {},
   "source": [
    "- **Simple Path:** A path in a graph that goes from one node to another without revisiting any node (except possibly the starting and ending nodes if it forms a cycle).\n",
    "  \n",
    "- **Complex Path:** A path in a graph that includes simple paths but may revisit nodes or repeat edges. It's a broader term that encompasses various types of paths within the graph structure.\n"
   ]
  },
  {
   "cell_type": "markdown",
   "id": "cdac564a-f9eb-4838-9eee-6bbf2278bd87",
   "metadata": {},
   "source": [
    "- **Tree Graph:** A tree graph is a type of graph with no loops or cycles. It connects all nodes together, and it always has one less edge than the number of nodes.\n",
    "  <pre>\n",
    "      A\n",
    "     / \\\n",
    "    B   C\n",
    "   / \\   \\\n",
    "  D   E   F\n",
    "</pre>\n"
   ]
  },
  {
   "cell_type": "markdown",
   "id": "fa9e7459-8bcf-4347-acee-6111a9e6dda3",
   "metadata": {},
   "source": [
    "- **Labelled Graph:** A labelled graph is a type of graph where each node (vertex) has a unique name or identifier. This name distinguishes one node from another in the graph, representing specific entities or objects. Labelled graphs are commonly used to model networks or systems where nodes represent distinct entities, such as cities in a map or individuals in a social network.\n",
    "  <pre>\n",
    "         A\n",
    "        / \\\n",
    "       B   C\n",
    "      / \\ / \\\n",
    "     D   E   F\n",
    "</pre>"
   ]
  },
  {
   "cell_type": "markdown",
   "id": "9895e63d-846b-4ec5-b071-0ba77bc4c61c",
   "metadata": {},
   "source": [
    "- **Multiple Edges:** In a graph with multiple edges, it is possible for two nodes to be connected by more than one edge. Each edge may have its own characteristics, such as weight or direction, distinguishing it from other edges between the same pair of nodes.\n",
    "  <pre>\n",
    "         A\n",
    "        /|\\         (Multiple edges between A and B)\n",
    "       B C B\n",
    "      /|\\|/|\\\n",
    "     D E F G H\n",
    "</pre>"
   ]
  },
  {
   "cell_type": "markdown",
   "id": "c4921038-4c90-4484-bc1e-0ac0c5adac84",
   "metadata": {},
   "source": [
    "- **Multi Graph:** A multigraph is a type of graph where nodes (vertices) can have multiple edges connecting them. This means there can be more than one edge between the same pair of nodes, each potentially with different characteristics like direction or weight. It allows for representing multiple relationships or connections between entities within a graph structure."
   ]
  },
  {
   "cell_type": "markdown",
   "id": "8adce35d-21cb-4ef6-8a84-ca1c0552cdbb",
   "metadata": {},
   "source": [
    "- **Complete Graph:** A complete graph is a type of graph where every pair of distinct nodes (vertices) is connected by a unique edge. In other words, there is an edge between every pair of nodes in the graph, creating a fully interconnected structure.\n",
    "<pre>\n",
    "         A\n",
    "        /|\\\n",
    "       / | \\\n",
    "      /  |  \\\n",
    "     B---C---D\n",
    "      \\  |  /\n",
    "       \\ | /\n",
    "        \\|/\n",
    "         E\n",
    "\n",
    "</pre>"
   ]
  },
  {
   "cell_type": "markdown",
   "id": "4f8c5097-633c-42ca-8a7b-9bbdca008ca8",
   "metadata": {},
   "source": [
    "**Adjacency Matrix Representation:** An adjacency matrix is a square matrix used to represent a graph. For a graph with \\( n \\) nodes, the \\( n \\times n \\) matrix \\( A \\) is defined such that:\n",
    "\n",
    "- \\( A[i][j] = 1 \\) if there is an edge from node \\( i \\) to node \\( j \\),\n",
    "- \\( A[i][j] = 0 \\) if there is no edge from node \\( i \\) to node \\( j \\).\n",
    "\n",
    "Each row and column in the matrix corresponds to a node, and the entries indicate the presence or absence of edges between pairs of nodes.\n",
    "\n",
    "*Example*\n",
    "<pre>\n",
    "     A\n",
    "    / \\\n",
    "   /   \\\n",
    "  B     C\n",
    "   \\   /\n",
    "    \\ /\n",
    "     D\n",
    "\n",
    "The Representation of this graph will be:\n",
    "    \n",
    "    A  B  C  D\n",
    " A  0  1  1  0\n",
    " B  1  0  0  1\n",
    " C  1  0  0  1\n",
    " D  0  1  1  0\n",
    "\n",
    "\n",
    "</pre>"
   ]
  },
  {
   "cell_type": "markdown",
   "id": "828f5fb3-2d05-497e-8997-2b8155e49c08",
   "metadata": {},
   "source": [
    "**Adjacency List Representation:** In an adjacency list, each node is associated with a list of its adjacent nodes. This list includes all the nodes that are directly connected to it by an edge.\n",
    "\n",
    "<pre>\n",
    "         A\n",
    "        / \\\n",
    "       /   \\\n",
    "      B     C\n",
    "       \\   /\n",
    "        \\ /\n",
    "         D\n",
    "    \n",
    "The List Representation of This Graph will be:\n",
    "    \n",
    "    A: B, C\n",
    "    B: A, D\n",
    "    C: A, D\n",
    "    D: B, C\n",
    "\n",
    "</pre>"
   ]
  },
  {
   "cell_type": "code",
   "execution_count": null,
   "id": "cf063671-038f-4340-bc96-d356870192bc",
   "metadata": {},
   "outputs": [],
   "source": []
  }
 ],
 "metadata": {
  "kernelspec": {
   "display_name": "Python 3 (ipykernel)",
   "language": "python",
   "name": "python3"
  },
  "language_info": {
   "codemirror_mode": {
    "name": "ipython",
    "version": 3
   },
   "file_extension": ".py",
   "mimetype": "text/x-python",
   "name": "python",
   "nbconvert_exporter": "python",
   "pygments_lexer": "ipython3",
   "version": "3.12.3"
  }
 },
 "nbformat": 4,
 "nbformat_minor": 5
}
