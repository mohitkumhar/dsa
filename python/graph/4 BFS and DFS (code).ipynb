{
 "cells": [
  {
   "cell_type": "code",
   "execution_count": 1,
   "id": "c9af07b6-d5da-418a-af8c-8704a34c2b31",
   "metadata": {},
   "outputs": [],
   "source": [
    "class Graph:\n",
    "    def __init__(self, vertex_count, start_node):\n",
    "        self.vertex_count = vertex_count\n",
    "        self.adj_matrix = [[0] * vertex_count for _ in range(vertex_count)]\n",
    "        self.start_node = start_node\n",
    "\n",
    "    def add_edge(self, u, v, weight=1):\n",
    "        if 0 <= u < self.vertex_count and 0 <= v < self.vertex_count:\n",
    "            self.adj_matrix[u][v] = weight\n",
    "            self.adj_matrix[v][u] = weight\n",
    "        else:\n",
    "            print('Invalid edge:', u, v)\n",
    "\n",
    "    def bfs(self):\n",
    "        visited = [False] * self.vertex_count\n",
    "        queue = [self.start_node]\n",
    "        visited[self.start_node] = True\n",
    "\n",
    "        while queue:\n",
    "            node = queue.pop(0)\n",
    "            print(node, end=' ')\n",
    "\n",
    "            for neighbor in range(self.vertex_count):\n",
    "                if self.adj_matrix[node][neighbor] != 0 and not visited[neighbor]:\n",
    "                    queue.append(neighbor)\n",
    "                    visited[neighbor] = True\n",
    "\n",
    "    def dfs(self):\n",
    "        visited = [False] * self.vertex_count\n",
    "\n",
    "        stack = [self.start_node]\n",
    "\n",
    "        while stack:\n",
    "            node = stack.pop()\n",
    "\n",
    "            if not visited[node]:\n",
    "                print(node, end=' ')\n",
    "                visited[node] = True\n",
    "\n",
    "                for neighbor in range(self.vertex_count):\n",
    "                    if not visited[neighbor] and self.adj_matrix[node][neighbor] != 0:\n",
    "                        stack.append(neighbor)\n",
    "\n",
    "        \n",
    "\n",
    "\n",
    "        "
   ]
  },
  {
   "cell_type": "code",
   "execution_count": 2,
   "id": "31c67e17-b849-4e4d-889c-f496560924e7",
   "metadata": {},
   "outputs": [],
   "source": [
    "g1 = Graph(5, 0)"
   ]
  },
  {
   "cell_type": "code",
   "execution_count": 3,
   "id": "820c6c68-454d-4057-b0c0-144254e6a73e",
   "metadata": {},
   "outputs": [],
   "source": [
    "g1.add_edge(0, 1)\n",
    "g1.add_edge(1, 0)\n",
    "g1.add_edge(1, 2)\n",
    "g1.add_edge(1, 3)\n",
    "g1.add_edge(2, 1)\n",
    "g1.add_edge(2, 3)\n",
    "g1.add_edge(3, 1)\n",
    "g1.add_edge(3, 2)\n",
    "g1.add_edge(3, 4)\n",
    "g1.add_edge(4, 3)"
   ]
  },
  {
   "cell_type": "code",
   "execution_count": 4,
   "id": "8aa158b0-c906-413d-bb8e-a3f2b738bbda",
   "metadata": {},
   "outputs": [
    {
     "name": "stdout",
     "output_type": "stream",
     "text": [
      "0 1 2 3 4 "
     ]
    }
   ],
   "source": [
    "g1.bfs()"
   ]
  },
  {
   "cell_type": "code",
   "execution_count": 5,
   "id": "32de6879-2353-45d6-8316-e97dd0791914",
   "metadata": {},
   "outputs": [
    {
     "name": "stdout",
     "output_type": "stream",
     "text": [
      "0 1 3 4 2 "
     ]
    }
   ],
   "source": [
    "g1.dfs()"
   ]
  },
  {
   "cell_type": "code",
   "execution_count": null,
   "id": "94ca2ffe-d64e-4cc5-b535-fc3ceb661214",
   "metadata": {},
   "outputs": [],
   "source": []
  }
 ],
 "metadata": {
  "kernelspec": {
   "display_name": "Python 3 (ipykernel)",
   "language": "python",
   "name": "python3"
  },
  "language_info": {
   "codemirror_mode": {
    "name": "ipython",
    "version": 3
   },
   "file_extension": ".py",
   "mimetype": "text/x-python",
   "name": "python",
   "nbconvert_exporter": "python",
   "pygments_lexer": "ipython3",
   "version": "3.12.3"
  }
 },
 "nbformat": 4,
 "nbformat_minor": 5
}
