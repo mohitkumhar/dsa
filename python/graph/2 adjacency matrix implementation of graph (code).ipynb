{
 "cells": [
  {
   "cell_type": "code",
   "execution_count": 42,
   "id": "9dc34299-6d97-4a27-80cc-517710ef0e78",
   "metadata": {},
   "outputs": [],
   "source": [
    "class Graph:\n",
    "    def __init__(self, vertex_count):\n",
    "        self.vertex_count = vertex_count\n",
    "        self.adj_matrix = [ [0] * vertex_count for _ in range(vertex_count) ]\n",
    "\n",
    "    def add_edge(self, u, v, weight=1):\n",
    "        if 0 <= u < self.vertex_count:\n",
    "            self.adj_matrix[u][v] = weight\n",
    "            self.adj_matrix[v][u] = weight\n",
    "        else:\n",
    "            return 'Invalid Rows'\n",
    "\n",
    "    def remove_edge(self, u, v):\n",
    "        if 0 <= u < self.vertex_count and 0 <= v < self.vertex_count:\n",
    "            self.adj_matrix[u][v] = 0\n",
    "            self.adj_matrix[v][u] = 0\n",
    "        else:\n",
    "            return 'Invalid Rows'\n",
    "\n",
    "    def has_edge(self, u, v):\n",
    "        if 0 <= u < self.vertex_count and 0 <= v < self.vertex_count:\n",
    "            return self.adj_matrix[u][v] != 0\n",
    "        return 'Invalid Rows'\n",
    "\n",
    "    def print_adj_matrix(self):\n",
    "        for rows in self.adj_matrix:\n",
    "            print(' '.join(map(str, rows)))\n",
    "            "
   ]
  },
  {
   "cell_type": "code",
   "execution_count": 43,
   "id": "0e9cafa7-09b8-4adb-83ce-a46ed5e2d6d8",
   "metadata": {},
   "outputs": [],
   "source": [
    "g1 = Graph(5)"
   ]
  },
  {
   "cell_type": "code",
   "execution_count": 44,
   "id": "a4bde93d-5d8c-4a1b-8f5c-36e70a1b68b8",
   "metadata": {},
   "outputs": [],
   "source": [
    "g1.add_edge(0, 1)\n",
    "g1.add_edge(1, 0)\n",
    "g1.add_edge(1, 2)\n",
    "g1.add_edge(1, 3)\n",
    "g1.add_edge(2, 1)\n",
    "g1.add_edge(2, 3)\n",
    "g1.add_edge(3, 1)\n",
    "g1.add_edge(3, 2)\n",
    "g1.add_edge(3, 4)\n",
    "g1.add_edge(4, 3)"
   ]
  },
  {
   "cell_type": "code",
   "execution_count": 45,
   "id": "1d229705-2b25-4918-874b-bdb3327f2583",
   "metadata": {},
   "outputs": [
    {
     "data": {
      "text/plain": [
       "True"
      ]
     },
     "execution_count": 45,
     "metadata": {},
     "output_type": "execute_result"
    }
   ],
   "source": [
    "g1.has_edge(0, 1)"
   ]
  },
  {
   "cell_type": "code",
   "execution_count": 46,
   "id": "0cd963b2-427b-4852-9b19-75dce8a97ad4",
   "metadata": {},
   "outputs": [
    {
     "name": "stdout",
     "output_type": "stream",
     "text": [
      "0 1 0 0 0\n",
      "1 0 1 1 0\n",
      "0 1 0 1 0\n",
      "0 1 1 0 1\n",
      "0 0 0 1 0\n"
     ]
    }
   ],
   "source": [
    "g1.print_adj_matrix()"
   ]
  },
  {
   "cell_type": "code",
   "execution_count": 47,
   "id": "7f03252b-1527-4a6e-b8e7-b446f892f5e0",
   "metadata": {},
   "outputs": [],
   "source": [
    "g1.remove_edge(0, 1)"
   ]
  },
  {
   "cell_type": "code",
   "execution_count": 48,
   "id": "cb865bac-282a-456f-b2c9-1903a2f0b763",
   "metadata": {},
   "outputs": [
    {
     "name": "stdout",
     "output_type": "stream",
     "text": [
      "0 0 0 0 0\n",
      "0 0 1 1 0\n",
      "0 1 0 1 0\n",
      "0 1 1 0 1\n",
      "0 0 0 1 0\n"
     ]
    }
   ],
   "source": [
    "g1.print_adj_matrix()"
   ]
  },
  {
   "cell_type": "code",
   "execution_count": null,
   "id": "3ccceb31-effa-40d8-9c2c-bd36a1d0d9eb",
   "metadata": {},
   "outputs": [],
   "source": []
  },
  {
   "cell_type": "code",
   "execution_count": null,
   "id": "72679060-c9e2-46e4-a5be-b74b065badfd",
   "metadata": {},
   "outputs": [],
   "source": []
  },
  {
   "cell_type": "code",
   "execution_count": null,
   "id": "c7ca266c-5ee6-49e0-a521-d67c0285813c",
   "metadata": {},
   "outputs": [],
   "source": []
  },
  {
   "cell_type": "code",
   "execution_count": null,
   "id": "65217356-0f71-4d6a-9e2a-cf541b30eeae",
   "metadata": {},
   "outputs": [],
   "source": []
  },
  {
   "cell_type": "code",
   "execution_count": null,
   "id": "d8f23c5f-1b92-488d-bdcb-c076cabf2322",
   "metadata": {},
   "outputs": [],
   "source": []
  },
  {
   "cell_type": "code",
   "execution_count": null,
   "id": "9374acb5-cf29-478c-82c3-af5e71742e64",
   "metadata": {},
   "outputs": [],
   "source": []
  },
  {
   "cell_type": "code",
   "execution_count": null,
   "id": "aea14ac1-fe97-4818-ada6-7ae42b4d0f73",
   "metadata": {},
   "outputs": [],
   "source": []
  }
 ],
 "metadata": {
  "kernelspec": {
   "display_name": "Python 3 (ipykernel)",
   "language": "python",
   "name": "python3"
  },
  "language_info": {
   "codemirror_mode": {
    "name": "ipython",
    "version": 3
   },
   "file_extension": ".py",
   "mimetype": "text/x-python",
   "name": "python",
   "nbconvert_exporter": "python",
   "pygments_lexer": "ipython3",
   "version": "3.12.3"
  }
 },
 "nbformat": 4,
 "nbformat_minor": 5
}
