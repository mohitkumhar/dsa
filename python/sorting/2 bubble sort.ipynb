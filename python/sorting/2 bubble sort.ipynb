{
 "cells": [
  {
   "cell_type": "code",
   "execution_count": 18,
   "id": "e56fe2e9-8bd9-4233-b7e6-0bf96a409286",
   "metadata": {},
   "outputs": [
    {
     "name": "stdout",
     "output_type": "stream",
     "text": [
      "[0, 1, 1, 2, 2, 2, 2, 3, 3, 3, 3, 3, 3, 3, 4, 4, 4, 5, 5, 5, 6, 6, 6, 7, 7, 8, 8, 8, 9, 9, 9, 9]\n"
     ]
    }
   ],
   "source": [
    "def  bubble_sort(nums):\n",
    "    n = len(nums)\n",
    "\n",
    "    for i in range(n):\n",
    "        for j in range(n - 1 - i):\n",
    "            if nums[j] > nums[j + 1]:\n",
    "                nums[j], nums[j + 1] = nums[j + 1], nums[j]\n",
    "    return nums\n",
    "            \n",
    "\n",
    "\n",
    "a = [3, 1, 4, 1, 5, 9, 2, 6, 5, 3, 5, 9, 0, 7, 8, 9, 7, 9, 3, 2, 3, 8, 4, 6, 2, 6, 4, 3, 3, 8, 3, 2]\n",
    "a = bubble_sort(a)\n",
    "print(a)\n",
    "\n"
   ]
  },
  {
   "cell_type": "markdown",
   "id": "cafb2b09-7299-44c5-98bf-8fb949cb205f",
   "metadata": {},
   "source": [
    "# Modified Bubble Sort"
   ]
  },
  {
   "cell_type": "code",
   "execution_count": 21,
   "id": "b732c83e-aaf0-4bc7-b50d-5dc5dda1275a",
   "metadata": {},
   "outputs": [
    {
     "name": "stdout",
     "output_type": "stream",
     "text": [
      "[0, 1, 1, 2, 2, 2, 2, 3, 3, 3, 3, 3, 3, 3, 4, 4, 4, 5, 5, 5, 6, 6, 6, 7, 7, 8, 8, 8, 9, 9, 9, 9]\n"
     ]
    }
   ],
   "source": [
    "def modified_bubble_sort(nums):\n",
    "    n = len(nums)\n",
    "    for i in range(n):\n",
    "        swapped = False\n",
    "        for j in range(n - 1 - i):\n",
    "            if nums[j] > nums[j + 1]:\n",
    "                nums[j], nums[j + 1] = nums[j + 1], nums[j]\n",
    "                swapped = True\n",
    "        if not swapped:\n",
    "            break\n",
    "    return nums\n",
    "\n",
    "\n",
    "\n",
    "a = [3, 1, 4, 1, 5, 9, 2, 6, 5, 3, 5, 9, 0, 7, 8, 9, 7, 9, 3, 2, 3, 8, 4, 6, 2, 6, 4, 3, 3, 8, 3, 2]\n",
    "a = modified_bubble_sort(a)\n",
    "print(a)\n"
   ]
  },
  {
   "cell_type": "markdown",
   "id": "34d744ec-558f-470f-823a-bfc3eb604f55",
   "metadata": {},
   "source": [
    "# Comparision BW Both Code"
   ]
  },
  {
   "cell_type": "code",
   "execution_count": 35,
   "id": "d6c75102-2309-4f9b-adc9-61b6ebad0ee2",
   "metadata": {},
   "outputs": [
    {
     "name": "stdout",
     "output_type": "stream",
     "text": [
      "Bubble Sort Time: 1.290363599997363\n",
      "Modified Bubble Sort Time: 0.10593349999908241\n"
     ]
    }
   ],
   "source": [
    "import timeit\n",
    "\n",
    "def bubble_sort(nums):\n",
    "    n = len(nums)\n",
    "    for i in range(n):\n",
    "        for j in range(n - 1 - i):\n",
    "            if nums[j] > nums[j + 1]:\n",
    "                nums[j], nums[j + 1] = nums[j + 1], nums[j]\n",
    "    return nums\n",
    "\n",
    "def modified_bubble_sort(nums):\n",
    "    n = len(nums)\n",
    "    for i in range(n):\n",
    "        swapped = False\n",
    "        for j in range(n - 1 - i):\n",
    "            if nums[j] > nums[j + 1]:\n",
    "                nums[j], nums[j + 1] = nums[j + 1], nums[j]\n",
    "                swapped = True\n",
    "        if not swapped:\n",
    "            break\n",
    "    return nums\n",
    "\n",
    "a = [0, 1, 2, 3, 4, 5, 6, 7, 8, 9, 10, 11, 12, 13, 14, 15, 16, 17, 18, 19, 20, 21, 22, 23, 24, 25, 26, 27, 28, 29, 30, 31, 32, 33, 34, 35, 36, 37, 38, 39, 40, 41, 42, 43, 44, 45, 46, 47, 48, 49, 50, 51, 52, 53, 54, 55, 56, 57, 58, 59, 60, 61, 62, 63, 64, 65, 66, 67, 68, 69, 70, 71, 72, 73, 74, 75, 76, 77, 78, 79, 80, 81, 82, 83, 84, 85, 86, 87, 88, 89, 90, 91, 92, 93, 94, 95, 96, 97, 98, 99, 100, 101, 102, 103, 104, 105, 106, 107, 108, 109, 110, 111, 112, 113, 114, 115, 116, 117, 118, 119, 120, 121, 122, 123, 124, 125, 126, 127, 128, 129, 130, 131, 132, 133, 134, 135, 136, 137, 138, 139, 140, 141, 142, 143, 144, 145, 146, 147, 148, 149, 150, 151, 152, 153, 154, 155, 156, 157, 158, 159, 160, 161, 162, 163, 164, 165, 166, 167]\n",
    "\n",
    "# Setup code for timeit\n",
    "setup_code = '''\n",
    "from __main__ import bubble_sort, modified_bubble_sort, a\n",
    "import copy\n",
    "'''\n",
    "# Time the bubble_sort\n",
    "bubble_sort_code = '''\n",
    "bubble_sort(copy.deepcopy(a))\n",
    "'''\n",
    "bubble_sort_time = timeit.timeit(stmt=bubble_sort_code, setup=setup_code, number=1000)\n",
    "print(\"Bubble Sort Time:\", bubble_sort_time)\n",
    "\n",
    "# Time the modified_bubble_sort\n",
    "modified_bubble_sort_code = '''\n",
    "modified_bubble_sort(copy.deepcopy(a))\n",
    "'''\n",
    "modified_bubble_sort_time = timeit.timeit(stmt=modified_bubble_sort_code, setup=setup_code, number=1000)\n",
    "print(\"Modified Bubble Sort Time:\", modified_bubble_sort_time)\n"
   ]
  },
  {
   "cell_type": "code",
   "execution_count": null,
   "id": "ec9b9eae-acfd-44b0-8803-73effa021b39",
   "metadata": {},
   "outputs": [],
   "source": []
  }
 ],
 "metadata": {
  "kernelspec": {
   "display_name": "Python 3 (ipykernel)",
   "language": "python",
   "name": "python3"
  },
  "language_info": {
   "codemirror_mode": {
    "name": "ipython",
    "version": 3
   },
   "file_extension": ".py",
   "mimetype": "text/x-python",
   "name": "python",
   "nbconvert_exporter": "python",
   "pygments_lexer": "ipython3",
   "version": "3.12.3"
  }
 },
 "nbformat": 4,
 "nbformat_minor": 5
}
