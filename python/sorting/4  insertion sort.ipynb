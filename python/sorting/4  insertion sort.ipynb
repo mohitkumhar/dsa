{
 "cells": [
  {
   "cell_type": "code",
   "execution_count": 10,
   "id": "f9f85ec0-e443-44bc-a8ac-59b68340d791",
   "metadata": {},
   "outputs": [
    {
     "name": "stdout",
     "output_type": "stream",
     "text": [
      "[1, 2, 3, 4, 10, 31]\n"
     ]
    }
   ],
   "source": [
    "def insertion_sort(nums):\n",
    "    for i in range(1, len(nums)):\n",
    "        key = nums[i]\n",
    "\n",
    "        j = i - 1\n",
    "        while j >= 0 and key < nums[j]:\n",
    "            nums[j + 1] = nums[j]\n",
    "            j -= 1\n",
    "        nums[j + 1] = key\n",
    "\n",
    "    return nums\n",
    "\n",
    "a = [10, 2, 31, 4, 3, 1]\n",
    "a = insertion_sort(a)\n",
    "print(a)"
   ]
  },
  {
   "cell_type": "code",
   "execution_count": null,
   "id": "0994b5e2-a18a-4847-8e39-9ee69a92b4c8",
   "metadata": {},
   "outputs": [],
   "source": []
  }
 ],
 "metadata": {
  "kernelspec": {
   "display_name": "Python 3 (ipykernel)",
   "language": "python",
   "name": "python3"
  },
  "language_info": {
   "codemirror_mode": {
    "name": "ipython",
    "version": 3
   },
   "file_extension": ".py",
   "mimetype": "text/x-python",
   "name": "python",
   "nbconvert_exporter": "python",
   "pygments_lexer": "ipython3",
   "version": "3.12.3"
  }
 },
 "nbformat": 4,
 "nbformat_minor": 5
}
