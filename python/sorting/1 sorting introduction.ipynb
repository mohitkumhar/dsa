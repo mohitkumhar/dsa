{
 "cells": [
  {
   "cell_type": "markdown",
   "id": "8cf5b8e9-536c-4d8f-ae9b-538b0bec90a3",
   "metadata": {},
   "source": [
    "# <center>Sorting</center>"
   ]
  },
  {
   "cell_type": "markdown",
   "id": "68b29931-86b6-4776-891d-915132e552e1",
   "metadata": {},
   "source": [
    "Arranging data elements in some logical order is known as sorting"
   ]
  },
  {
   "cell_type": "markdown",
   "id": "1ebf8246-425e-4eb2-a85e-04599bef850c",
   "metadata": {},
   "source": [
    "&rarr; Sorting we are going to cover is also known as internal sorting"
   ]
  },
  {
   "cell_type": "markdown",
   "id": "acdab629-8d8c-4c50-a6e3-4cfee2422a32",
   "metadata": {},
   "source": [
    "&rarr; When elements are nummbers, sorting means arranging numbers in ascending order (by Default)\n",
    "\n",
    "&rarr; When elements are string, sorting means arranging string in dictionary order (alphabetical) order (by Default)"
   ]
  },
  {
   "cell_type": "markdown",
   "id": "79134e71-59ea-4bb4-9707-697f20d8b658",
   "metadata": {},
   "source": [
    "# Various Sorting Algorithms"
   ]
  },
  {
   "cell_type": "markdown",
   "id": "f464bf92-e90d-488a-a0f2-36edb85bb09d",
   "metadata": {},
   "source": [
    "1. Bubble Sort\n",
    "2. Modified Bubble Sort\n",
    "3. Selection Sort\n",
    "4. Insertion Sort\n",
    "5. Merge Sort\n",
    "6. Heap Sort"
   ]
  },
  {
   "cell_type": "code",
   "execution_count": null,
   "id": "bc6d593a-9b0f-46ea-8c75-f0b5e6456e29",
   "metadata": {},
   "outputs": [],
   "source": []
  }
 ],
 "metadata": {
  "kernelspec": {
   "display_name": "Python 3 (ipykernel)",
   "language": "python",
   "name": "python3"
  },
  "language_info": {
   "codemirror_mode": {
    "name": "ipython",
    "version": 3
   },
   "file_extension": ".py",
   "mimetype": "text/x-python",
   "name": "python",
   "nbconvert_exporter": "python",
   "pygments_lexer": "ipython3",
   "version": "3.12.3"
  }
 },
 "nbformat": 4,
 "nbformat_minor": 5
}
