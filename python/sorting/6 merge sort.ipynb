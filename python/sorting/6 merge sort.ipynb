{
 "cells": [
  {
   "cell_type": "code",
   "execution_count": 8,
   "id": "39ffa8f8-f61d-431c-a656-c21d179e75e4",
   "metadata": {},
   "outputs": [
    {
     "name": "stdout",
     "output_type": "stream",
     "text": [
      "[1, 2, 3, 4, 5, 6, 7, 8, 9, 10]\n"
     ]
    }
   ],
   "source": [
    "# Merge Sort When Given Two List are Given (Both Should Be Sorted)\n",
    "\n",
    "def merge_sort(nums1, nums2):\n",
    "    result = [0] * (len(nums1) + len(nums2))\n",
    "\n",
    "    i = j = k = 0\n",
    "\n",
    "    while i < len(nums1) and j < len(nums2):\n",
    "        if nums1[i] < nums2[j]:\n",
    "            result[k] = nums1[i]\n",
    "            i += 1\n",
    "        else:\n",
    "            result[k] = nums2[j]\n",
    "            j += 1\n",
    "        k += 1\n",
    "\n",
    "    while i < len(nums1):\n",
    "        result[k] = nums1[i]\n",
    "        i += 1\n",
    "        k += 1\n",
    "\n",
    "    while j < len(nums2):\n",
    "        result[k] = nums2[j]\n",
    "        j += 1\n",
    "        k += 1\n",
    "\n",
    "    return result\n",
    "        \n",
    "\n",
    "nums1 = [1, 3, 5, 7, 9]\n",
    "nums2 = [2, 4, 6, 8, 10]\n",
    "\n",
    "nums = merge_sort(nums1, nums2)\n",
    "print(nums)\n",
    "\n",
    "    "
   ]
  },
  {
   "cell_type": "code",
   "execution_count": 6,
   "id": "33cdc154-0f63-42e3-9ca2-f9feaea47b43",
   "metadata": {},
   "outputs": [
    {
     "name": "stdout",
     "output_type": "stream",
     "text": [
      "[1, 2, 3, 4, 5, 6, 7]\n"
     ]
    }
   ],
   "source": [
    "# Sorting in one List (Which is Sorted in Two parts)\n",
    "#                                                     1, 3, 5,  2, 4, 6, 7\n",
    "#                                                     _______   ___________\n",
    "#                                                     Sorted      Sorted\n",
    "\n",
    "def merge_sort_one_list(nums):\n",
    "    if len(nums) > 1:\n",
    "        mid = len(nums) // 2\n",
    "\n",
    "        left_half = nums[:mid]\n",
    "        right_half = nums[mid:]\n",
    "\n",
    "        merge_sort_one_list(left_half)\n",
    "        merge_sort_one_list(right_half)\n",
    "\n",
    "        i = j = k = 0\n",
    "\n",
    "        while i < len(left_half) and j < len(right_half):\n",
    "            if left_half[i] < right_half[j]:\n",
    "                nums[k] = left_half[i]\n",
    "                i += 1\n",
    "            else:\n",
    "                nums[k] = right_half[j]\n",
    "                j += 1\n",
    "            k += 1\n",
    "\n",
    "        while i < len(left_half):\n",
    "            nums[k] = left_half[i]\n",
    "            i += 1\n",
    "            k += 1\n",
    "\n",
    "        while j < len(right_half):\n",
    "            nums[k] = right_half[j]\n",
    "            k += 1\n",
    "            j += 1\n",
    "    return nums\n",
    "\n",
    "\n",
    "a = [1, 3, 5, 2, 4, 6, 7]\n",
    "a = merge_sort_one_list(a)\n",
    "print(a)"
   ]
  },
  {
   "cell_type": "code",
   "execution_count": null,
   "id": "8e805f0d-1d43-44d9-8bca-f8a69ebfb702",
   "metadata": {},
   "outputs": [],
   "source": []
  },
  {
   "cell_type": "code",
   "execution_count": null,
   "id": "4bd7f583-2447-45ae-aebd-75b5da104550",
   "metadata": {},
   "outputs": [],
   "source": []
  },
  {
   "cell_type": "code",
   "execution_count": null,
   "id": "39165970-16ad-460f-a7cb-17984f30eefb",
   "metadata": {},
   "outputs": [],
   "source": []
  },
  {
   "cell_type": "code",
   "execution_count": null,
   "id": "bc002175-2fd6-4df1-a6f2-480f16f92cb0",
   "metadata": {},
   "outputs": [],
   "source": []
  },
  {
   "cell_type": "code",
   "execution_count": null,
   "id": "78d4ae5f-ad5a-4236-9b0e-bf21bd0d6b1c",
   "metadata": {},
   "outputs": [],
   "source": []
  },
  {
   "cell_type": "code",
   "execution_count": null,
   "id": "d52a365b-c9e9-418d-b186-f59ef27a2c93",
   "metadata": {},
   "outputs": [],
   "source": []
  }
 ],
 "metadata": {
  "kernelspec": {
   "display_name": "Python 3 (ipykernel)",
   "language": "python",
   "name": "python3"
  },
  "language_info": {
   "codemirror_mode": {
    "name": "ipython",
    "version": 3
   },
   "file_extension": ".py",
   "mimetype": "text/x-python",
   "name": "python",
   "nbconvert_exporter": "python",
   "pygments_lexer": "ipython3",
   "version": "3.12.3"
  }
 },
 "nbformat": 4,
 "nbformat_minor": 5
}
