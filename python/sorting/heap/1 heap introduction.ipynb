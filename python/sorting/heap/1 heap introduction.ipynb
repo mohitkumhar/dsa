{
 "cells": [
  {
   "cell_type": "markdown",
   "id": "6e3f9030-83b5-4bb4-891e-162f23e2ee9c",
   "metadata": {},
   "source": [
    "# <center>Heap</center>"
   ]
  },
  {
   "cell_type": "markdown",
   "id": "d1d596e1-5865-4726-b5f5-51ed33d2ee1e",
   "metadata": {},
   "source": [
    "Heap is a Data Structure\n",
    "\n",
    "&rarr; Heap is Used in a Sorting Algorithm known as Heap Sort\n",
    "\n",
    "<b>Heap are of two Types:-</b>\n",
    "\n",
    "1. Max Heap (By Default)\n",
    "2. Min Heap"
   ]
  },
  {
   "cell_type": "markdown",
   "id": "0fbb0193-d22a-4024-ac0d-883ed0912e5c",
   "metadata": {},
   "source": [
    "- Properties of Heap<br>\n",
    "&rarr; The Value of Node N is Greater than or Equal to value at each children of Node N<br>\n",
    "&rarr; Heap must be an almost camplete binary tree<br>\n",
    "\n",
    "For Min Heap Value of N should be less than or equal to its children node"
   ]
  },
  {
   "cell_type": "markdown",
   "id": "701726f2-9832-4c6f-9642-0600b93e5979",
   "metadata": {},
   "source": [
    "# How to Find Parent or Child Node"
   ]
  },
  {
   "cell_type": "markdown",
   "id": "d8bce4df-6612-4a00-a7f2-cdfdef037653",
   "metadata": {},
   "source": [
    "- How to Find Index of child Nodes.?<br>\n",
    "(index is index of Node N)<br>\n",
    "&rarr; index of left child = 2 * index + 1<br>\n",
    "&rarr; index of right child = 2 * index + 2<br>\n",
    "\n",
    "- How to Find Index of Parent Node.?<br>\n",
    "(index of Node N = index)<br>\n",
    "&rarr; index of Parent Node of N = (index - 1) // 2\n"
   ]
  },
  {
   "cell_type": "code",
   "execution_count": null,
   "id": "e666ed1d-8815-450c-b98d-aaaa1ad38cb7",
   "metadata": {},
   "outputs": [],
   "source": []
  }
 ],
 "metadata": {
  "kernelspec": {
   "display_name": "Python 3 (ipykernel)",
   "language": "python",
   "name": "python3"
  },
  "language_info": {
   "codemirror_mode": {
    "name": "ipython",
    "version": 3
   },
   "file_extension": ".py",
   "mimetype": "text/x-python",
   "name": "python",
   "nbconvert_exporter": "python",
   "pygments_lexer": "ipython3",
   "version": "3.12.3"
  }
 },
 "nbformat": 4,
 "nbformat_minor": 5
}
