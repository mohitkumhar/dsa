{
 "cells": [
  {
   "cell_type": "code",
   "execution_count": 8,
   "id": "9bd19dc0-b4ed-4218-ab11-418301fd7e97",
   "metadata": {},
   "outputs": [],
   "source": [
    "class Heap:\n",
    "    def __init__(self):\n",
    "        self.heap = []\n",
    "\n",
    "    def createHeap(self, elements):\n",
    "        for element in elements:\n",
    "            self.insert(element)\n",
    "\n",
    "    def insert(self, element):\n",
    "        index = len(self.heap)  # place where new element must be added\n",
    "        parentIndex = (index - 1) // 2\n",
    "\n",
    "        while index > 0 and self.heap[parentIndex] < element:\n",
    "            if index == len(self.heap):\n",
    "                self.heap.append(self.heap[parentIndex])\n",
    "            else:\n",
    "                self.heap[index] = self.heap[parentIndex]\n",
    "            index = parentIndex\n",
    "            parentIndex = (index - 1) // 2\n",
    "        if index == len(self.heap):\n",
    "            self.heap.append(element)\n",
    "        else:\n",
    "            self.heap[index] = element\n",
    "\n",
    "    def top(self):\n",
    "        if len(self.heap) == 0:\n",
    "            raise EmptyHeapException()\n",
    "        return self.heap[0]\n",
    "\n",
    "    def delete(self):\n",
    "        if len(self.heap) == 0:\n",
    "            raise EmptyHeapException()\n",
    "        if len(self.heap) == 1:\n",
    "            return self.heap.pop()\n",
    "\n",
    "        max_value = self.heap[0]\n",
    "        temp = self.heap.pop()\n",
    "        index = 0\n",
    "        leftChildIndex = 2 * index + 1\n",
    "        rightChildIndex = 2 * index + 2\n",
    "\n",
    "        while leftChildIndex < len(self.heap):\n",
    "            if rightChildIndex < len(self.heap):\n",
    "                if self.heap[leftChildIndex] > self.heap[rightChildIndex]:\n",
    "                    if self.heap[leftChildIndex] > temp:\n",
    "                        self.heap[index] = self.heap[leftChildIndex]\n",
    "                        index = leftChildIndex\n",
    "                    else:\n",
    "                        break\n",
    "                else:\n",
    "                    if self.heap[rightChildIndex] > temp:\n",
    "                        self.heap[index] = self.heap[rightChildIndex]\n",
    "                        index = rightChildIndex\n",
    "                    else:\n",
    "                        break\n",
    "            else:  # No Right Child\n",
    "                if self.heap[leftChildIndex] > temp:\n",
    "                    self.heap[index] = self.heap[leftChildIndex]\n",
    "                    index = leftChildIndex\n",
    "                else:\n",
    "                    break\n",
    "            leftChildIndex = 2 * index + 1\n",
    "            rightChildIndex = 2 * index + 2\n",
    "        self.heap[index] = temp\n",
    "        return max_value\n",
    "\n",
    "    def heap_sort(self, list1):\n",
    "        self.createHeap(list1)\n",
    "        list2 = []\n",
    "\n",
    "        try:\n",
    "            while True:\n",
    "                list2.insert(0, self.delete())\n",
    "        except EmptyHeapException:\n",
    "            pass\n",
    "        return list2\n",
    "\n",
    "\n",
    "class EmptyHeapException(Exception):\n",
    "    def __init__(self, msg='Empty Heap'):\n",
    "        self.msg=msg\n",
    "    def __str__(self):\n",
    "        return self.msg\n",
    "\n",
    "\n",
    "        \n",
    "        "
   ]
  },
  {
   "cell_type": "code",
   "execution_count": 9,
   "id": "5fb5e46c-e23d-4e17-b900-3e96d72bf2b8",
   "metadata": {},
   "outputs": [],
   "source": [
    "h1 = Heap()"
   ]
  },
  {
   "cell_type": "code",
   "execution_count": 10,
   "id": "e20957f5-41fb-4697-946d-f5e3431f29dc",
   "metadata": {},
   "outputs": [
    {
     "name": "stdout",
     "output_type": "stream",
     "text": [
      "[1, 2, 2, 3, 4, 4, 5, 6, 12, 12, 23, 23, 34, 55, 341]\n"
     ]
    }
   ],
   "source": [
    "list1 = [1,2,4,3,5,6,55,4,12,23,34,12,23,341,2]\n",
    "list2 = h1.heap_sort(list1)\n",
    "print(list2)"
   ]
  },
  {
   "cell_type": "code",
   "execution_count": null,
   "id": "fbb400cd-8554-4523-bfa5-07003cea1297",
   "metadata": {},
   "outputs": [],
   "source": []
  }
 ],
 "metadata": {
  "kernelspec": {
   "display_name": "Python 3 (ipykernel)",
   "language": "python",
   "name": "python3"
  },
  "language_info": {
   "codemirror_mode": {
    "name": "ipython",
    "version": 3
   },
   "file_extension": ".py",
   "mimetype": "text/x-python",
   "name": "python",
   "nbconvert_exporter": "python",
   "pygments_lexer": "ipython3",
   "version": "3.12.3"
  }
 },
 "nbformat": 4,
 "nbformat_minor": 5
}
