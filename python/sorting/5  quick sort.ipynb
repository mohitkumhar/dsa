{
 "cells": [
  {
   "cell_type": "code",
   "execution_count": 3,
   "id": "ea7fbf51-b98d-4206-b6b4-bdbaa630e452",
   "metadata": {},
   "outputs": [
    {
     "name": "stdout",
     "output_type": "stream",
     "text": [
      "[1, 2, 3, 4]\n"
     ]
    }
   ],
   "source": [
    "def quick_sort(nums):\n",
    "    if len(nums) < 2:\n",
    "        return nums\n",
    "    \n",
    "    else:\n",
    "        pivot = nums[0]\n",
    "        lesser = [x for x in nums if x < pivot]\n",
    "        greater = [x for x in nums if x > pivot]\n",
    "\n",
    "        return quick_sort(lesser) + [pivot] + quick_sort(greater)\n",
    "\n",
    "a = [3,2,4,1]\n",
    "a = quick_sort(a)\n",
    "print(a)"
   ]
  },
  {
   "cell_type": "code",
   "execution_count": null,
   "id": "1204625e-f8f7-45a2-9d25-8d1a32fb20c8",
   "metadata": {},
   "outputs": [],
   "source": []
  }
 ],
 "metadata": {
  "kernelspec": {
   "display_name": "Python 3 (ipykernel)",
   "language": "python",
   "name": "python3"
  },
  "language_info": {
   "codemirror_mode": {
    "name": "ipython",
    "version": 3
   },
   "file_extension": ".py",
   "mimetype": "text/x-python",
   "name": "python",
   "nbconvert_exporter": "python",
   "pygments_lexer": "ipython3",
   "version": "3.12.3"
  }
 },
 "nbformat": 4,
 "nbformat_minor": 5
}
