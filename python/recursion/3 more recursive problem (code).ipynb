{
 "cells": [
  {
   "cell_type": "markdown",
   "id": "a02b4a17-3575-4241-933c-ff3996eed63e",
   "metadata": {},
   "source": [
    "Write a recursive function to calculate sum of first N natural Numbers"
   ]
  },
  {
   "cell_type": "code",
   "execution_count": 6,
   "id": "f4696b12-3a9b-4799-a728-09d9edd18787",
   "metadata": {},
   "outputs": [
    {
     "name": "stdout",
     "output_type": "stream",
     "text": [
      "55\n"
     ]
    }
   ],
   "source": [
    "def sum_n_natural(n):\n",
    "    sum = 0\n",
    "    if n == 1:\n",
    "        return 1\n",
    "    sum = sum + n + sum_n_natural(n - 1)\n",
    "    return sum\n",
    "print(sum_n_natural(10))\n",
    "        \n",
    "        "
   ]
  },
  {
   "cell_type": "markdown",
   "id": "ff82d3ba-2491-448f-9d6e-d2fe73bb6942",
   "metadata": {},
   "source": [
    "Write a recursive function to calculate sum of first N odd natural numbers"
   ]
  },
  {
   "cell_type": "code",
   "execution_count": 10,
   "id": "8c6590de-5691-40db-aa5c-d060a1f9d968",
   "metadata": {},
   "outputs": [
    {
     "name": "stdout",
     "output_type": "stream",
     "text": [
      "25\n"
     ]
    }
   ],
   "source": [
    "def sum_n_odd(n):\n",
    "    if n % 2 == 0:\n",
    "        n -= 1\n",
    "    sum = 0\n",
    "    if n == 1:\n",
    "        return 1\n",
    "    sum = sum + n + sum_n_odd(n - 2)\n",
    "    return sum\n",
    "print(sum_n_odd(10))"
   ]
  },
  {
   "cell_type": "markdown",
   "id": "1703b0b6-e17c-43c4-8210-99f54fddf69f",
   "metadata": {},
   "source": [
    "Write a recursive function to calculate sum of first N even natural numbers"
   ]
  },
  {
   "cell_type": "code",
   "execution_count": 14,
   "id": "ef7b7687-9eb3-44cd-ae6c-4d0d98be07f0",
   "metadata": {},
   "outputs": [
    {
     "name": "stdout",
     "output_type": "stream",
     "text": [
      "30\n"
     ]
    }
   ],
   "source": [
    "def sum_n_even(n):\n",
    "    if n % 2 != 0:\n",
    "        n -= 1\n",
    "    if n == 0:\n",
    "        return 0\n",
    "    sum = 0\n",
    "    sum = sum + n + sum_n_even(n - 2)\n",
    "    return sum\n",
    "print(sum_n_even(10))\n",
    "        "
   ]
  },
  {
   "cell_type": "markdown",
   "id": "65cb8575-cfd0-4485-945e-58b355749ccc",
   "metadata": {},
   "source": [
    "Write a recursive function to calculate factorial of a number"
   ]
  },
  {
   "cell_type": "code",
   "execution_count": 27,
   "id": "8950837a-97ee-4b89-8342-9b93ed22139e",
   "metadata": {},
   "outputs": [
    {
     "data": {
      "text/plain": [
       "120"
      ]
     },
     "execution_count": 27,
     "metadata": {},
     "output_type": "execute_result"
    }
   ],
   "source": [
    "def factorial(n):\n",
    "    if n == 1:\n",
    "        return 1\n",
    "    \n",
    "    return n * factorial(n - 1)\n",
    "    \n",
    "factorial(5)\n",
    "        "
   ]
  },
  {
   "cell_type": "markdown",
   "id": "861768ab-6b1a-4b64-a2b8-ea9311d6c2fe",
   "metadata": {},
   "source": [
    "Write a recursive function to calculate sum of squares of first N natural numbers"
   ]
  },
  {
   "cell_type": "code",
   "execution_count": 1,
   "id": "07b71bff-f135-4873-aad5-a6cc8b7906ee",
   "metadata": {},
   "outputs": [
    {
     "name": "stdout",
     "output_type": "stream",
     "text": [
      "385\n"
     ]
    }
   ],
   "source": [
    "def sum_of_squares(n):\n",
    "    if n == 1:\n",
    "        return 1\n",
    "\n",
    "    sum = 0\n",
    "    sum = sum + (n*n) + sum_of_squares(n - 1)\n",
    "    return sum\n",
    "print(sum_of_squares(10))"
   ]
  },
  {
   "cell_type": "code",
   "execution_count": null,
   "id": "8cdee220-53e2-405d-b614-c72917b993c3",
   "metadata": {},
   "outputs": [],
   "source": []
  }
 ],
 "metadata": {
  "kernelspec": {
   "display_name": "Python 3 (ipykernel)",
   "language": "python",
   "name": "python3"
  },
  "language_info": {
   "codemirror_mode": {
    "name": "ipython",
    "version": 3
   },
   "file_extension": ".py",
   "mimetype": "text/x-python",
   "name": "python",
   "nbconvert_exporter": "python",
   "pygments_lexer": "ipython3",
   "version": "3.12.3"
  }
 },
 "nbformat": 4,
 "nbformat_minor": 5
}
