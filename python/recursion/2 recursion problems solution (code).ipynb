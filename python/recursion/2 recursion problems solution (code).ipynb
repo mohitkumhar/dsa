{
 "cells": [
  {
   "cell_type": "markdown",
   "id": "f143e6c7-9d6f-4cee-8eba-342793265466",
   "metadata": {},
   "source": [
    "Print First N natural Number"
   ]
  },
  {
   "cell_type": "code",
   "execution_count": 43,
   "id": "6409ab20-d5d9-4e11-880b-669017cd435b",
   "metadata": {},
   "outputs": [
    {
     "name": "stdout",
     "output_type": "stream",
     "text": [
      "1 2 3 4 5 6 7 8 9 10 "
     ]
    }
   ],
   "source": [
    "def Nnatural(n):\n",
    "    if n > 0:\n",
    "        Nnatural(n - 1)\n",
    "        print(n, end = ' ')\n",
    "\n",
    "Nnatural(10)"
   ]
  },
  {
   "cell_type": "markdown",
   "id": "075465d3-b26a-4d12-94f9-62ce472eb076",
   "metadata": {},
   "source": [
    "Print First N natural Number in reverse Order"
   ]
  },
  {
   "cell_type": "code",
   "execution_count": 54,
   "id": "e77ec398-7395-4292-a61b-45b84967b39e",
   "metadata": {},
   "outputs": [
    {
     "name": "stdout",
     "output_type": "stream",
     "text": [
      "10 9 8 7 6 5 4 3 2 1 "
     ]
    }
   ],
   "source": [
    "def reverseNnatural(n):\n",
    "    if n > 0:\n",
    "        print(n, end = ' ')\n",
    "        reverseNnatural(n - 1)\n",
    "reverseNnatural(10)"
   ]
  },
  {
   "cell_type": "markdown",
   "id": "0b0baa87-7406-4791-8fed-61a3829f86af",
   "metadata": {},
   "source": [
    "Write a function to print first N odd natural numbers"
   ]
  },
  {
   "cell_type": "code",
   "execution_count": 68,
   "id": "58be1b75-71cf-40dc-9183-9f055474d81f",
   "metadata": {},
   "outputs": [
    {
     "name": "stdout",
     "output_type": "stream",
     "text": [
      "1 3 5 7 9 11 13 15 17 19 "
     ]
    }
   ],
   "source": [
    "def odd_count(n):\n",
    "    if n >= 1:\n",
    "        odd_count(n - 1)\n",
    "        print(2*n - 1, end=' ')\n",
    "odd_count(10)\n"
   ]
  },
  {
   "cell_type": "markdown",
   "id": "cdcb3d84-bd0c-4af8-a9d0-d96101af8bc6",
   "metadata": {},
   "source": [
    "Write a function to print first N odd natural numbers in reverse order"
   ]
  },
  {
   "cell_type": "code",
   "execution_count": 67,
   "id": "f1c72688-f22a-46db-ad2b-4eda36bb1442",
   "metadata": {},
   "outputs": [
    {
     "name": "stdout",
     "output_type": "stream",
     "text": [
      "19 17 15 13 11 9 7 5 3 1 "
     ]
    }
   ],
   "source": [
    "def odd_count_reverse(n):\n",
    "    if n >= 1:\n",
    "        print(2*n - 1, end = ' ')\n",
    "        odd_count_reverse(n - 1)\n",
    "odd_count_reverse(10)\n",
    "        "
   ]
  },
  {
   "cell_type": "markdown",
   "id": "7dcdef2c-96f3-40fb-af18-52b8999c6f1f",
   "metadata": {},
   "source": [
    "Write a recursive function to print first N even natural numbers"
   ]
  },
  {
   "cell_type": "code",
   "execution_count": 66,
   "id": "bac57d27-be3f-40df-9b68-1a6867a853b2",
   "metadata": {},
   "outputs": [
    {
     "name": "stdout",
     "output_type": "stream",
     "text": [
      "2 4 6 8 10 12 14 16 18 20 "
     ]
    }
   ],
   "source": [
    "def even_count(n):\n",
    "    if n >= 1:\n",
    "        even_count(n - 1)\n",
    "        print(2 * n, end=' ')\n",
    "even_count(10)"
   ]
  },
  {
   "cell_type": "markdown",
   "id": "a5e8a0ae-bf82-458e-b874-059d1f4e18b4",
   "metadata": {},
   "source": [
    "Write a recursive function to print first N even natural numbers in reverse"
   ]
  },
  {
   "cell_type": "code",
   "execution_count": 65,
   "id": "1a5370f3-e951-4a96-8c12-d1d85543fe36",
   "metadata": {},
   "outputs": [
    {
     "name": "stdout",
     "output_type": "stream",
     "text": [
      "20 18 16 14 12 10 8 6 4 2 "
     ]
    }
   ],
   "source": [
    "def even_count_reverse(n):\n",
    "    if n >= 1:\n",
    "        print(2*n, end = ' ')\n",
    "        even_count_reverse(n - 1)\n",
    "even_count_reverse(10)"
   ]
  },
  {
   "cell_type": "code",
   "execution_count": null,
   "id": "ee74ba88-3d0b-4907-b774-626ad122da2b",
   "metadata": {},
   "outputs": [],
   "source": []
  }
 ],
 "metadata": {
  "kernelspec": {
   "display_name": "Python 3 (ipykernel)",
   "language": "python",
   "name": "python3"
  },
  "language_info": {
   "codemirror_mode": {
    "name": "ipython",
    "version": 3
   },
   "file_extension": ".py",
   "mimetype": "text/x-python",
   "name": "python",
   "nbconvert_exporter": "python",
   "pygments_lexer": "ipython3",
   "version": "3.12.3"
  }
 },
 "nbformat": 4,
 "nbformat_minor": 5
}
