{
 "cells": [
  {
   "cell_type": "markdown",
   "id": "c7c9ed25-b7ae-4ef1-9c9e-a73f79ad384b",
   "metadata": {},
   "source": [
    "# <center>Recursion</center>"
   ]
  },
  {
   "cell_type": "markdown",
   "id": "1efe2847-00f8-4276-8eb9-5551aa4e54af",
   "metadata": {},
   "source": [
    "Function Calling itself is called Recursion"
   ]
  },
  {
   "cell_type": "markdown",
   "id": "993875e3-8006-4dd2-a264-55c936c7127a",
   "metadata": {},
   "source": [
    "<h5>\n",
    "    <li>In Recursion, Problem is solved in term of problem itself\n",
    "    <li>Each time recursive function call to itself for little simpler version of the original problem\n",
    "</h5>"
   ]
  },
  {
   "cell_type": "markdown",
   "id": "5bbf1736-6de2-40cc-8fb1-6f7f7a99b5fa",
   "metadata": {},
   "source": [
    "<pre>\n",
    "\n",
    "    f1(100)\n",
    "    ^\n",
    "    |____  100 + f1(99)\n",
    "                    ^\n",
    "                    |\n",
    "            ---------\n",
    "            |\n",
    "            99 + f1(98)\n",
    "                    ^\n",
    "                    |\n",
    "            ---------\n",
    "            |\n",
    "            98 + f1(97)\n",
    "               .\n",
    "               .\n",
    "               .\n",
    "               .\n",
    "            4 + f1(3)\n",
    "                  ^\n",
    "                  |\n",
    "            -------\n",
    "            |\n",
    "            3 + f1(2)\n",
    "                   ^\n",
    "                   |\n",
    "            --------\n",
    "            |\n",
    "            2 + f1(1)\n",
    "                  |\n",
    "                  |\n",
    "                  ↓\n",
    "                  1\n",
    "                \n",
    "                    \n",
    "\n",
    "    \n",
    "</pre>"
   ]
  },
  {
   "cell_type": "code",
   "execution_count": null,
   "id": "4f3d8d84-5dc0-4bba-8a48-91f88b25e1c4",
   "metadata": {},
   "outputs": [],
   "source": []
  }
 ],
 "metadata": {
  "kernelspec": {
   "display_name": "Python 3 (ipykernel)",
   "language": "python",
   "name": "python3"
  },
  "language_info": {
   "codemirror_mode": {
    "name": "ipython",
    "version": 3
   },
   "file_extension": ".py",
   "mimetype": "text/x-python",
   "name": "python",
   "nbconvert_exporter": "python",
   "pygments_lexer": "ipython3",
   "version": "3.12.3"
  }
 },
 "nbformat": 4,
 "nbformat_minor": 5
}
