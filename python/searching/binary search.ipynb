{
 "cells": [
  {
   "cell_type": "code",
   "execution_count": 15,
   "id": "e17b42da-64c9-4f1a-9976-74b7659c2599",
   "metadata": {},
   "outputs": [
    {
     "name": "stdout",
     "output_type": "stream",
     "text": [
      "5\n"
     ]
    }
   ],
   "source": [
    "def binary_search(list1, data):\n",
    "    start = 0\n",
    "    end = len(list1) - 1\n",
    "\n",
    "    while start <= end:\n",
    "        mid = (start + end) // 2\n",
    "\n",
    "        if list1[mid] == data:\n",
    "            return mid\n",
    "\n",
    "        if list1[mid] > data:\n",
    "            end = mid - 1\n",
    "\n",
    "        elif list1[mid] < data:\n",
    "            start = mid + 1\n",
    "    return None\n",
    "\n",
    "    \n",
    "a = [11, 22, 33, 44, 55, 66]\n",
    "a = binary_search(a, 66)\n",
    "print(a)\n"
   ]
  },
  {
   "cell_type": "code",
   "execution_count": null,
   "id": "4627479f-66da-4004-b29f-ca347d60fc67",
   "metadata": {},
   "outputs": [],
   "source": []
  }
 ],
 "metadata": {
  "kernelspec": {
   "display_name": "Python 3 (ipykernel)",
   "language": "python",
   "name": "python3"
  },
  "language_info": {
   "codemirror_mode": {
    "name": "ipython",
    "version": 3
   },
   "file_extension": ".py",
   "mimetype": "text/x-python",
   "name": "python",
   "nbconvert_exporter": "python",
   "pygments_lexer": "ipython3",
   "version": "3.12.3"
  }
 },
 "nbformat": 4,
 "nbformat_minor": 5
}
