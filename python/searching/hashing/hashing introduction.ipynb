{
 "cells": [
  {
   "cell_type": "markdown",
   "id": "10f1d79f-0d7e-4164-a982-c7e9b08321e2",
   "metadata": {},
   "source": [
    "# <center>Hashing</center>"
   ]
  },
  {
   "cell_type": "markdown",
   "id": "9eb48766-5272-42f9-ac72-b0e19db04ffa",
   "metadata": {},
   "source": [
    "It is a technique of <u>mapping keys</u> and <u>values</u> into the <u>hash table</u> by using <u>hash function</u>"
   ]
  },
  {
   "cell_type": "markdown",
   "id": "af9f6937-253e-4ec0-ad32-45ee69fa9bdf",
   "metadata": {},
   "source": [
    "It implemented correctly, then one can achieve <u>O(1)</u> time complexity in searching an item in the collection of elements\n",
    "\n",
    "&rarr; Efficiency if mapping depends on the efficiency of the hash function used"
   ]
  },
  {
   "cell_type": "markdown",
   "id": "8f67c558-275e-43c9-9512-6b96e98eb757",
   "metadata": {},
   "source": [
    "# Key Points\n",
    "\n",
    "<b>Hash Table:</b> It is the data structure used to store elements\n",
    "\n",
    "<b>Hash Function:</b> It is a Function to map (hash) key-values to the memory address\n",
    "\n",
    "<b>Hashing:</b> It is a method for storing and retrieving records from a database "
   ]
  },
  {
   "cell_type": "code",
   "execution_count": null,
   "id": "adf9d36c-009d-42e9-865a-1cb77d318ae4",
   "metadata": {},
   "outputs": [],
   "source": []
  }
 ],
 "metadata": {
  "kernelspec": {
   "display_name": "Python 3 (ipykernel)",
   "language": "python",
   "name": "python3"
  },
  "language_info": {
   "codemirror_mode": {
    "name": "ipython",
    "version": 3
   },
   "file_extension": ".py",
   "mimetype": "text/x-python",
   "name": "python",
   "nbconvert_exporter": "python",
   "pygments_lexer": "ipython3",
   "version": "3.12.3"
  }
 },
 "nbformat": 4,
 "nbformat_minor": 5
}
