{
 "cells": [
  {
   "cell_type": "code",
   "execution_count": 3,
   "id": "02bbe08d-2676-484f-acfd-669422793010",
   "metadata": {},
   "outputs": [
    {
     "name": "stdout",
     "output_type": "stream",
     "text": [
      "2\n"
     ]
    }
   ],
   "source": [
    "def linear_search(list1, data):\n",
    "    for i in range(len(list1)):\n",
    "        if list1[i] == data:\n",
    "            return i\n",
    "    return None\n",
    "\n",
    "a = [11, 22, 33, 44, 55, 66]\n",
    "a = linear_search(a, 33)\n",
    "print(a)"
   ]
  }
 ],
 "metadata": {
  "kernelspec": {
   "display_name": "Python 3 (ipykernel)",
   "language": "python",
   "name": "python3"
  },
  "language_info": {
   "codemirror_mode": {
    "name": "ipython",
    "version": 3
   },
   "file_extension": ".py",
   "mimetype": "text/x-python",
   "name": "python",
   "nbconvert_exporter": "python",
   "pygments_lexer": "ipython3",
   "version": "3.12.3"
  }
 },
 "nbformat": 4,
 "nbformat_minor": 5
}
