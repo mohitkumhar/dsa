{
 "cells": [
  {
   "cell_type": "markdown",
   "id": "8a28688e-9934-458e-a958-065ea38b4de8",
   "metadata": {},
   "source": [
    "# <center>Binary Search Tree</center>"
   ]
  },
  {
   "cell_type": "markdown",
   "id": "3260b1b5-6de4-46b3-aff0-592b5bd7b23c",
   "metadata": {},
   "source": [
    "A binary search tree (BST) is a type of data structure that keeps elements in order, making it easy to find, add, and remove items. In a BST, each node has at most two children:\n",
    "\n",
    "- The left child has a smaller value than the parent node.\n",
    "- The right child has a larger value than the parent node.\n",
    "\n",
    "This structure helps quickly locate any item by repeatedly dividing the search space in half.\n"
   ]
  },
  {
   "cell_type": "markdown",
   "id": "93bfd3d8-ff37-4ed5-b204-e39cf3580532",
   "metadata": {},
   "source": [
    "<hr>"
   ]
  },
  {
   "cell_type": "markdown",
   "id": "28a5d27a-a155-4c6d-91b1-d49fc15499b3",
   "metadata": {},
   "source": [
    "A Binary Search Tree is the most important data structure, that enables one to search for and find an element with an average running time\n",
    "\n",
    "<b>\n",
    "f(n) = O(log₂ n)\n",
    "</b>"
   ]
  },
  {
   "cell_type": "markdown",
   "id": "4b63d592-3ace-43b9-a225-1645be08ad15",
   "metadata": {},
   "source": [
    "&rarr; Duplicate values are not allowed in Binary Search Tree (By Default)"
   ]
  },
  {
   "cell_type": "markdown",
   "id": "3473a241-f10e-421f-95f6-cebf4f447cd5",
   "metadata": {},
   "source": [
    "# Operations in BST"
   ]
  },
  {
   "cell_type": "markdown",
   "id": "00e9e300-0adf-42c9-8497-c70f949682f2",
   "metadata": {},
   "source": [
    "insertion<br>\n",
    "traversing<br>\n",
    "search<br>\n",
    "deletion<br>"
   ]
  },
  {
   "cell_type": "code",
   "execution_count": null,
   "id": "070e2eb7-2392-418c-9daa-aab9f52e0d61",
   "metadata": {},
   "outputs": [],
   "source": []
  }
 ],
 "metadata": {
  "kernelspec": {
   "display_name": "Python 3 (ipykernel)",
   "language": "python",
   "name": "python3"
  },
  "language_info": {
   "codemirror_mode": {
    "name": "ipython",
    "version": 3
   },
   "file_extension": ".py",
   "mimetype": "text/x-python",
   "name": "python",
   "nbconvert_exporter": "python",
   "pygments_lexer": "ipython3",
   "version": "3.12.3"
  }
 },
 "nbformat": 4,
 "nbformat_minor": 5
}
