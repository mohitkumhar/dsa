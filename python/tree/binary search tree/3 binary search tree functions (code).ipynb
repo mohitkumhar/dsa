{
 "cells": [
  {
   "cell_type": "code",
   "execution_count": 1,
   "id": "d1b5b5fb-cd99-41cb-ab19-86c2eaf3b93a",
   "metadata": {},
   "outputs": [],
   "source": [
    "class Node:\n",
    "    def __init__(self, data=None, left=None, right=None):\n",
    "        self.data=data\n",
    "        self.left=left\n",
    "        self.right=right"
   ]
  },
  {
   "cell_type": "code",
   "execution_count": 95,
   "id": "a426bca3-39ad-49d2-a5e9-3b791f148c78",
   "metadata": {},
   "outputs": [],
   "source": [
    "class Tree:\n",
    "    def __init__(self):\n",
    "        self.root=None\n",
    "\n",
    "    # insertion\n",
    "    def insert(self, data):\n",
    "        self.root = self.insertion_helper(self.root, data)\n",
    "\n",
    "    def insertion_helper(self, root, data):\n",
    "        if root is None:\n",
    "            return Node(data)\n",
    "        if data < root.data:\n",
    "            root.left = self.insertion_helper(root.left, data)\n",
    "        elif data > root.data:\n",
    "            root.right = self.insertion_helper(root.right, data)\n",
    "        return root \n",
    "\n",
    "\n",
    "    # search\n",
    "    \n",
    "    def search(self, data):\n",
    "        return self.search_helper(self.root, data)\n",
    "\n",
    "    def search_helper(self, root, data):\n",
    "        if root == None:\n",
    "            return 'Data is Not Found in Tree'\n",
    "            \n",
    "        if data == root.data:\n",
    "            return root.data\n",
    "\n",
    "        elif data < root.data:\n",
    "            return self.search_helper(root.left, data)\n",
    "\n",
    "        elif data > root.data:\n",
    "            return self.search_helper(root.right, data)\n",
    "\n",
    "\n",
    "    # traversing\n",
    "\n",
    "    def inorder_traversal(self):\n",
    "        result = []\n",
    "        self.inorder_traversal_helper(self.root, result)\n",
    "        return result\n",
    "\n",
    "    def inorder_traversal_helper(self, root, result):\n",
    "        if root:\n",
    "            self.inorder_traversal_helper(root.left, result)\n",
    "            result.append(root.data)\n",
    "            self.inorder_traversal_helper(root.right, result)\n",
    "\n",
    "\n",
    "    \n",
    "    def post_order_traversal(self):\n",
    "        result = []\n",
    "        self.post_order_traversal_helper(self.root, result)\n",
    "        return result\n",
    "\n",
    "    def post_order_traversal_helper(self, root, result):\n",
    "        if root:\n",
    "            self.post_order_traversal_helper(root.left, result)\n",
    "            self.post_order_traversal_helper(root.right, result)\n",
    "            result.append(root.data)\n",
    "\n",
    "\n",
    "    def pre_order_traversal(self):\n",
    "        result = []\n",
    "        self.pre_order_traversal_helper(self.root, result)\n",
    "        return result\n",
    "\n",
    "    def pre_order_traversal_helper(self, root, result):\n",
    "        if root:\n",
    "            result.append(root.data)\n",
    "            self.pre_order_traversal_helper(root.left, result)\n",
    "            self.pre_order_traversal_helper(root.right, result)\n",
    "\n",
    "    def min_value(self, temp):\n",
    "        current = temp\n",
    "        while current.left != None:\n",
    "            current = current.left\n",
    "        return current.data\n",
    "\n",
    "    def max_value(self, temp):\n",
    "        current = temp\n",
    "        while current.right != None:\n",
    "            current = current.right\n",
    "        return current.data\n",
    "\n",
    "\n",
    "    # delete\n",
    "    \n",
    "    def delete(self, data):\n",
    "        self.root = self.delete_helper(self.root, data)\n",
    "\n",
    "    def delete_helper(self, root, data):\n",
    "        if root is None:\n",
    "            return root\n",
    "\n",
    "        if data > root.data:\n",
    "            root.right = self.delete_helper(root.right, data)\n",
    "\n",
    "        elif data < root.data:\n",
    "            root.left = self.delete_helper(root.left, data)\n",
    "\n",
    "        elif data == root.data:\n",
    "            if root.left is None:\n",
    "                return root.right\n",
    "            if root.right is None:\n",
    "                return root.left\n",
    "            \n",
    "            root.data = self.max_value(root.left)\n",
    "            root.left = self.delete_helper(root.left, root.data)\n",
    "        return root\n",
    "            \n",
    "        \n",
    "            \n",
    "            "
   ]
  },
  {
   "cell_type": "code",
   "execution_count": 96,
   "id": "9cb99d5e-7cd9-410e-8ee8-dc893a67fdb8",
   "metadata": {},
   "outputs": [],
   "source": [
    "t1 = Tree()"
   ]
  },
  {
   "cell_type": "code",
   "execution_count": 97,
   "id": "9c37e1b5-bdb7-4d30-9296-ae229c218223",
   "metadata": {},
   "outputs": [],
   "source": [
    "t1.insert(10)\n",
    "t1.insert(30)\n",
    "t1.insert(20)\n",
    "t1.insert(40)\n",
    "t1.insert(70)\n",
    "t1.insert(5)\n",
    "t1.insert(90)\n",
    "t1.insert(6)\n",
    "t1.insert(15)"
   ]
  },
  {
   "cell_type": "code",
   "execution_count": 98,
   "id": "a52dd717-ec28-42e2-8d3f-a13f1b6ae031",
   "metadata": {},
   "outputs": [
    {
     "data": {
      "text/plain": [
       "30"
      ]
     },
     "execution_count": 98,
     "metadata": {},
     "output_type": "execute_result"
    }
   ],
   "source": [
    "t1.search(30)"
   ]
  },
  {
   "cell_type": "code",
   "execution_count": 99,
   "id": "d55f4af8-351a-4494-98c4-98cf3159699c",
   "metadata": {},
   "outputs": [
    {
     "data": {
      "text/plain": [
       "[5, 6, 10, 15, 20, 30, 40, 70, 90]"
      ]
     },
     "execution_count": 99,
     "metadata": {},
     "output_type": "execute_result"
    }
   ],
   "source": [
    "t1.inorder_traversal()"
   ]
  },
  {
   "cell_type": "code",
   "execution_count": 100,
   "id": "c778a545-e265-44b8-8e19-eab72b24f79b",
   "metadata": {},
   "outputs": [
    {
     "data": {
      "text/plain": [
       "[6, 5, 15, 20, 90, 70, 40, 30, 10]"
      ]
     },
     "execution_count": 100,
     "metadata": {},
     "output_type": "execute_result"
    }
   ],
   "source": [
    "t1.post_order_traversal()"
   ]
  },
  {
   "cell_type": "code",
   "execution_count": 101,
   "id": "c9fafa93-8b98-4190-8b57-e09c51b88eb5",
   "metadata": {},
   "outputs": [
    {
     "data": {
      "text/plain": [
       "[10, 5, 6, 30, 20, 15, 40, 70, 90]"
      ]
     },
     "execution_count": 101,
     "metadata": {},
     "output_type": "execute_result"
    }
   ],
   "source": [
    "t1.pre_order_traversal()"
   ]
  },
  {
   "cell_type": "code",
   "execution_count": 104,
   "id": "593e736f-afa9-4524-abed-1c107eb96a12",
   "metadata": {},
   "outputs": [],
   "source": [
    "t1.delete(6)"
   ]
  },
  {
   "cell_type": "code",
   "execution_count": 105,
   "id": "953e5b7f-8f25-441c-bd79-ff09e9ed40e7",
   "metadata": {},
   "outputs": [
    {
     "data": {
      "text/plain": [
       "[5, 10, 15, 20, 40, 70, 90]"
      ]
     },
     "execution_count": 105,
     "metadata": {},
     "output_type": "execute_result"
    }
   ],
   "source": [
    "t1.inorder_traversal()"
   ]
  },
  {
   "cell_type": "code",
   "execution_count": null,
   "id": "e2dbf00e-bdf8-468a-8a8f-170c1bf86cb7",
   "metadata": {},
   "outputs": [],
   "source": []
  },
  {
   "cell_type": "code",
   "execution_count": null,
   "id": "8db4d2ed-f83b-45b5-ad69-8af0fecdf74a",
   "metadata": {},
   "outputs": [],
   "source": []
  },
  {
   "cell_type": "code",
   "execution_count": null,
   "id": "f2a67855-2008-432f-9a9e-f69cb65eb923",
   "metadata": {},
   "outputs": [],
   "source": []
  },
  {
   "cell_type": "code",
   "execution_count": null,
   "id": "a8f4f884-750b-43f0-b6ee-aa598ee1a7bd",
   "metadata": {},
   "outputs": [],
   "source": []
  },
  {
   "cell_type": "code",
   "execution_count": null,
   "id": "b8ff7443-bb80-44ab-82eb-fd9e183fc4b0",
   "metadata": {},
   "outputs": [],
   "source": []
  },
  {
   "cell_type": "code",
   "execution_count": null,
   "id": "9cfb1b2a-44cc-460b-8dab-058b0e454734",
   "metadata": {},
   "outputs": [],
   "source": []
  },
  {
   "cell_type": "code",
   "execution_count": null,
   "id": "660960ab-a174-438a-b758-d4a0e9c58549",
   "metadata": {},
   "outputs": [],
   "source": []
  },
  {
   "cell_type": "code",
   "execution_count": null,
   "id": "5342a5f1-7ded-451b-9cfc-28bb62df6d53",
   "metadata": {},
   "outputs": [],
   "source": []
  },
  {
   "cell_type": "code",
   "execution_count": null,
   "id": "d34fadc9-8d7d-4b7d-b3e4-050175b38c49",
   "metadata": {},
   "outputs": [],
   "source": []
  },
  {
   "cell_type": "code",
   "execution_count": null,
   "id": "486283bd-70ab-4b74-8132-8a7e354243cb",
   "metadata": {},
   "outputs": [],
   "source": []
  }
 ],
 "metadata": {
  "kernelspec": {
   "display_name": "Python 3 (ipykernel)",
   "language": "python",
   "name": "python3"
  },
  "language_info": {
   "codemirror_mode": {
    "name": "ipython",
    "version": 3
   },
   "file_extension": ".py",
   "mimetype": "text/x-python",
   "name": "python",
   "nbconvert_exporter": "python",
   "pygments_lexer": "ipython3",
   "version": "3.12.3"
  }
 },
 "nbformat": 4,
 "nbformat_minor": 5
}
