{
 "cells": [
  {
   "cell_type": "markdown",
   "id": "5e6586af-f75e-41c8-94c1-68c50b9d22e9",
   "metadata": {},
   "source": [
    "# <center>Binary Tree</center>\n",
    "\n",
    "<h5>\n",
    "&rarr; A binary tree is a data structure where each node has at most two children, referred to as the left child and the right child.\n",
    "<br>\n",
    "<br>\n",
    "\n",
    "&rarr; This structure is used to organize data in a hierarchical manner, making it easier to perform operations like search, insert, and delete.\n",
    "\n",
    "&rarr; The topmost node is called the root, and nodes with no children are called leaves.\n",
    "</h5>\n",
    "\n",
    "        A\n",
    "       / \\\n",
    "      B   C\n",
    "     / \\   \\\n",
    "    D   E   F\n"
   ]
  },
  {
   "cell_type": "markdown",
   "id": "01859cd0-15d6-4cd1-a29e-ad6f4df37c6c",
   "metadata": {},
   "source": [
    "<hr>"
   ]
  },
  {
   "cell_type": "markdown",
   "id": "60dd393f-05c9-428b-a4f8-ad4aea55a6c1",
   "metadata": {},
   "source": [
    "# <center>Complete Binary Tree</center>"
   ]
  },
  {
   "cell_type": "markdown",
   "id": "2e8ac3c8-c7ba-44ab-89e2-05e0b94ddafc",
   "metadata": {},
   "source": [
    "<h5>A complete binary tree is a binary tree in which all levels, except possibly the last, are completely filled, and all nodes are as far left as possible.</h5>\n",
    "\n",
    "        A\n",
    "       / \\\n",
    "      B   C\n",
    "     / \\ / \\\n",
    "    D  E F  G\n"
   ]
  },
  {
   "cell_type": "markdown",
   "id": "2798e836-6b77-4e0c-a4a0-1b0fe46a465a",
   "metadata": {},
   "source": [
    "<hr>"
   ]
  },
  {
   "cell_type": "markdown",
   "id": "9855d5dc-3987-4499-baff-a7a7d737fd01",
   "metadata": {},
   "source": [
    "# <center>Almost Complete Binary Tree</center>"
   ]
  },
  {
   "cell_type": "markdown",
   "id": "19c0a798-9d6b-4bc1-b081-9e61e16aa850",
   "metadata": {},
   "source": [
    "<h5>An almost complete binary tree is a binary tree in which all levels are completely filled except possibly for the last level, which is filled from left to right.</h5>\n",
    "\n",
    "        A\n",
    "       / \\\n",
    "      B   C\n",
    "     / \\  /\n",
    "    D   E F\n"
   ]
  },
  {
   "cell_type": "markdown",
   "id": "ebaecbe9-76bf-4726-a766-1c9ec3adba77",
   "metadata": {},
   "source": [
    "<hr>"
   ]
  },
  {
   "cell_type": "markdown",
   "id": "3736987f-3b79-4fb4-806c-e3baabb7d20e",
   "metadata": {},
   "source": [
    "# <center>Strict Binary Tree</center>\n"
   ]
  },
  {
   "cell_type": "markdown",
   "id": "39881d86-7bd5-4091-a72b-922609226801",
   "metadata": {},
   "source": [
    "<h5>A strict binary tree, also known as a full or proper binary tree, is a binary tree in which every node has either 0 or 2 children. This means no node in the tree has only one child.</h5>\n",
    "<pre>\n",
    "        A\n",
    "       / \\\n",
    "      B   C\n",
    "     / \\ / \\\n",
    "    D  E F  G\n",
    "   / \\\n",
    "  H   I\n",
    "\n",
    "</pre>\n"
   ]
  },
  {
   "cell_type": "markdown",
   "id": "aad0953f-7dac-4b59-b5c6-4c0f0fb7b3a8",
   "metadata": {},
   "source": [
    "<hr>"
   ]
  },
  {
   "cell_type": "markdown",
   "id": "991eae29-ee85-403f-8060-719bcf272152",
   "metadata": {},
   "source": [
    "# Representation of Binary Tree"
   ]
  },
  {
   "cell_type": "markdown",
   "id": "bc536b29-f240-4924-8ef3-331fde325865",
   "metadata": {},
   "source": [
    "There are two Possible representation of Binary Tree:\n",
    "\n",
    "&rarr; Array Representation\n",
    "\n",
    "&rarr; Linked Representation (By Default)"
   ]
  }
 ],
 "metadata": {
  "kernelspec": {
   "display_name": "Python 3 (ipykernel)",
   "language": "python",
   "name": "python3"
  },
  "language_info": {
   "codemirror_mode": {
    "name": "ipython",
    "version": 3
   },
   "file_extension": ".py",
   "mimetype": "text/x-python",
   "name": "python",
   "nbconvert_exporter": "python",
   "pygments_lexer": "ipython3",
   "version": "3.12.3"
  }
 },
 "nbformat": 4,
 "nbformat_minor": 5
}
