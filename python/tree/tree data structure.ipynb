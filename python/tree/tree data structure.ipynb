{
 "cells": [
  {
   "cell_type": "markdown",
   "id": "177e40e9-d54d-49e1-a06f-f9b9714c84b2",
   "metadata": {},
   "source": [
    "# Tree Data Structure\n",
    "\n",
    "## → Definition (Simple and Short)\n",
    "A **tree** is a hierarchical data structure consisting of nodes, where each node has a value and zero or more child nodes. It is a way to organize data in a hierarchical form.\n",
    "\n",
    "## → Key Terms\n",
    "- **Node**: Basic unit of a tree, containing a value or data.\n",
    "- **Root**: The top node of a tree, where the hierarchy starts.\n",
    "- **Child**: A node directly connected to another node when moving away from the root.\n",
    "- **Parent**: A node directly connected to another node when moving towards the root.\n",
    "- **Leaf**: A node that does not have any children.\n",
    "- **Edge**: The connection between two nodes.\n",
    "- **Subtree**: A tree consisting of a node and its descendants.\n",
    "- **Height**: The number of edges on the longest path from the root to a leaf.\n",
    "- **Depth**: The number of edges from the root to the node.\n",
    "\n",
    "## → Tree Structure\n",
    "A tree structure can be visualized as follows:\n",
    "\n"
   ]
  },
  {
   "cell_type": "markdown",
   "id": "98a475af-98ea-4039-9380-4de0d3bc0f2f",
   "metadata": {},
   "source": [
    "<pre>\n",
    "         A\n",
    "       / | \\\n",
    "      B  C  D\n",
    "     / \\    / \\\n",
    "    E   F  G   H\n",
    "\n",
    "</pre>"
   ]
  },
  {
   "cell_type": "markdown",
   "id": "67610630-8a5a-4822-ab7d-88bcbd765894",
   "metadata": {},
   "source": [
    "\n",
    "In this example:\n",
    "- **A** is the root.\n",
    "- **B, C, D** are the children of A.\n",
    "- **E, F** are the children of B.\n",
    "- **G, H** are the children of D.\n",
    "- **E, F, C, G, H** are leaf nodes.\n",
    "- **A** is the parent of B, C, D.\n",
    "\n",
    "## → Tree Properties\n",
    "- **Acyclic**: Trees do not contain cycles.\n",
    "- **Connected**: There is a path between any two nodes in a tree.\n",
    "- **Hierarchical**: Trees have levels, with the root at the top and leaves at the bottom.\n",
    "\n",
    "## → Types of Trees\n",
    "- **Binary Tree**: Each node has at most two children (left and right).\n",
    "- **Binary Search Tree (BST)**: A binary tree where the left child is less than the parent node, and the right child is greater.\n",
    "- **AVL Tree**: A self-balancing binary search tree.\n",
    "- **B-Tree**: A self-balancing search tree, optimized for systems that read and write large blocks of data.\n",
    "- **Trie**: A tree used to store dynamic sets of strings, where the keys are usually strings.\n",
    "\n",
    "## → Drawn Structure\n",
    "Here is a visual representation of a binary tree:\n",
    "\n"
   ]
  },
  {
   "cell_type": "code",
   "execution_count": null,
   "id": "3d1b19e4-c24c-4ef7-9de4-d5c570e96431",
   "metadata": {},
   "outputs": [],
   "source": []
  },
  {
   "cell_type": "code",
   "execution_count": null,
   "id": "04a0eaf8-8c53-4d73-9d93-94fdfa6054f0",
   "metadata": {},
   "outputs": [],
   "source": []
  }
 ],
 "metadata": {
  "kernelspec": {
   "display_name": "Python 3 (ipykernel)",
   "language": "python",
   "name": "python3"
  },
  "language_info": {
   "codemirror_mode": {
    "name": "ipython",
    "version": 3
   },
   "file_extension": ".py",
   "mimetype": "text/x-python",
   "name": "python",
   "nbconvert_exporter": "python",
   "pygments_lexer": "ipython3",
   "version": "3.12.3"
  }
 },
 "nbformat": 4,
 "nbformat_minor": 5
}
