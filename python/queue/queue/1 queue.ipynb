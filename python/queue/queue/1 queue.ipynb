{
 "cells": [
  {
   "cell_type": "markdown",
   "id": "377ee29b-a220-4621-a89d-c62ce9fa57f6",
   "metadata": {},
   "source": [
    "# <center>Queue</center>"
   ]
  },
  {
   "cell_type": "markdown",
   "id": "a3d102b9-dcf4-496e-a6ff-9686824cbfd6",
   "metadata": {},
   "source": [
    "It is a linear data structure that follows the FIFO (First In, First Out) principle. This means the first element added to the queue is the first one to be removed."
   ]
  },
  {
   "cell_type": "markdown",
   "id": "910c99c3-7199-4421-a2b9-aa6528d97b21",
   "metadata": {},
   "source": [
    "<h4>Structure</h4>\n",
    "<b>Front -> [ ] -> [ ] -> [ ] -> [ ] -> Rear</b><br>\n",
    "Front: Points to the front of the queue (where elements are removed).<br>\n",
    "Rear: Points to the end of the queue (where elements are added)."
   ]
  },
  {
   "cell_type": "markdown",
   "id": "3d0b52b1-1bae-4f14-b487-a221f7f109cb",
   "metadata": {},
   "source": [
    "<h4>Advantages of Queues:</h4>\n",
    "&rarr; Items are processed in the order they are added.<br>\n",
    "&rarr; Useful for managing shared resources where multiple consumers access data.<br>\n",
    "<br>\n",
    "<h4>Disadvantages of Queues:</h4>\n",
    "&rarr; Typically only allows access to the front and rear elements, restricting random access.<br>\n",
    "&rarr; Can lead to errors when the queue is full (overflow) or empty (underflow).<br>\n",
    "<br>\n",
    "<h4>Applications of Queues:</h4>\n",
    "&rarr; Task Scheduling<br>\n",
    "&rarr; Print Queue<br>\n",
    "&rarr; Breadth-First Search (BFS)<br>\n",
    "\n"
   ]
  },
  {
   "cell_type": "code",
   "execution_count": null,
   "id": "d8748d93-ca7a-451f-b2d4-ac6a730c32b4",
   "metadata": {},
   "outputs": [],
   "source": []
  }
 ],
 "metadata": {
  "kernelspec": {
   "display_name": "Python 3 (ipykernel)",
   "language": "python",
   "name": "python3"
  },
  "language_info": {
   "codemirror_mode": {
    "name": "ipython",
    "version": 3
   },
   "file_extension": ".py",
   "mimetype": "text/x-python",
   "name": "python",
   "nbconvert_exporter": "python",
   "pygments_lexer": "ipython3",
   "version": "3.12.3"
  }
 },
 "nbformat": 4,
 "nbformat_minor": 5
}
