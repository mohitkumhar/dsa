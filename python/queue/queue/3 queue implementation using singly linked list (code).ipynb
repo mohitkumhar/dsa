{
 "cells": [
  {
   "cell_type": "code",
   "execution_count": 209,
   "id": "9a3be401-1c0a-4b1f-a8de-4eed8d62316a",
   "metadata": {},
   "outputs": [],
   "source": [
    "class Node:\n",
    "    def __init__(self, data = 0, next = None):\n",
    "        self.data = data\n",
    "        self.next = next\n",
    "\n",
    "    \n",
    "class Queue:\n",
    "    def __init__(self):\n",
    "        self.front=None\n",
    "        self.rear=None\n",
    "        self.item_count=0\n",
    "\n",
    "    def is_empty(self):\n",
    "        return self.front is None or self.rear == None\n",
    "\n",
    "    def enqueue(self, data):\n",
    "        new_node = Node(data)\n",
    "        \n",
    "        if self.is_empty():\n",
    "            self.front = new_node\n",
    "            self.rear = new_node\n",
    "        \n",
    "        else:\n",
    "            self.rear.next = new_node\n",
    "            self.rear = new_node\n",
    "        self.item_count += 1\n",
    "\n",
    "    def dequeue(self):\n",
    "        if self.is_empty():\n",
    "            return 'Cannot Dequeue! Empty Linked List'\n",
    "\n",
    "        # Other Node\n",
    "        if self.front.next:\n",
    "            self.front = self.front.next\n",
    "\n",
    "        # Last Node\n",
    "        else:\n",
    "            self.front = None\n",
    "            self.rear = None\n",
    "        self.item_count -= 1\n",
    "\n",
    "    def get_size(self):\n",
    "        return self.item_count\n",
    "\n",
    "    def peek(self):\n",
    "        if self.is_empty():\n",
    "            return 'Empty Queue! Cannot Peek Elements'\n",
    "\n",
    "    def get_front(self):\n",
    "        if self.is_empty():\n",
    "            return 'Empty Linked List'\n",
    "        return self.front.data\n",
    "\n",
    "    def get_rear(self):\n",
    "        if self.is_empty():\n",
    "            return 'Empty Linked List'\n",
    "        return self.rear.data\n",
    "\n",
    "        \n",
    "            \n",
    "            \n",
    "        \n",
    "        \n",
    "    "
   ]
  },
  {
   "cell_type": "code",
   "execution_count": 210,
   "id": "cd270aaa-e84b-47b1-b8f7-10ee21e85161",
   "metadata": {},
   "outputs": [],
   "source": [
    "s1=Queue()"
   ]
  },
  {
   "cell_type": "code",
   "execution_count": 211,
   "id": "ee493183-ae61-4e24-a602-4bceaed99182",
   "metadata": {},
   "outputs": [
    {
     "data": {
      "text/plain": [
       "True"
      ]
     },
     "execution_count": 211,
     "metadata": {},
     "output_type": "execute_result"
    }
   ],
   "source": [
    "s1.is_empty()"
   ]
  },
  {
   "cell_type": "code",
   "execution_count": 212,
   "id": "139bf900-6dc7-40d2-8fb5-629ab7e38cab",
   "metadata": {},
   "outputs": [],
   "source": [
    "s1.enqueue(11)\n",
    "s1.enqueue(22)\n",
    "s1.enqueue(33)\n",
    "s1.enqueue(44)\n",
    "s1.enqueue(55)"
   ]
  },
  {
   "cell_type": "code",
   "execution_count": 213,
   "id": "e96344a7-0dea-4e90-b6f6-84bb880916db",
   "metadata": {},
   "outputs": [
    {
     "data": {
      "text/plain": [
       "False"
      ]
     },
     "execution_count": 213,
     "metadata": {},
     "output_type": "execute_result"
    }
   ],
   "source": [
    "s1.is_empty()"
   ]
  },
  {
   "cell_type": "code",
   "execution_count": 238,
   "id": "577156c9-6538-4338-b147-ec04e5871fac",
   "metadata": {},
   "outputs": [
    {
     "data": {
      "text/plain": [
       "'Cannot Dequeue! Empty Linked List'"
      ]
     },
     "execution_count": 238,
     "metadata": {},
     "output_type": "execute_result"
    }
   ],
   "source": [
    "s1.dequeue()"
   ]
  },
  {
   "cell_type": "code",
   "execution_count": 239,
   "id": "f29a91b2-8ced-49df-890d-db50d43377b5",
   "metadata": {},
   "outputs": [
    {
     "data": {
      "text/plain": [
       "True"
      ]
     },
     "execution_count": 239,
     "metadata": {},
     "output_type": "execute_result"
    }
   ],
   "source": [
    "s1.is_empty()"
   ]
  },
  {
   "cell_type": "code",
   "execution_count": 240,
   "id": "33fa387f-45b4-47d1-ba64-445be5294611",
   "metadata": {},
   "outputs": [
    {
     "data": {
      "text/plain": [
       "0"
      ]
     },
     "execution_count": 240,
     "metadata": {},
     "output_type": "execute_result"
    }
   ],
   "source": [
    "s1.get_size()"
   ]
  },
  {
   "cell_type": "code",
   "execution_count": 241,
   "id": "e37f431f-4e30-4f96-b448-4e686461e59f",
   "metadata": {},
   "outputs": [
    {
     "data": {
      "text/plain": [
       "'Empty Linked List'"
      ]
     },
     "execution_count": 241,
     "metadata": {},
     "output_type": "execute_result"
    }
   ],
   "source": [
    "s1.get_front()"
   ]
  },
  {
   "cell_type": "code",
   "execution_count": 242,
   "id": "184a35cc-3f7d-41c1-b39f-dbcb21b6aa57",
   "metadata": {},
   "outputs": [
    {
     "data": {
      "text/plain": [
       "'Empty Linked List'"
      ]
     },
     "execution_count": 242,
     "metadata": {},
     "output_type": "execute_result"
    }
   ],
   "source": [
    "s1.get_rear()"
   ]
  },
  {
   "cell_type": "code",
   "execution_count": null,
   "id": "e4cc5e46-f82b-4bc3-a45f-06ebb433fd07",
   "metadata": {},
   "outputs": [],
   "source": []
  },
  {
   "cell_type": "code",
   "execution_count": null,
   "id": "f4e01568-e35d-471d-b279-5df688310b99",
   "metadata": {},
   "outputs": [],
   "source": []
  },
  {
   "cell_type": "code",
   "execution_count": null,
   "id": "6e9e7364-6827-497b-8341-4026ecd9fbd3",
   "metadata": {},
   "outputs": [],
   "source": []
  },
  {
   "cell_type": "code",
   "execution_count": null,
   "id": "5aaf2dbc-d85f-4017-bd90-c92b6bd7a5ed",
   "metadata": {},
   "outputs": [],
   "source": []
  },
  {
   "cell_type": "code",
   "execution_count": null,
   "id": "a72ca6a6-1664-4783-a514-491d317b2348",
   "metadata": {},
   "outputs": [],
   "source": []
  },
  {
   "cell_type": "code",
   "execution_count": null,
   "id": "18df5a49-70a8-4f6c-b185-4f5bdb0ce1d9",
   "metadata": {},
   "outputs": [],
   "source": []
  }
 ],
 "metadata": {
  "kernelspec": {
   "display_name": "Python 3 (ipykernel)",
   "language": "python",
   "name": "python3"
  },
  "language_info": {
   "codemirror_mode": {
    "name": "ipython",
    "version": 3
   },
   "file_extension": ".py",
   "mimetype": "text/x-python",
   "name": "python",
   "nbconvert_exporter": "python",
   "pygments_lexer": "ipython3",
   "version": "3.12.3"
  }
 },
 "nbformat": 4,
 "nbformat_minor": 5
}
