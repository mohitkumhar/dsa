{
 "cells": [
  {
   "cell_type": "code",
   "execution_count": 1,
   "id": "8435cba1-0c90-42d2-beca-8aca528d3034",
   "metadata": {},
   "outputs": [],
   "source": [
    "class Queue:\n",
    "    def __init__(self):\n",
    "        self.items=[]\n",
    "        self.front=-1\n",
    "        self.rare=-1\n",
    "\n",
    "    def is_empty(self):\n",
    "        return len(self.items) == 0\n",
    "\n",
    "    def enqueue(self, data):\n",
    "        self.items.append(data)\n",
    "        self.rare += 1\n",
    "\n",
    "    def dequeue(self):\n",
    "        if self.is_empty():\n",
    "            return 'Queue UnderFlow! Cannot Dequeue'\n",
    "        self.items.pop(0)\n",
    "        self.front += 1\n",
    "\n",
    "    def get_front(self):\n",
    "        if self.is_empty():\n",
    "            return 'Queue UnderFlow! Cannot Get Front'\n",
    "        return self.items[0]\n",
    "\n",
    "    def get_rare(self):\n",
    "        if self.is_empty():\n",
    "            return 'Queue UnderFlow! Cannot Get Rare'\n",
    "        return self.items[-1]    \n",
    "        "
   ]
  },
  {
   "cell_type": "code",
   "execution_count": 2,
   "id": "2c5e0fd5-43dd-4c3c-b42d-6ec6e50051ce",
   "metadata": {},
   "outputs": [],
   "source": [
    "q1 = Queue()"
   ]
  },
  {
   "cell_type": "code",
   "execution_count": 3,
   "id": "15697d62-5250-473e-9e9f-c182ddaee6a7",
   "metadata": {},
   "outputs": [
    {
     "data": {
      "text/plain": [
       "True"
      ]
     },
     "execution_count": 3,
     "metadata": {},
     "output_type": "execute_result"
    }
   ],
   "source": [
    "q1.is_empty()"
   ]
  },
  {
   "cell_type": "code",
   "execution_count": 4,
   "id": "9b1f9930-a9a3-46b0-aa3d-6015d82d9e99",
   "metadata": {},
   "outputs": [],
   "source": [
    "q1.enqueue(11)\n",
    "q1.enqueue(22)\n",
    "q1.enqueue(33)\n",
    "q1.enqueue(44)\n",
    "q1.enqueue(55)"
   ]
  },
  {
   "cell_type": "code",
   "execution_count": 5,
   "id": "c7516c77-138a-4165-9b79-55fd72d7ba17",
   "metadata": {},
   "outputs": [
    {
     "data": {
      "text/plain": [
       "False"
      ]
     },
     "execution_count": 5,
     "metadata": {},
     "output_type": "execute_result"
    }
   ],
   "source": [
    "q1.is_empty()"
   ]
  },
  {
   "cell_type": "code",
   "execution_count": 6,
   "id": "3a2b8825-9b97-45b8-94bc-2549cf197d4b",
   "metadata": {},
   "outputs": [],
   "source": [
    "q1.dequeue()"
   ]
  },
  {
   "cell_type": "code",
   "execution_count": 7,
   "id": "285c8428-c6de-4aa8-ba38-84a24d632143",
   "metadata": {},
   "outputs": [
    {
     "data": {
      "text/plain": [
       "False"
      ]
     },
     "execution_count": 7,
     "metadata": {},
     "output_type": "execute_result"
    }
   ],
   "source": [
    "q1.is_empty()"
   ]
  },
  {
   "cell_type": "code",
   "execution_count": 8,
   "id": "cd886974-3859-44d2-9b78-f0b762fc95b7",
   "metadata": {},
   "outputs": [
    {
     "data": {
      "text/plain": [
       "22"
      ]
     },
     "execution_count": 8,
     "metadata": {},
     "output_type": "execute_result"
    }
   ],
   "source": [
    "q1.get_front()"
   ]
  },
  {
   "cell_type": "code",
   "execution_count": 9,
   "id": "9780659a-6037-4444-ac29-f4189ed205ad",
   "metadata": {},
   "outputs": [
    {
     "data": {
      "text/plain": [
       "55"
      ]
     },
     "execution_count": 9,
     "metadata": {},
     "output_type": "execute_result"
    }
   ],
   "source": [
    "q1.get_rare()"
   ]
  },
  {
   "cell_type": "code",
   "execution_count": 10,
   "id": "8bf080d7-8ef8-43aa-9b30-d893ac0830c8",
   "metadata": {},
   "outputs": [
    {
     "data": {
      "text/plain": [
       "0"
      ]
     },
     "execution_count": 10,
     "metadata": {},
     "output_type": "execute_result"
    }
   ],
   "source": [
    "q1.front"
   ]
  },
  {
   "cell_type": "code",
   "execution_count": null,
   "id": "50bffa5e-96a8-472f-a551-e0333c0c7fcf",
   "metadata": {},
   "outputs": [],
   "source": []
  }
 ],
 "metadata": {
  "kernelspec": {
   "display_name": "Python 3 (ipykernel)",
   "language": "python",
   "name": "python3"
  },
  "language_info": {
   "codemirror_mode": {
    "name": "ipython",
    "version": 3
   },
   "file_extension": ".py",
   "mimetype": "text/x-python",
   "name": "python",
   "nbconvert_exporter": "python",
   "pygments_lexer": "ipython3",
   "version": "3.12.3"
  }
 },
 "nbformat": 4,
 "nbformat_minor": 5
}
