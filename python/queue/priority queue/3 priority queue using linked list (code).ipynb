{
 "cells": [
  {
   "cell_type": "code",
   "execution_count": 46,
   "id": "895e2a19-d535-4618-b203-e095fddf44fe",
   "metadata": {},
   "outputs": [],
   "source": [
    "class Node:\n",
    "    def __init__(self, data=None, priority=None, next=None):\n",
    "        self.data = data\n",
    "        self.priority = priority\n",
    "        self.next = next"
   ]
  },
  {
   "cell_type": "code",
   "execution_count": 49,
   "id": "71b2bd65-79d6-458d-8775-52e3ee44cba2",
   "metadata": {},
   "outputs": [],
   "source": [
    "class PriorityQueue:\n",
    "    def __init__(self):\n",
    "        self.head=None\n",
    "        self.item_count=0\n",
    "\n",
    "    def is_empty(self):\n",
    "        return self.head == None\n",
    "\n",
    "    def push(self, data, priority):\n",
    "        new_node = Node(data, priority)\n",
    "        if self.is_empty() or priority < self.head.priority:\n",
    "            new_node.next=self.head\n",
    "            self.head=new_node\n",
    "        else:\n",
    "            current = self.head\n",
    "            while current.next != None and current.next.priority <= priority:\n",
    "                current = current.next\n",
    "            new_node.next = current.next\n",
    "            current.next = new_node\n",
    "        self.item_count += 1\n",
    "\n",
    "    def pop(self):\n",
    "        if self.is_empty():\n",
    "            return 'Empty Linked List! Cannot Pop Element'\n",
    "        delete = self.head.data\n",
    "        self.head=self.head.next\n",
    "        self.item_count -= 1\n",
    "        return delete\n",
    "\n",
    "    def size(self):\n",
    "        return self.item_count\n",
    "                \n",
    "        "
   ]
  },
  {
   "cell_type": "code",
   "execution_count": 50,
   "id": "e38d1e8c-ebd7-4f76-8b4e-0a2cc4f8b739",
   "metadata": {},
   "outputs": [],
   "source": [
    "p1 = PriorityQueue()"
   ]
  },
  {
   "cell_type": "code",
   "execution_count": 51,
   "id": "ecc013fb-9328-4c25-aa52-2d99ab08f79b",
   "metadata": {},
   "outputs": [
    {
     "data": {
      "text/plain": [
       "True"
      ]
     },
     "execution_count": 51,
     "metadata": {},
     "output_type": "execute_result"
    }
   ],
   "source": [
    "p1.is_empty()"
   ]
  },
  {
   "cell_type": "code",
   "execution_count": 52,
   "id": "7e9e315e-6ce2-4cd9-b19d-4154734d4098",
   "metadata": {},
   "outputs": [],
   "source": [
    "p1.push(11, 4)"
   ]
  },
  {
   "cell_type": "code",
   "execution_count": 53,
   "id": "468d70da-33f2-4d13-8b00-00a83151e5a2",
   "metadata": {},
   "outputs": [
    {
     "data": {
      "text/plain": [
       "False"
      ]
     },
     "execution_count": 53,
     "metadata": {},
     "output_type": "execute_result"
    }
   ],
   "source": [
    "p1.is_empty()"
   ]
  },
  {
   "cell_type": "code",
   "execution_count": 54,
   "id": "d46a99bf-0919-47d2-8ebf-4ae263612675",
   "metadata": {},
   "outputs": [
    {
     "data": {
      "text/plain": [
       "11"
      ]
     },
     "execution_count": 54,
     "metadata": {},
     "output_type": "execute_result"
    }
   ],
   "source": [
    "p1.pop()"
   ]
  },
  {
   "cell_type": "code",
   "execution_count": 55,
   "id": "072b7021-94a4-432a-b03f-1a500f9ed07d",
   "metadata": {},
   "outputs": [
    {
     "data": {
      "text/plain": [
       "True"
      ]
     },
     "execution_count": 55,
     "metadata": {},
     "output_type": "execute_result"
    }
   ],
   "source": [
    "p1.is_empty()"
   ]
  },
  {
   "cell_type": "code",
   "execution_count": 56,
   "id": "5426cb35-efe8-4a1c-aa9c-6d6a6954d992",
   "metadata": {},
   "outputs": [
    {
     "data": {
      "text/plain": [
       "0"
      ]
     },
     "execution_count": 56,
     "metadata": {},
     "output_type": "execute_result"
    }
   ],
   "source": [
    "p1.size()"
   ]
  },
  {
   "cell_type": "code",
   "execution_count": null,
   "id": "b1ac5872-8a27-4c8d-bb4a-5280eb08b4ef",
   "metadata": {},
   "outputs": [],
   "source": []
  },
  {
   "cell_type": "code",
   "execution_count": null,
   "id": "8017610f-697a-44b0-973e-87e0577d96fc",
   "metadata": {},
   "outputs": [],
   "source": []
  },
  {
   "cell_type": "code",
   "execution_count": null,
   "id": "f80de9a5-b867-4c26-907f-a35380f34070",
   "metadata": {},
   "outputs": [],
   "source": []
  },
  {
   "cell_type": "code",
   "execution_count": null,
   "id": "7b861f76-59b4-408e-b787-f1f8e8210948",
   "metadata": {},
   "outputs": [],
   "source": []
  },
  {
   "cell_type": "code",
   "execution_count": null,
   "id": "390e55b1-4c95-4d69-8102-bfdfceb425e4",
   "metadata": {},
   "outputs": [],
   "source": []
  },
  {
   "cell_type": "code",
   "execution_count": null,
   "id": "e443d0f3-88f7-4030-b922-c4c9d9452901",
   "metadata": {},
   "outputs": [],
   "source": []
  }
 ],
 "metadata": {
  "kernelspec": {
   "display_name": "Python 3 (ipykernel)",
   "language": "python",
   "name": "python3"
  },
  "language_info": {
   "codemirror_mode": {
    "name": "ipython",
    "version": 3
   },
   "file_extension": ".py",
   "mimetype": "text/x-python",
   "name": "python",
   "nbconvert_exporter": "python",
   "pygments_lexer": "ipython3",
   "version": "3.12.3"
  }
 },
 "nbformat": 4,
 "nbformat_minor": 5
}
