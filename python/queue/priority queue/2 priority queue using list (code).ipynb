{
 "cells": [
  {
   "cell_type": "code",
   "execution_count": 16,
   "id": "b9fe3dd7-25a6-4a14-80a7-275b07ff6601",
   "metadata": {},
   "outputs": [],
   "source": [
    "class PriorityQueue:\n",
    "    def __init__(self):\n",
    "        # Initialize an empty list to store the items of the priority queue\n",
    "        self.items = []\n",
    "\n",
    "    def is_empty(self):\n",
    "        # Check if the priority queue is empty by checking the length of the items list\n",
    "        return len(self.items) == 0\n",
    "\n",
    "    def push(self, data, priority):\n",
    "        # Find the correct position to insert the new item based on its priority\n",
    "        index = 0\n",
    "        # Iterate through the list to find the appropriate index where the priority of the new item is higher\n",
    "        while index < len(self.items) and self.items[index][1] <= priority:\n",
    "            index += 1\n",
    "        # Insert the new item at the found index\n",
    "        self.items.insert(index, (data, priority))\n",
    "\n",
    "    def pop(self):\n",
    "        # Check if the priority queue is empty\n",
    "        if self.is_empty():\n",
    "            return 'Empty Linked List! Cannot Pop'\n",
    "        # Remove and return the item with the highest priority (the first item in the list)\n",
    "        return self.items.pop(0)[0]\n",
    "\n",
    "    def size(self):\n",
    "        # Return the number of items currently in the priority queue\n",
    "        return len(self.items)\n"
   ]
  },
  {
   "cell_type": "code",
   "execution_count": 17,
   "id": "03133a96-5364-47b3-824a-08da94d92c6f",
   "metadata": {},
   "outputs": [],
   "source": [
    "p1 = PriorityQueue()"
   ]
  },
  {
   "cell_type": "code",
   "execution_count": 18,
   "id": "8baed5c6-e1e5-4ef7-a432-7dcbb9ab2956",
   "metadata": {},
   "outputs": [],
   "source": [
    "p1.push('Mohit', 2)\n",
    "p1.push('ohit', 4)\n",
    "p1.push('hit', 3)\n",
    "p1.push('it', 1)\n",
    "p1.push('t', 8)\n"
   ]
  },
  {
   "cell_type": "code",
   "execution_count": 19,
   "id": "21ac7efe-6958-41f9-a67e-32dd50ad89d7",
   "metadata": {},
   "outputs": [
    {
     "data": {
      "text/plain": [
       "5"
      ]
     },
     "execution_count": 19,
     "metadata": {},
     "output_type": "execute_result"
    }
   ],
   "source": [
    "p1.size()"
   ]
  },
  {
   "cell_type": "code",
   "execution_count": 20,
   "id": "94cabe84-6a85-427a-bfe1-5c29ee24b693",
   "metadata": {},
   "outputs": [
    {
     "data": {
      "text/plain": [
       "False"
      ]
     },
     "execution_count": 20,
     "metadata": {},
     "output_type": "execute_result"
    }
   ],
   "source": [
    "p1.is_empty()"
   ]
  },
  {
   "cell_type": "code",
   "execution_count": 21,
   "id": "4ad5ce86-d999-4fb6-b25e-41e792a3f9af",
   "metadata": {},
   "outputs": [
    {
     "data": {
      "text/plain": [
       "'it'"
      ]
     },
     "execution_count": 21,
     "metadata": {},
     "output_type": "execute_result"
    }
   ],
   "source": [
    "p1.pop()"
   ]
  },
  {
   "cell_type": "code",
   "execution_count": 22,
   "id": "387617af-e69f-4905-9ac8-886571c7de5f",
   "metadata": {},
   "outputs": [
    {
     "data": {
      "text/plain": [
       "'Mohit'"
      ]
     },
     "execution_count": 22,
     "metadata": {},
     "output_type": "execute_result"
    }
   ],
   "source": [
    "p1.pop()"
   ]
  },
  {
   "cell_type": "code",
   "execution_count": 23,
   "id": "d098f0d7-6138-4068-87de-08296be0a819",
   "metadata": {},
   "outputs": [
    {
     "data": {
      "text/plain": [
       "'hit'"
      ]
     },
     "execution_count": 23,
     "metadata": {},
     "output_type": "execute_result"
    }
   ],
   "source": [
    "p1.pop()"
   ]
  },
  {
   "cell_type": "code",
   "execution_count": 24,
   "id": "3a1551a9-ee8f-4ccb-a740-394a62f47c5e",
   "metadata": {},
   "outputs": [
    {
     "data": {
      "text/plain": [
       "'ohit'"
      ]
     },
     "execution_count": 24,
     "metadata": {},
     "output_type": "execute_result"
    }
   ],
   "source": [
    "p1.pop()"
   ]
  },
  {
   "cell_type": "code",
   "execution_count": 25,
   "id": "e7e2ea40-1aa9-4b0e-ad01-175b3120d77e",
   "metadata": {},
   "outputs": [
    {
     "data": {
      "text/plain": [
       "'t'"
      ]
     },
     "execution_count": 25,
     "metadata": {},
     "output_type": "execute_result"
    }
   ],
   "source": [
    "p1.pop()"
   ]
  },
  {
   "cell_type": "code",
   "execution_count": 26,
   "id": "b803b7ae-c7e5-4dff-8801-2efaf95ebcd5",
   "metadata": {},
   "outputs": [
    {
     "data": {
      "text/plain": [
       "'Empty Linked List! Cannot Pop'"
      ]
     },
     "execution_count": 26,
     "metadata": {},
     "output_type": "execute_result"
    }
   ],
   "source": [
    "p1.pop()"
   ]
  },
  {
   "cell_type": "code",
   "execution_count": null,
   "id": "ea7cc373-c3e6-4fe8-bedd-a384c30f7e5e",
   "metadata": {},
   "outputs": [],
   "source": []
  },
  {
   "cell_type": "code",
   "execution_count": null,
   "id": "a4595efb-519e-4fe9-aa4b-268f7327210b",
   "metadata": {},
   "outputs": [],
   "source": []
  },
  {
   "cell_type": "code",
   "execution_count": null,
   "id": "756c1857-bea8-4c97-9522-e928a7c07722",
   "metadata": {},
   "outputs": [],
   "source": []
  }
 ],
 "metadata": {
  "kernelspec": {
   "display_name": "Python 3 (ipykernel)",
   "language": "python",
   "name": "python3"
  },
  "language_info": {
   "codemirror_mode": {
    "name": "ipython",
    "version": 3
   },
   "file_extension": ".py",
   "mimetype": "text/x-python",
   "name": "python",
   "nbconvert_exporter": "python",
   "pygments_lexer": "ipython3",
   "version": "3.12.3"
  }
 },
 "nbformat": 4,
 "nbformat_minor": 5
}
