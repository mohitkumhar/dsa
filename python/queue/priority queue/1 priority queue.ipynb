{
 "cells": [
  {
   "cell_type": "markdown",
   "id": "f7b740cc-d448-4e65-bcfa-e31d0da94e96",
   "metadata": {},
   "source": [
    "# <center>Priority Queue</center>"
   ]
  },
  {
   "cell_type": "markdown",
   "id": "f85cbccb-e708-4fa5-94b8-654b850aeeee",
   "metadata": {},
   "source": [
    "A priority queue is a collection of elements such that each element has been assigned a priority"
   ]
  },
  {
   "cell_type": "markdown",
   "id": "6e72f735-3e79-481b-bbb7-5a97f9423d06",
   "metadata": {},
   "source": [
    "<b>The Order of Elements are deleted and processed comes from the following rules :-</b>\n",
    "<li> An Element of Higher priority is processed before any element of lower priority\n",
    "<li> Two Elements with the same priority are processed according to the order in which they were added in the priority queue"
   ]
  },
  {
   "cell_type": "markdown",
   "id": "3905336c-4195-45a0-85c1-3304b63673ad",
   "metadata": {},
   "source": [
    "# Operations on Priority Queue\n",
    "<li>push()\n",
    "<li>pop()\n",
    "<li>is_empty()\n",
    "<li>size()"
   ]
  },
  {
   "cell_type": "markdown",
   "id": "94c0b670-bcbd-47c9-9a5c-da20e0523139",
   "metadata": {},
   "source": [
    "# Implementation of Priority Queue\n",
    "<li>Using Linked List Concept\n",
    "<li>Using List\n",
    "<li>Using Heap"
   ]
  },
  {
   "cell_type": "code",
   "execution_count": null,
   "id": "195f25a1-c225-428c-bd33-feb4c6ab2664",
   "metadata": {},
   "outputs": [],
   "source": []
  }
 ],
 "metadata": {
  "kernelspec": {
   "display_name": "Python 3 (ipykernel)",
   "language": "python",
   "name": "python3"
  },
  "language_info": {
   "codemirror_mode": {
    "name": "ipython",
    "version": 3
   },
   "file_extension": ".py",
   "mimetype": "text/x-python",
   "name": "python",
   "nbconvert_exporter": "python",
   "pygments_lexer": "ipython3",
   "version": "3.12.3"
  }
 },
 "nbformat": 4,
 "nbformat_minor": 5
}
