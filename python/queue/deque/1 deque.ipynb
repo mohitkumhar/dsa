{
 "cells": [
  {
   "cell_type": "markdown",
   "id": "6e6db4b3-56e6-4217-a222-cf4eab9382d6",
   "metadata": {},
   "source": [
    "# <center>Deque (Double-Ended Queue)</center>\n",
    "A deque is a data structure that allows elements to be added or removed from both ends (front and back). It's a hybrid of both stacks and queues.\n"
   ]
  },
  {
   "cell_type": "markdown",
   "id": "bf80b97c-a5d0-40ac-8727-693a99a8cfa5",
   "metadata": {},
   "source": [
    "<h4>A deque can be implemented using:</h4>\n",
    "Arrays: Fixed-size, efficient for random access but resizing can be costly.<br>\n",
    "Linked Lists: Dynamic size, efficient for insertion/deletion but slower access time.<br>\n",
    "\n",
    "<h4>\n",
    "    Advantages:\n",
    "</h4>\n",
    "&rarr; Flexibility: Supports insertion and deletion at both ends.<br>\n",
    "&rarr; Efficient Operations: O(1) time complexity for operations like adding or removing elements at either end.<br>\n",
    "&rarr; Versatility: Can be used as a queue (FIFO) or a stack (LIFO).<br>\n",
    "<br>\n",
    "<h4>\n",
    "    Disadvantages:\n",
    "</h4>\n",
    "&rarr; Memory Overhead: Linked list implementation can use more memory due to pointers.<br>\n",
    "&rarr; Access Time: Slower random access compared to arrays."
   ]
  },
  {
   "cell_type": "code",
   "execution_count": null,
   "id": "d9612034-aaf8-477c-9e58-79c3f496de43",
   "metadata": {},
   "outputs": [],
   "source": []
  },
  {
   "cell_type": "code",
   "execution_count": null,
   "id": "35e0b788-75c9-4ffd-84e1-60db63abe431",
   "metadata": {},
   "outputs": [],
   "source": []
  }
 ],
 "metadata": {
  "kernelspec": {
   "display_name": "Python 3 (ipykernel)",
   "language": "python",
   "name": "python3"
  },
  "language_info": {
   "codemirror_mode": {
    "name": "ipython",
    "version": 3
   },
   "file_extension": ".py",
   "mimetype": "text/x-python",
   "name": "python",
   "nbconvert_exporter": "python",
   "pygments_lexer": "ipython3",
   "version": "3.12.3"
  }
 },
 "nbformat": 4,
 "nbformat_minor": 5
}
