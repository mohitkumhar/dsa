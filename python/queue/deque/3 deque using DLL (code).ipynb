{
 "cells": [
  {
   "cell_type": "code",
   "execution_count": 1,
   "id": "2e5cc0be-b510-4c0f-8313-abedf873afe0",
   "metadata": {},
   "outputs": [],
   "source": [
    "class Node:\n",
    "    def __init__(self, data=None, next=None, prev=None):\n",
    "        self.data=data\n",
    "        self.next=next\n",
    "        self.prev=prev"
   ]
  },
  {
   "cell_type": "code",
   "execution_count": 144,
   "id": "132594e4-9816-45db-84f9-c68ce0025a94",
   "metadata": {},
   "outputs": [],
   "source": [
    "class Deque:\n",
    "    def __init__(self):\n",
    "        self.front=None\n",
    "        self.rear=None\n",
    "        self.size_count = 0\n",
    "\n",
    "    def is_empty(self):\n",
    "        return self.front==None or self.rear == None\n",
    "\n",
    "    def insert_front(self, data):\n",
    "        new_node = Node(data)\n",
    "        if self.is_empty():\n",
    "            self.front=new_node\n",
    "            self.rear=new_node\n",
    "        else:\n",
    "            self.front.prev = new_node\n",
    "            new_node.next = self.front\n",
    "            self.front=new_node\n",
    "        self.size_count += 1\n",
    "\n",
    "\n",
    "    def insert_rear(self, data):\n",
    "        new_node = Node(data)\n",
    "        if self.is_empty():\n",
    "            self.front=new_node\n",
    "            self.rear=new_node\n",
    "        else:\n",
    "            self.rear.next = new_node\n",
    "            new_node.prev = self.rear\n",
    "            self.rear = new_node\n",
    "        self.size_count += 1\n",
    "\n",
    "    def delete_front(self):\n",
    "        if self.is_empty():\n",
    "            return 'Cannot Delete Element! Empty Linked List'\n",
    "        if self.front.next is None:\n",
    "            self.front=None\n",
    "            self.rear=None\n",
    "        else:\n",
    "            self.front = self.front.next\n",
    "            self.front.prev = None\n",
    "        self.size_count -= 1\n",
    "\n",
    "    def delete_rear(self):\n",
    "        if self.is_empty():\n",
    "            return 'Cannot Delete Element! Empty Linked List'\n",
    "        if self.rear == self.front:\n",
    "            self.front = None\n",
    "            self.rear = None\n",
    "        else:\n",
    "            self.rear = self.rear.prev\n",
    "            self.rear.next = None\n",
    "        self.size_count -= 1\n",
    "\n",
    "    def get_front(self):\n",
    "        if self.is_empty():\n",
    "            return 'Empty LinkedList! Cannot Get Front'\n",
    "        return self.front.data\n",
    "        \n",
    "    def get_rear(self):\n",
    "        if self.is_empty():\n",
    "            return 'Empty LinkedList! Cannot Get Rear'\n",
    "        return self.rear.data\n",
    "\n",
    "    def size(self):\n",
    "        return self.size_count\n",
    "\n",
    "\n",
    "        \n",
    "        "
   ]
  },
  {
   "cell_type": "code",
   "execution_count": 145,
   "id": "5239113e-058a-449a-b4f2-e6e4fb1870cd",
   "metadata": {},
   "outputs": [],
   "source": [
    "s1 = Deque()"
   ]
  },
  {
   "cell_type": "code",
   "execution_count": 146,
   "id": "acd4fd64-e74f-4cc8-b826-75e88e7edbb3",
   "metadata": {},
   "outputs": [
    {
     "data": {
      "text/plain": [
       "True"
      ]
     },
     "execution_count": 146,
     "metadata": {},
     "output_type": "execute_result"
    }
   ],
   "source": [
    "s1.is_empty()"
   ]
  },
  {
   "cell_type": "code",
   "execution_count": 147,
   "id": "9a33f2a8-876b-4eeb-8948-57246adface3",
   "metadata": {},
   "outputs": [],
   "source": [
    "s1.insert_front(11)\n",
    "s1.insert_rear(99)\n",
    "s1.insert_front(22)\n",
    "s1.insert_rear(88)\n",
    "s1.insert_front(33)\n",
    "s1.insert_rear(77)\n",
    "s1.insert_front(44)\n",
    "s1.insert_rear(66)\n",
    "s1.insert_front(55)"
   ]
  },
  {
   "cell_type": "code",
   "execution_count": 148,
   "id": "a1654d38-7c78-4de5-8ae8-873ba2f6b253",
   "metadata": {},
   "outputs": [
    {
     "data": {
      "text/plain": [
       "False"
      ]
     },
     "execution_count": 148,
     "metadata": {},
     "output_type": "execute_result"
    }
   ],
   "source": [
    "s1.is_empty()"
   ]
  },
  {
   "cell_type": "code",
   "execution_count": 149,
   "id": "63f71a59-955e-49f9-8df1-ca155d775691",
   "metadata": {},
   "outputs": [],
   "source": [
    "s1.delete_front()"
   ]
  },
  {
   "cell_type": "code",
   "execution_count": 150,
   "id": "02b21579-2a65-435c-a1e0-390049a21ddd",
   "metadata": {},
   "outputs": [
    {
     "data": {
      "text/plain": [
       "False"
      ]
     },
     "execution_count": 150,
     "metadata": {},
     "output_type": "execute_result"
    }
   ],
   "source": [
    "s1.is_empty()"
   ]
  },
  {
   "cell_type": "code",
   "execution_count": 151,
   "id": "c9073e16-f048-42db-9a9a-5b3d80ec2bcd",
   "metadata": {},
   "outputs": [],
   "source": [
    "s1.delete_rear()"
   ]
  },
  {
   "cell_type": "code",
   "execution_count": 152,
   "id": "6ceecf0e-5f37-4c3a-975a-8bc556345d71",
   "metadata": {},
   "outputs": [
    {
     "data": {
      "text/plain": [
       "False"
      ]
     },
     "execution_count": 152,
     "metadata": {},
     "output_type": "execute_result"
    }
   ],
   "source": [
    "s1.is_empty()"
   ]
  },
  {
   "cell_type": "code",
   "execution_count": 153,
   "id": "d3709e16-a2ca-4fe9-9224-1001f1de1e24",
   "metadata": {},
   "outputs": [
    {
     "data": {
      "text/plain": [
       "44"
      ]
     },
     "execution_count": 153,
     "metadata": {},
     "output_type": "execute_result"
    }
   ],
   "source": [
    "s1.get_front()"
   ]
  },
  {
   "cell_type": "code",
   "execution_count": 154,
   "id": "f4f2a727-4abd-43d4-a6c5-d2a43e6ce54a",
   "metadata": {},
   "outputs": [
    {
     "data": {
      "text/plain": [
       "77"
      ]
     },
     "execution_count": 154,
     "metadata": {},
     "output_type": "execute_result"
    }
   ],
   "source": [
    "s1.get_rear()"
   ]
  },
  {
   "cell_type": "code",
   "execution_count": 155,
   "id": "5f30593f-d79b-462f-8e3b-fecb46f0a50f",
   "metadata": {},
   "outputs": [
    {
     "data": {
      "text/plain": [
       "7"
      ]
     },
     "execution_count": 155,
     "metadata": {},
     "output_type": "execute_result"
    }
   ],
   "source": [
    "s1.size()"
   ]
  },
  {
   "cell_type": "code",
   "execution_count": null,
   "id": "bd716a4d-f6ad-4dd0-af90-af6093d3df98",
   "metadata": {},
   "outputs": [],
   "source": []
  },
  {
   "cell_type": "code",
   "execution_count": null,
   "id": "3bcd0758-96ba-43d8-8cf6-77448fff703e",
   "metadata": {},
   "outputs": [],
   "source": []
  }
 ],
 "metadata": {
  "kernelspec": {
   "display_name": "Python 3 (ipykernel)",
   "language": "python",
   "name": "python3"
  },
  "language_info": {
   "codemirror_mode": {
    "name": "ipython",
    "version": 3
   },
   "file_extension": ".py",
   "mimetype": "text/x-python",
   "name": "python",
   "nbconvert_exporter": "python",
   "pygments_lexer": "ipython3",
   "version": "3.12.3"
  }
 },
 "nbformat": 4,
 "nbformat_minor": 5
}
