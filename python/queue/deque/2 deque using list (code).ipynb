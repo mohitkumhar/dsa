{
 "cells": [
  {
   "cell_type": "code",
   "execution_count": 76,
   "id": "9cfa8078-e7d7-4bee-a271-70fccef344bc",
   "metadata": {},
   "outputs": [],
   "source": [
    "class Dequeu:\n",
    "    def __init__(self):\n",
    "        self.items = []\n",
    "\n",
    "    def is_empty(self):\n",
    "        return len(self.items) == 0\n",
    "\n",
    "    def insert_front(self, data):\n",
    "        self.items.insert(0, data)\n",
    "\n",
    "    def insert_rear(self, data):\n",
    "        self.items.append(data)\n",
    "\n",
    "    def delete_front(self):\n",
    "        if self.is_empty():\n",
    "            return 'Cannot Delete Element! Empty Deque'\n",
    "        delete = self.items[0]\n",
    "        self.items.pop(0)\n",
    "        return delete\n",
    "\n",
    "    def delete_rear(self):\n",
    "        if self.is_empty():\n",
    "            return 'Cannot Delete Element! Empty Deque'\n",
    "        delete = self.items[-1]\n",
    "        self.items.pop()\n",
    "        return delete\n",
    "\n",
    "    def size(self):\n",
    "        return len(self.items)\n",
    "\n",
    "    def get_front(self):\n",
    "        if self.is_empty():\n",
    "            return 'Cannot Get Front Element! Empty Deque'\n",
    "        return self.items[0]\n",
    "\n",
    "    def get_rear(self):\n",
    "        if self.is_empty():\n",
    "            return 'Cannot Get Rear Element! Empty Deque'\n",
    "        return self.items[-1]\n",
    "        \n",
    "        \n",
    "        \n",
    "        \n",
    "    "
   ]
  },
  {
   "cell_type": "code",
   "execution_count": 77,
   "id": "04cfe1a6-d9ae-4ec2-bfdf-261fc377f6c8",
   "metadata": {},
   "outputs": [],
   "source": [
    "d1 = Dequeu()"
   ]
  },
  {
   "cell_type": "code",
   "execution_count": 78,
   "id": "8a4ffa59-b45d-4266-9f1f-c1f8d59c91c2",
   "metadata": {},
   "outputs": [
    {
     "data": {
      "text/plain": [
       "True"
      ]
     },
     "execution_count": 78,
     "metadata": {},
     "output_type": "execute_result"
    }
   ],
   "source": [
    "d1.is_empty()"
   ]
  },
  {
   "cell_type": "code",
   "execution_count": 84,
   "id": "f5102abd-0f7b-4e88-95dd-370d27e631d1",
   "metadata": {},
   "outputs": [],
   "source": [
    "d1.insert_front(11)"
   ]
  },
  {
   "cell_type": "code",
   "execution_count": 85,
   "id": "3fdcd616-2962-41eb-93a7-f2130b80ffb6",
   "metadata": {},
   "outputs": [
    {
     "data": {
      "text/plain": [
       "False"
      ]
     },
     "execution_count": 85,
     "metadata": {},
     "output_type": "execute_result"
    }
   ],
   "source": [
    "d1.is_empty()"
   ]
  },
  {
   "cell_type": "code",
   "execution_count": 86,
   "id": "a196167d-770b-4ccc-99be-c49ffa850cf7",
   "metadata": {},
   "outputs": [],
   "source": [
    "d1.insert_rear(22)"
   ]
  },
  {
   "cell_type": "code",
   "execution_count": 82,
   "id": "f3a69212-a747-4241-8028-b070f87d4897",
   "metadata": {},
   "outputs": [
    {
     "data": {
      "text/plain": [
       "11"
      ]
     },
     "execution_count": 82,
     "metadata": {},
     "output_type": "execute_result"
    }
   ],
   "source": [
    "d1.delete_front()"
   ]
  },
  {
   "cell_type": "code",
   "execution_count": 94,
   "id": "947e16be-90ac-4afb-90a2-e6192e85e1d9",
   "metadata": {},
   "outputs": [
    {
     "data": {
      "text/plain": [
       "11"
      ]
     },
     "execution_count": 94,
     "metadata": {},
     "output_type": "execute_result"
    }
   ],
   "source": [
    "d1.delete_rear()"
   ]
  },
  {
   "cell_type": "code",
   "execution_count": 95,
   "id": "ad1d85e0-2a0d-42f8-baaa-186641bde0b0",
   "metadata": {},
   "outputs": [
    {
     "data": {
      "text/plain": [
       "0"
      ]
     },
     "execution_count": 95,
     "metadata": {},
     "output_type": "execute_result"
    }
   ],
   "source": [
    "d1.size()"
   ]
  },
  {
   "cell_type": "code",
   "execution_count": 96,
   "id": "54f06344-2f02-48af-af87-e135e7fb0078",
   "metadata": {},
   "outputs": [
    {
     "data": {
      "text/plain": [
       "True"
      ]
     },
     "execution_count": 96,
     "metadata": {},
     "output_type": "execute_result"
    }
   ],
   "source": [
    "d1.is_empty()"
   ]
  },
  {
   "cell_type": "code",
   "execution_count": 97,
   "id": "6f3d0a42-0550-48b4-9c8e-df0fe31505a1",
   "metadata": {},
   "outputs": [
    {
     "data": {
      "text/plain": [
       "'Cannot Get Front Element! Empty Deque'"
      ]
     },
     "execution_count": 97,
     "metadata": {},
     "output_type": "execute_result"
    }
   ],
   "source": [
    "d1.get_front()"
   ]
  },
  {
   "cell_type": "code",
   "execution_count": 98,
   "id": "c99676e0-b013-4660-a227-6b251fa73983",
   "metadata": {},
   "outputs": [
    {
     "data": {
      "text/plain": [
       "'Cannot Get Rear Element! Empty Deque'"
      ]
     },
     "execution_count": 98,
     "metadata": {},
     "output_type": "execute_result"
    }
   ],
   "source": [
    "d1.get_rear()"
   ]
  },
  {
   "cell_type": "code",
   "execution_count": null,
   "id": "d245bcee-408a-4949-abd6-59e98a2e41ea",
   "metadata": {},
   "outputs": [],
   "source": []
  },
  {
   "cell_type": "code",
   "execution_count": null,
   "id": "14fd7426-92a7-4178-89ea-2d949b0b8220",
   "metadata": {},
   "outputs": [],
   "source": []
  },
  {
   "cell_type": "code",
   "execution_count": null,
   "id": "76562c5f-0364-4faa-b5d7-6040fe276f87",
   "metadata": {},
   "outputs": [],
   "source": []
  },
  {
   "cell_type": "code",
   "execution_count": null,
   "id": "f11eb2c6-57a9-4b75-a08d-a72376d8bcfd",
   "metadata": {},
   "outputs": [],
   "source": []
  },
  {
   "cell_type": "code",
   "execution_count": null,
   "id": "ff0035b2-5afc-40ed-b64b-e9a4c2a44303",
   "metadata": {},
   "outputs": [],
   "source": []
  }
 ],
 "metadata": {
  "kernelspec": {
   "display_name": "Python 3 (ipykernel)",
   "language": "python",
   "name": "python3"
  },
  "language_info": {
   "codemirror_mode": {
    "name": "ipython",
    "version": 3
   },
   "file_extension": ".py",
   "mimetype": "text/x-python",
   "name": "python",
   "nbconvert_exporter": "python",
   "pygments_lexer": "ipython3",
   "version": "3.12.3"
  }
 },
 "nbformat": 4,
 "nbformat_minor": 5
}
