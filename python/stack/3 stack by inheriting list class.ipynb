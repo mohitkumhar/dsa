{
 "cells": [
  {
   "cell_type": "markdown",
   "id": "d9ac84b5-e051-458b-9749-9cf30825f1f4",
   "metadata": {},
   "source": [
    "# <center>Implementing a Stack by Inheriting the List Class</center>\n",
    "\n",
    "&rarr; We can implement a stack by inheriting the built-in Python list class.\n",
    "\n",
    "&rarr; This approach allows us to utilize the built-in methods of the list class while adding stack-specific operations.\n",
    "Key Points:\n",
    "\n",
    "<br>\n",
    "<b>Inheritance:</b>\n",
    "\n",
    "&rarr; By inheriting from the list class, our stack class will have all the methods of a list (e.g., append, pop, etc.).\n",
    "\n",
    "<br>\n",
    "\n",
    "<b>Stack Operations:</b>\n",
    "1. push()\n",
    "2. pop()\n",
    "3. peek() / top()\n",
    "4. is_empty()\n",
    "\n",
    "<br>\n",
    "\n",
    "<b>Class Definition:</b>\n",
    "\n",
    "Define a class Stack that inherits from list.\n",
    "Implement additional methods for stack operations if needed."
   ]
  },
  {
   "cell_type": "code",
   "execution_count": null,
   "id": "d9028874-30e5-4885-a372-299a9d8430fa",
   "metadata": {},
   "outputs": [],
   "source": []
  }
 ],
 "metadata": {
  "kernelspec": {
   "display_name": "Python 3 (ipykernel)",
   "language": "python",
   "name": "python3"
  },
  "language_info": {
   "codemirror_mode": {
    "name": "ipython",
    "version": 3
   },
   "file_extension": ".py",
   "mimetype": "text/x-python",
   "name": "python",
   "nbconvert_exporter": "python",
   "pygments_lexer": "ipython3",
   "version": "3.12.3"
  }
 },
 "nbformat": 4,
 "nbformat_minor": 5
}
