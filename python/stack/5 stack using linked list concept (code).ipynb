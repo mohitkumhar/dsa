{
 "cells": [
  {
   "cell_type": "markdown",
   "id": "0de674c7-0fab-4c4d-a53e-03732b43d4a6",
   "metadata": {},
   "source": [
    "# <center>Implementation of Stack using linked list concept</center>"
   ]
  },
  {
   "cell_type": "code",
   "execution_count": 1,
   "id": "97be5e3b-f2ca-4564-8142-5b249a045ce5",
   "metadata": {},
   "outputs": [],
   "source": [
    "class Node:\n",
    "    def __init__(self, data):\n",
    "        self.data = data\n",
    "        self.next = None"
   ]
  },
  {
   "cell_type": "code",
   "execution_count": 45,
   "id": "d2380c84-e0de-4283-ba1d-ecd9bba0bf67",
   "metadata": {},
   "outputs": [],
   "source": [
    "class LinkedList:\n",
    "    def __init__(self):\n",
    "        self.head = None\n",
    "        self.next = None\n",
    "        self.size_count = 0\n",
    "\n",
    "    def is_empty(self):\n",
    "        return self.head == None\n",
    "\n",
    "    def push(self, data):\n",
    "        new_node = Node(data)\n",
    "        new_node.next = self.head\n",
    "        self.head = new_node\n",
    "        self.size_count += 1\n",
    "\n",
    "    def pop(self):\n",
    "        if self.is_empty():\n",
    "            return 'Empty Linked List'\n",
    "        popedElement = self.head.data\n",
    "        self.head = self.head.next\n",
    "        self.size_count -= 1\n",
    "        return popedElement\n",
    "\n",
    "    def peek(self):\n",
    "        if self.is_empty():\n",
    "            return 'Empty Linked List'\n",
    "\n",
    "        return self.head.data\n",
    "\n",
    "    def size(self):\n",
    "        return self.size_count\n",
    "    "
   ]
  },
  {
   "cell_type": "code",
   "execution_count": 46,
   "id": "ce65669b-5b9d-4e52-9161-b473e7b939a9",
   "metadata": {},
   "outputs": [],
   "source": [
    "l1 = LinkedList()"
   ]
  },
  {
   "cell_type": "code",
   "execution_count": 47,
   "id": "2448e1b9-6314-45d9-be8f-b66ff75a38b3",
   "metadata": {},
   "outputs": [
    {
     "data": {
      "text/plain": [
       "True"
      ]
     },
     "execution_count": 47,
     "metadata": {},
     "output_type": "execute_result"
    }
   ],
   "source": [
    "l1.is_empty()"
   ]
  },
  {
   "cell_type": "code",
   "execution_count": 48,
   "id": "47c3e623-a2e3-45e4-aefd-e09805c682fd",
   "metadata": {},
   "outputs": [],
   "source": [
    "l1.push(11)"
   ]
  },
  {
   "cell_type": "code",
   "execution_count": 49,
   "id": "13fd490b-0e64-4602-b7e3-b9e5d1068f69",
   "metadata": {},
   "outputs": [
    {
     "data": {
      "text/plain": [
       "False"
      ]
     },
     "execution_count": 49,
     "metadata": {},
     "output_type": "execute_result"
    }
   ],
   "source": [
    "l1.is_empty()"
   ]
  },
  {
   "cell_type": "code",
   "execution_count": 50,
   "id": "1cf57d1a-b1c2-4d5b-b140-31c4a345e99e",
   "metadata": {},
   "outputs": [
    {
     "data": {
      "text/plain": [
       "11"
      ]
     },
     "execution_count": 50,
     "metadata": {},
     "output_type": "execute_result"
    }
   ],
   "source": [
    "l1.pop()"
   ]
  },
  {
   "cell_type": "code",
   "execution_count": 51,
   "id": "3c665977-1a32-420b-a5c9-ab91acc67743",
   "metadata": {},
   "outputs": [
    {
     "data": {
      "text/plain": [
       "True"
      ]
     },
     "execution_count": 51,
     "metadata": {},
     "output_type": "execute_result"
    }
   ],
   "source": [
    "l1.is_empty()"
   ]
  },
  {
   "cell_type": "code",
   "execution_count": 52,
   "id": "cf29c6c7-4d99-45aa-baaf-780eba011595",
   "metadata": {},
   "outputs": [
    {
     "data": {
      "text/plain": [
       "'Empty Linked List'"
      ]
     },
     "execution_count": 52,
     "metadata": {},
     "output_type": "execute_result"
    }
   ],
   "source": [
    "l1.peek()"
   ]
  },
  {
   "cell_type": "code",
   "execution_count": 53,
   "id": "f4086b97-6c7e-4205-96bb-0731451725c8",
   "metadata": {},
   "outputs": [],
   "source": [
    "l1.push(11)"
   ]
  },
  {
   "cell_type": "code",
   "execution_count": 54,
   "id": "7fb6b339-5810-43e0-846f-1643dca5115b",
   "metadata": {},
   "outputs": [
    {
     "data": {
      "text/plain": [
       "11"
      ]
     },
     "execution_count": 54,
     "metadata": {},
     "output_type": "execute_result"
    }
   ],
   "source": [
    "l1.peek()"
   ]
  },
  {
   "cell_type": "code",
   "execution_count": 55,
   "id": "f56acf11-84ef-4644-8610-bbfc06ee4df3",
   "metadata": {},
   "outputs": [],
   "source": [
    "l1.push(22)"
   ]
  },
  {
   "cell_type": "code",
   "execution_count": 56,
   "id": "e57fd497-634b-47c0-989c-b16adf33be95",
   "metadata": {},
   "outputs": [
    {
     "data": {
      "text/plain": [
       "22"
      ]
     },
     "execution_count": 56,
     "metadata": {},
     "output_type": "execute_result"
    }
   ],
   "source": [
    "l1.peek()"
   ]
  },
  {
   "cell_type": "code",
   "execution_count": 57,
   "id": "55d08c66-e98a-47e0-894d-823d403bfa1d",
   "metadata": {},
   "outputs": [],
   "source": [
    "l1.push(11)\n",
    "l1.push(22)\n",
    "l1.push(33)\n",
    "l1.push(44)"
   ]
  },
  {
   "cell_type": "code",
   "execution_count": 58,
   "id": "ca68c47c-66ae-4237-9849-92632ff5d2b4",
   "metadata": {},
   "outputs": [
    {
     "data": {
      "text/plain": [
       "6"
      ]
     },
     "execution_count": 58,
     "metadata": {},
     "output_type": "execute_result"
    }
   ],
   "source": [
    "l1.size()"
   ]
  },
  {
   "cell_type": "code",
   "execution_count": null,
   "id": "cb74d47d-06da-4d5d-be49-e69dd29afe3b",
   "metadata": {},
   "outputs": [],
   "source": []
  },
  {
   "cell_type": "code",
   "execution_count": null,
   "id": "59e11636-70c2-4cab-913c-0e46c7816500",
   "metadata": {},
   "outputs": [],
   "source": []
  }
 ],
 "metadata": {
  "kernelspec": {
   "display_name": "Python 3 (ipykernel)",
   "language": "python",
   "name": "python3"
  },
  "language_info": {
   "codemirror_mode": {
    "name": "ipython",
    "version": 3
   },
   "file_extension": ".py",
   "mimetype": "text/x-python",
   "name": "python",
   "nbconvert_exporter": "python",
   "pygments_lexer": "ipython3",
   "version": "3.12.3"
  }
 },
 "nbformat": 4,
 "nbformat_minor": 5
}
