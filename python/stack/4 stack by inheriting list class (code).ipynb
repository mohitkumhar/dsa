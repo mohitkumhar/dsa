{
 "cells": [
  {
   "cell_type": "code",
   "execution_count": 94,
   "id": "cae6d5ef-dfb4-48ea-b1ce-718ec5c7ba70",
   "metadata": {},
   "outputs": [],
   "source": [
    "class Stack(list):\n",
    "    def is_empty(self):\n",
    "        return len(self) == 0\n",
    "\n",
    "    def push(self, data):\n",
    "        self.append(data)\n",
    "\n",
    "    def pop(self):\n",
    "        if not self.is_empty():\n",
    "            return super().pop()\n",
    "        return 'Stack - UnderFlow'\n",
    "\n",
    "    def peek(self):\n",
    "        if not self.is_empty():\n",
    "            return self[-1]\n",
    "        return 'Stack - UnderFlow'\n",
    "\n",
    "    def size(self):\n",
    "        if not self.is_empty():\n",
    "            return len(self)\n",
    "        return 'Stack - UnderFlow'\n",
    "\n",
    "            \n",
    "            \n",
    "        \n",
    "        "
   ]
  },
  {
   "cell_type": "code",
   "execution_count": 95,
   "id": "773cac8c-bc6f-4ac8-a8e3-d1f87f691586",
   "metadata": {},
   "outputs": [],
   "source": [
    "s1 = Stack()"
   ]
  },
  {
   "cell_type": "code",
   "execution_count": 96,
   "id": "647e294b-ef2d-4c8f-bf7b-6163de3cc412",
   "metadata": {},
   "outputs": [
    {
     "data": {
      "text/plain": [
       "True"
      ]
     },
     "execution_count": 96,
     "metadata": {},
     "output_type": "execute_result"
    }
   ],
   "source": [
    "s1.is_empty()"
   ]
  },
  {
   "cell_type": "code",
   "execution_count": 97,
   "id": "931084a7-c7be-4956-bf5a-c536c76bc56f",
   "metadata": {},
   "outputs": [],
   "source": [
    "s1.push(11)\n",
    "s1.push(22)\n",
    "s1.push(33)"
   ]
  },
  {
   "cell_type": "code",
   "execution_count": 98,
   "id": "185db5e5-620b-4bf0-80d3-77d0cb18bb11",
   "metadata": {},
   "outputs": [
    {
     "data": {
      "text/plain": [
       "False"
      ]
     },
     "execution_count": 98,
     "metadata": {},
     "output_type": "execute_result"
    }
   ],
   "source": [
    "s1.is_empty()"
   ]
  },
  {
   "cell_type": "code",
   "execution_count": 99,
   "id": "981b10ce-a4db-4c24-ba77-a9d65abeb29e",
   "metadata": {},
   "outputs": [
    {
     "data": {
      "text/plain": [
       "33"
      ]
     },
     "execution_count": 99,
     "metadata": {},
     "output_type": "execute_result"
    }
   ],
   "source": [
    "s1.pop()"
   ]
  },
  {
   "cell_type": "code",
   "execution_count": 100,
   "id": "43219ce1-a803-4637-8ec8-1779800c2c81",
   "metadata": {},
   "outputs": [
    {
     "data": {
      "text/plain": [
       "22"
      ]
     },
     "execution_count": 100,
     "metadata": {},
     "output_type": "execute_result"
    }
   ],
   "source": [
    "s1.peek()"
   ]
  },
  {
   "cell_type": "code",
   "execution_count": 101,
   "id": "c0fafdd2-b7a1-4ce2-919f-978f32b1f9bf",
   "metadata": {},
   "outputs": [
    {
     "data": {
      "text/plain": [
       "2"
      ]
     },
     "execution_count": 101,
     "metadata": {},
     "output_type": "execute_result"
    }
   ],
   "source": [
    "s1.size()"
   ]
  },
  {
   "cell_type": "code",
   "execution_count": null,
   "id": "a089ce6c-c72e-41f9-85ef-134b0acac7aa",
   "metadata": {},
   "outputs": [],
   "source": []
  },
  {
   "cell_type": "code",
   "execution_count": null,
   "id": "0c73130d-3c95-4a89-a29f-cf033e80434d",
   "metadata": {},
   "outputs": [],
   "source": []
  },
  {
   "cell_type": "code",
   "execution_count": null,
   "id": "34327b21-a599-4eab-b9f4-58513545591a",
   "metadata": {},
   "outputs": [],
   "source": []
  },
  {
   "cell_type": "code",
   "execution_count": null,
   "id": "9f023658-8a8c-4fe6-a955-c61d79560f28",
   "metadata": {},
   "outputs": [],
   "source": []
  },
  {
   "cell_type": "code",
   "execution_count": null,
   "id": "85e00c1d-3b40-4e27-a341-f69ba93abc17",
   "metadata": {},
   "outputs": [],
   "source": []
  },
  {
   "cell_type": "code",
   "execution_count": null,
   "id": "175437a0-a854-4b6b-94ef-4f4886ef0224",
   "metadata": {},
   "outputs": [],
   "source": []
  },
  {
   "cell_type": "code",
   "execution_count": null,
   "id": "18ff8429-aee2-4b8b-9c08-8edd1008df83",
   "metadata": {},
   "outputs": [],
   "source": []
  },
  {
   "cell_type": "code",
   "execution_count": null,
   "id": "b4f96de2-0d6c-4b51-896c-11f20b37540c",
   "metadata": {},
   "outputs": [],
   "source": []
  },
  {
   "cell_type": "code",
   "execution_count": null,
   "id": "1b603081-7121-4a8f-8507-8b78ee06b49d",
   "metadata": {},
   "outputs": [],
   "source": []
  }
 ],
 "metadata": {
  "kernelspec": {
   "display_name": "Python 3 (ipykernel)",
   "language": "python",
   "name": "python3"
  },
  "language_info": {
   "codemirror_mode": {
    "name": "ipython",
    "version": 3
   },
   "file_extension": ".py",
   "mimetype": "text/x-python",
   "name": "python",
   "nbconvert_exporter": "python",
   "pygments_lexer": "ipython3",
   "version": "3.12.3"
  }
 },
 "nbformat": 4,
 "nbformat_minor": 5
}
