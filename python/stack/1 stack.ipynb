{
 "cells": [
  {
   "cell_type": "markdown",
   "id": "7ebfb34c-1b93-4027-9df1-ed85d38354ca",
   "metadata": {},
   "source": [
    "# <center>Stack</center>\n",
    "\n",
    "A stack is a data structure that follows the Last In, First Out (LIFO) principle.\n",
    "  \n",
    "&rarr; Think of it like a stack of plates: you add (push) a plate on top and take (pop) the top plate off first.\n",
    "\n",
    "\n",
    "\n",
    "\n",
    "\n"
   ]
  },
  {
   "cell_type": "markdown",
   "id": "44ead6e5-2e00-48dc-87e3-5f3f491c21da",
   "metadata": {},
   "source": [
    "\n",
    "**Visual Representation:**\n",
    "```\n",
    "|       |\n",
    "|   4   |  <- Top\n",
    "|   3   |\n",
    "|   2   |\n",
    "|   1   |\n",
    "|_______|\n",
    "```\n"
   ]
  },
  {
   "cell_type": "markdown",
   "id": "d70fa8d8-2646-4a2b-829b-923b32b12447",
   "metadata": {},
   "source": [
    "\n",
    "  \n",
    "\n",
    "\n",
    "**Structure:**\n",
    "- Consists of elements piled on top of each other.\n",
    "- Only the top element is accessible at any time.\n",
    "\n",
    "<br>\n"
   ]
  },
  {
   "cell_type": "markdown",
   "id": "faa7ed57-67d8-4f4e-83b8-c0ed5c6f7687",
   "metadata": {},
   "source": [
    "\n",
    "\n",
    "**Main Operations:**\n",
    "1. **Push**: Add an element to the top of the stack.\n",
    "2. **Pop**: Remove the top element from the stack.\n",
    "3. **Peek/Top**: View the top element without removing it.\n",
    "4. **IsEmpty**: Check if the stack is empty.\n",
    "5. **Size**: Get the number of elements in the stack.\n",
    "   "
   ]
  },
  {
   "cell_type": "markdown",
   "id": "4d34f030-d442-42cf-848d-7ecca6dcdacb",
   "metadata": {},
   "source": [
    "\n",
    "**Advantages:**\n",
    "- Simple to implement.\n",
    "- Efficient for operations like undo mechanisms, expression evaluations, and backtracking algorithms.\n"
   ]
  },
  {
   "cell_type": "markdown",
   "id": "171348b8-98bb-4f75-af1d-c5f6c58f220e",
   "metadata": {},
   "source": [
    "\n",
    "\n",
    "**Disadvantages:**\n",
    "- Limited access to elements; only the top element is accessible.\n",
    "- Fixed size if implemented using an array, leading to potential overflow."
   ]
  },
  {
   "cell_type": "markdown",
   "id": "a70085bf-7306-4a60-991b-95ebe23f640d",
   "metadata": {},
   "source": [
    "\n",
    "\n",
    "\n",
    "**Applications:**\n",
    "- **Undo Mechanisms**: In text editors.\n",
    "- **Expression Evaluation**: For postfix and prefix notations.\n",
    "- **Backtracking**: In algorithms like maze solving.\n",
    "- **Function Call Management**: In recursion."
   ]
  },
  {
   "cell_type": "markdown",
   "id": "af4884fc-7b84-44cc-8018-0f8964bb0a1b",
   "metadata": {},
   "source": [
    "\n",
    "**Examples:**\n",
    "- **Browser History**: The most recent page visited is on top.\n",
    "- **Undo Feature in Software**: The last action is undone first.\n"
   ]
  },
  {
   "cell_type": "code",
   "execution_count": null,
   "id": "ae9d04e5-73cc-4664-b589-18c4ad754f28",
   "metadata": {},
   "outputs": [],
   "source": []
  }
 ],
 "metadata": {
  "kernelspec": {
   "display_name": "Python 3 (ipykernel)",
   "language": "python",
   "name": "python3"
  },
  "language_info": {
   "codemirror_mode": {
    "name": "ipython",
    "version": 3
   },
   "file_extension": ".py",
   "mimetype": "text/x-python",
   "name": "python",
   "nbconvert_exporter": "python",
   "pygments_lexer": "ipython3",
   "version": "3.12.3"
  }
 },
 "nbformat": 4,
 "nbformat_minor": 5
}
