{
 "cells": [
  {
   "cell_type": "code",
   "execution_count": 34,
   "id": "ef6997b5-3571-4b20-b309-da675c17c49b",
   "metadata": {},
   "outputs": [],
   "source": [
    "class Stack:\n",
    "    def __init__(self):\n",
    "        self.items = []\n",
    "\n",
    "    def is_empty(self):\n",
    "        return len(self.items) == 0\n",
    "\n",
    "    def push(self, data):\n",
    "        self.items.append(data)\n",
    "\n",
    "    def pop(self):\n",
    "        if not self.is_empty():\n",
    "            return self.items.pop()\n",
    "\n",
    "        return 'Stack UnderFlow'\n",
    "\n",
    "    def peek(self):\n",
    "        if not self.is_empty():\n",
    "            return self.items[-1]\n",
    "        return 'Stack UnderFlow'\n",
    "\n",
    "    def size(self):\n",
    "        if not self.is_empty():\n",
    "            return len(self.items)\n",
    "\n",
    "        return 'Stack UnderFlow'\n"
   ]
  },
  {
   "cell_type": "code",
   "execution_count": 35,
   "id": "b4241eee-2b6d-4e6f-a0f8-5aa2d708a47a",
   "metadata": {},
   "outputs": [],
   "source": [
    "s1 = Stack()"
   ]
  },
  {
   "cell_type": "code",
   "execution_count": 36,
   "id": "4be0cb2e-5d10-4e67-bccd-8fdd1f86a2f8",
   "metadata": {},
   "outputs": [
    {
     "data": {
      "text/plain": [
       "True"
      ]
     },
     "execution_count": 36,
     "metadata": {},
     "output_type": "execute_result"
    }
   ],
   "source": [
    "s1.is_empty()"
   ]
  },
  {
   "cell_type": "code",
   "execution_count": 38,
   "id": "876d3b00-385d-418c-b932-c456b37493b9",
   "metadata": {},
   "outputs": [],
   "source": [
    "s1.push(11)\n",
    "s1.push(22)\n",
    "s1.push(33)\n",
    "s1.push(44)"
   ]
  },
  {
   "cell_type": "code",
   "execution_count": 39,
   "id": "c41118db-eec2-4bc6-a332-8ec71113ed86",
   "metadata": {},
   "outputs": [
    {
     "data": {
      "text/plain": [
       "False"
      ]
     },
     "execution_count": 39,
     "metadata": {},
     "output_type": "execute_result"
    }
   ],
   "source": [
    "s1.is_empty()"
   ]
  },
  {
   "cell_type": "code",
   "execution_count": 40,
   "id": "39b82784-47c3-45fe-a5a2-4af60c0f07d6",
   "metadata": {},
   "outputs": [
    {
     "data": {
      "text/plain": [
       "44"
      ]
     },
     "execution_count": 40,
     "metadata": {},
     "output_type": "execute_result"
    }
   ],
   "source": [
    "s1.peek()"
   ]
  },
  {
   "cell_type": "code",
   "execution_count": 41,
   "id": "3db7bd87-ffb2-4874-a3dc-a4e84638fb11",
   "metadata": {},
   "outputs": [
    {
     "data": {
      "text/plain": [
       "44"
      ]
     },
     "execution_count": 41,
     "metadata": {},
     "output_type": "execute_result"
    }
   ],
   "source": [
    "s1.pop()"
   ]
  },
  {
   "cell_type": "code",
   "execution_count": 42,
   "id": "2b10e3a2-9fac-4315-af60-3dfd6dcd41f4",
   "metadata": {},
   "outputs": [
    {
     "data": {
      "text/plain": [
       "33"
      ]
     },
     "execution_count": 42,
     "metadata": {},
     "output_type": "execute_result"
    }
   ],
   "source": [
    "s1.peek()"
   ]
  },
  {
   "cell_type": "code",
   "execution_count": 43,
   "id": "c1c7f5b1-92b1-4fd0-8bcb-a8fd9deecfb6",
   "metadata": {},
   "outputs": [
    {
     "data": {
      "text/plain": [
       "3"
      ]
     },
     "execution_count": 43,
     "metadata": {},
     "output_type": "execute_result"
    }
   ],
   "source": [
    "s1.size()"
   ]
  }
 ],
 "metadata": {
  "kernelspec": {
   "display_name": "Python 3 (ipykernel)",
   "language": "python",
   "name": "python3"
  },
  "language_info": {
   "codemirror_mode": {
    "name": "ipython",
    "version": 3
   },
   "file_extension": ".py",
   "mimetype": "text/x-python",
   "name": "python",
   "nbconvert_exporter": "python",
   "pygments_lexer": "ipython3",
   "version": "3.12.3"
  }
 },
 "nbformat": 4,
 "nbformat_minor": 5
}
