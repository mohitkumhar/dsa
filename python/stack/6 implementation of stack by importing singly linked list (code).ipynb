{
 "cells": [
  {
   "cell_type": "code",
   "execution_count": 113,
   "id": "54160d50-cc28-4eb9-8216-d701ae0d9c6c",
   "metadata": {},
   "outputs": [],
   "source": [
    "from singly_linked_list import *"
   ]
  },
  {
   "cell_type": "code",
   "execution_count": 136,
   "id": "cf23da0d-f82b-4d62-b9b8-7e02145b758a",
   "metadata": {},
   "outputs": [],
   "source": [
    "class Stack:\n",
    "    def __init__(self):\n",
    "        self.mylist = LinkedList()\n",
    "        self.item_count = 0\n",
    "\n",
    "    def is_empty(self):\n",
    "        return self.mylist.is_empty()\n",
    "\n",
    "    def push(self, data):\n",
    "        self.mylist.insert_at_start(data)\n",
    "        self.item_count += 1\n",
    "\n",
    "    def pop(self):\n",
    "        if self.is_empty():\n",
    "            return 'Cannot pop! Empty Linked List'\n",
    "        self.mylist.delete_at_start()\n",
    "        self.item_count -= 1\n",
    "\n",
    "    def peek(self):\n",
    "        if self.is_empty():\n",
    "            return 'Cannot peek! Empty Linked List'\n",
    "        return self.mylist.head.data\n",
    "\n",
    "    def traverse(self):\n",
    "        if self.is_empty():        \n",
    "            return 'Cannot traverse! Empty Linked List'\n",
    "        return self.mylist.traverse()\n",
    "\n",
    "    def size(self):\n",
    "        return self.item_count\n",
    "    \n",
    "\n",
    "    \n",
    "        \n",
    "        \n",
    "\n",
    "        \n",
    "        "
   ]
  },
  {
   "cell_type": "code",
   "execution_count": 137,
   "id": "8a8ec38a-3b1d-4379-ab9f-8a38c2039ac5",
   "metadata": {},
   "outputs": [],
   "source": [
    "s1 = Stack()"
   ]
  },
  {
   "cell_type": "code",
   "execution_count": 138,
   "id": "d629103b-65cb-4441-85ec-6cba172f20b7",
   "metadata": {},
   "outputs": [
    {
     "data": {
      "text/plain": [
       "True"
      ]
     },
     "execution_count": 138,
     "metadata": {},
     "output_type": "execute_result"
    }
   ],
   "source": [
    "s1.is_empty()"
   ]
  },
  {
   "cell_type": "code",
   "execution_count": 139,
   "id": "eb9a140e-d6d3-48c9-bbf0-c705b7ba8d61",
   "metadata": {},
   "outputs": [],
   "source": [
    "s1.push(11)\n",
    "s1.push(22)\n",
    "s1.push(33)\n",
    "s1.push(44)\n",
    "s1.push(55)"
   ]
  },
  {
   "cell_type": "code",
   "execution_count": 140,
   "id": "52c0f207-ed18-404a-8960-d3defa3f784b",
   "metadata": {},
   "outputs": [
    {
     "data": {
      "text/plain": [
       "False"
      ]
     },
     "execution_count": 140,
     "metadata": {},
     "output_type": "execute_result"
    }
   ],
   "source": [
    "s1.is_empty()"
   ]
  },
  {
   "cell_type": "code",
   "execution_count": 141,
   "id": "fbbc7006-a247-4cfb-a9cf-dcdf9a804ad9",
   "metadata": {},
   "outputs": [
    {
     "data": {
      "text/plain": [
       "55"
      ]
     },
     "execution_count": 141,
     "metadata": {},
     "output_type": "execute_result"
    }
   ],
   "source": [
    "s1.peek()"
   ]
  },
  {
   "cell_type": "code",
   "execution_count": 142,
   "id": "0bb6040c-0390-471f-a068-da269ad44076",
   "metadata": {},
   "outputs": [],
   "source": [
    "s1.pop()"
   ]
  },
  {
   "cell_type": "code",
   "execution_count": 143,
   "id": "a45cd7f8-46de-4894-b1e5-c2cfca9e70ee",
   "metadata": {},
   "outputs": [
    {
     "data": {
      "text/plain": [
       "44"
      ]
     },
     "execution_count": 143,
     "metadata": {},
     "output_type": "execute_result"
    }
   ],
   "source": [
    "s1.peek()"
   ]
  },
  {
   "cell_type": "code",
   "execution_count": 144,
   "id": "831acf46-8432-4d1a-bc91-d3422c120fe7",
   "metadata": {},
   "outputs": [
    {
     "data": {
      "text/plain": [
       "'44 -> 33 -> 22 -> 11'"
      ]
     },
     "execution_count": 144,
     "metadata": {},
     "output_type": "execute_result"
    }
   ],
   "source": [
    "s1.traverse()"
   ]
  },
  {
   "cell_type": "code",
   "execution_count": 145,
   "id": "20adfe33-fcbc-4fe5-8d51-782d2d09a576",
   "metadata": {},
   "outputs": [],
   "source": [
    "s1.pop()"
   ]
  },
  {
   "cell_type": "code",
   "execution_count": 146,
   "id": "e6db2d8d-b18d-4a66-a587-5a6bdc97304c",
   "metadata": {},
   "outputs": [
    {
     "data": {
      "text/plain": [
       "33"
      ]
     },
     "execution_count": 146,
     "metadata": {},
     "output_type": "execute_result"
    }
   ],
   "source": [
    "s1.peek()"
   ]
  },
  {
   "cell_type": "code",
   "execution_count": 147,
   "id": "55500408-54d3-43c6-a12c-007b0bdef1b9",
   "metadata": {},
   "outputs": [
    {
     "data": {
      "text/plain": [
       "'33 -> 22 -> 11'"
      ]
     },
     "execution_count": 147,
     "metadata": {},
     "output_type": "execute_result"
    }
   ],
   "source": [
    "s1.traverse()"
   ]
  },
  {
   "cell_type": "code",
   "execution_count": null,
   "id": "d05ff657-ed4c-4e57-854d-127640c02016",
   "metadata": {},
   "outputs": [],
   "source": []
  },
  {
   "cell_type": "code",
   "execution_count": null,
   "id": "30ab3186-54d8-4c88-b192-979668030dfd",
   "metadata": {},
   "outputs": [],
   "source": []
  },
  {
   "cell_type": "code",
   "execution_count": null,
   "id": "ddee63a0-8ef2-4c8f-95ae-79b25a9d4332",
   "metadata": {},
   "outputs": [],
   "source": []
  },
  {
   "cell_type": "code",
   "execution_count": null,
   "id": "dde57ae8-2354-4aef-acad-b343b7689ce7",
   "metadata": {},
   "outputs": [],
   "source": []
  },
  {
   "cell_type": "code",
   "execution_count": null,
   "id": "c5e0c602-a35d-4ea6-803f-8b3fc73f73a7",
   "metadata": {},
   "outputs": [],
   "source": []
  }
 ],
 "metadata": {
  "kernelspec": {
   "display_name": "Python 3 (ipykernel)",
   "language": "python",
   "name": "python3"
  },
  "language_info": {
   "codemirror_mode": {
    "name": "ipython",
    "version": 3
   },
   "file_extension": ".py",
   "mimetype": "text/x-python",
   "name": "python",
   "nbconvert_exporter": "python",
   "pygments_lexer": "ipython3",
   "version": "3.12.3"
  }
 },
 "nbformat": 4,
 "nbformat_minor": 5
}
