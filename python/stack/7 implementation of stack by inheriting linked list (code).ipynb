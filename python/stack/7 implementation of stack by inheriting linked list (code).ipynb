{
 "cells": [
  {
   "cell_type": "code",
   "execution_count": 32,
   "id": "5ebfc76c-71e7-413c-acbb-e672517197d3",
   "metadata": {},
   "outputs": [],
   "source": [
    "from singly_linked_list import *"
   ]
  },
  {
   "cell_type": "code",
   "execution_count": 97,
   "id": "a9f8dcef-8b83-4794-9021-d1013e7bcf01",
   "metadata": {},
   "outputs": [],
   "source": [
    "class Stack(LinkedList):\n",
    "    def __init__(self):\n",
    "        super().__init__()\n",
    "        self.item_count = 0\n",
    "        \n",
    "    def is_empty(self):\n",
    "        return super().is_empty()\n",
    "\n",
    "    def push(self, data):\n",
    "        self.insert_at_start(data)\n",
    "        self.item_count += 1\n",
    "\n",
    "    def pop(self):\n",
    "        if self.is_empty():\n",
    "            return 'Empty Linked LIst! Cannot pop'\n",
    "        self.delete_at_start()\n",
    "        self.item_count -= 1\n",
    "\n",
    "    def peek(self):\n",
    "        if self.is_empty():\n",
    "            return 'Empty Linked LIst! Cannot pop'\n",
    "        return self.head.data\n",
    "\n",
    "    def traverse(self):\n",
    "        if self.is_empty():\n",
    "            return 'Linked List is Empty Cannot Traverse'\n",
    "        return super().traverse()\n",
    "\n",
    "    def size(self):\n",
    "        return self.item_count"
   ]
  },
  {
   "cell_type": "code",
   "execution_count": 98,
   "id": "94531968-fc62-4ce8-ad6f-a155f51c525c",
   "metadata": {},
   "outputs": [],
   "source": [
    "s1 = Stack()"
   ]
  },
  {
   "cell_type": "code",
   "execution_count": 99,
   "id": "0de124d1-aef6-4aa2-a300-a5497a4a4a01",
   "metadata": {},
   "outputs": [
    {
     "data": {
      "text/plain": [
       "True"
      ]
     },
     "execution_count": 99,
     "metadata": {},
     "output_type": "execute_result"
    }
   ],
   "source": [
    "s1.is_empty()"
   ]
  },
  {
   "cell_type": "code",
   "execution_count": 100,
   "id": "ae8c3a82-2c66-488f-ac11-2217b5254fa4",
   "metadata": {},
   "outputs": [],
   "source": [
    "s1.push(11)\n",
    "s1.push(22)\n",
    "s1.push(33)\n",
    "s1.push(44)\n",
    "s1.push(55)"
   ]
  },
  {
   "cell_type": "code",
   "execution_count": 101,
   "id": "7ed7002a-c51c-4e53-bafa-fd61476d7e3f",
   "metadata": {},
   "outputs": [
    {
     "data": {
      "text/plain": [
       "False"
      ]
     },
     "execution_count": 101,
     "metadata": {},
     "output_type": "execute_result"
    }
   ],
   "source": [
    "s1.is_empty()"
   ]
  },
  {
   "cell_type": "code",
   "execution_count": 102,
   "id": "8af5b56f-936a-4508-a71b-98c746f91725",
   "metadata": {},
   "outputs": [
    {
     "data": {
      "text/plain": [
       "55"
      ]
     },
     "execution_count": 102,
     "metadata": {},
     "output_type": "execute_result"
    }
   ],
   "source": [
    "s1.peek()"
   ]
  },
  {
   "cell_type": "code",
   "execution_count": 103,
   "id": "1c714d37-0662-47c2-9441-86cb08a47156",
   "metadata": {},
   "outputs": [
    {
     "data": {
      "text/plain": [
       "'55 -> 44 -> 33 -> 22 -> 11'"
      ]
     },
     "execution_count": 103,
     "metadata": {},
     "output_type": "execute_result"
    }
   ],
   "source": [
    "s1.traverse()"
   ]
  },
  {
   "cell_type": "code",
   "execution_count": 104,
   "id": "8202eb00-f1ce-49bb-a773-3e464d0c321b",
   "metadata": {},
   "outputs": [],
   "source": [
    "s1.pop()"
   ]
  },
  {
   "cell_type": "code",
   "execution_count": 105,
   "id": "569c5ec0-6c45-4fd1-aede-efff860c34fa",
   "metadata": {},
   "outputs": [
    {
     "data": {
      "text/plain": [
       "'44 -> 33 -> 22 -> 11'"
      ]
     },
     "execution_count": 105,
     "metadata": {},
     "output_type": "execute_result"
    }
   ],
   "source": [
    "s1.traverse()"
   ]
  },
  {
   "cell_type": "code",
   "execution_count": 106,
   "id": "70950eb1-7d71-4b69-a687-a43040ff7363",
   "metadata": {},
   "outputs": [
    {
     "data": {
      "text/plain": [
       "44"
      ]
     },
     "execution_count": 106,
     "metadata": {},
     "output_type": "execute_result"
    }
   ],
   "source": [
    "s1.peek()"
   ]
  },
  {
   "cell_type": "code",
   "execution_count": 107,
   "id": "a69f7036-b2a8-4668-94d3-dfab36d6fed8",
   "metadata": {},
   "outputs": [
    {
     "data": {
      "text/plain": [
       "4"
      ]
     },
     "execution_count": 107,
     "metadata": {},
     "output_type": "execute_result"
    }
   ],
   "source": [
    "s1.size()"
   ]
  },
  {
   "cell_type": "code",
   "execution_count": null,
   "id": "076ac805-b095-487f-8944-93d103883757",
   "metadata": {},
   "outputs": [],
   "source": []
  },
  {
   "cell_type": "code",
   "execution_count": null,
   "id": "635fc6a1-223e-4acf-801a-5922959ad0e8",
   "metadata": {},
   "outputs": [],
   "source": []
  },
  {
   "cell_type": "code",
   "execution_count": null,
   "id": "a572d2dc-62cd-4fc9-9292-221ac4ab1cd9",
   "metadata": {},
   "outputs": [],
   "source": []
  },
  {
   "cell_type": "code",
   "execution_count": null,
   "id": "259f49fe-48b9-4b4b-b7be-883b096b4517",
   "metadata": {},
   "outputs": [],
   "source": []
  },
  {
   "cell_type": "code",
   "execution_count": null,
   "id": "396976de-4d1e-4229-b7c9-76ac3791bd4c",
   "metadata": {},
   "outputs": [],
   "source": []
  },
  {
   "cell_type": "code",
   "execution_count": null,
   "id": "9adb6fab-a43c-471c-b706-6f0c7031dc71",
   "metadata": {},
   "outputs": [],
   "source": []
  },
  {
   "cell_type": "code",
   "execution_count": null,
   "id": "caca6f2a-a9aa-4bb6-8d8e-f1e22283594b",
   "metadata": {},
   "outputs": [],
   "source": []
  },
  {
   "cell_type": "code",
   "execution_count": null,
   "id": "e5fe765d-a048-456a-8dc8-5cb7344dcb00",
   "metadata": {},
   "outputs": [],
   "source": []
  },
  {
   "cell_type": "code",
   "execution_count": null,
   "id": "242045b8-d823-4803-8084-53ec4c5a9eea",
   "metadata": {},
   "outputs": [],
   "source": []
  }
 ],
 "metadata": {
  "kernelspec": {
   "display_name": "Python 3 (ipykernel)",
   "language": "python",
   "name": "python3"
  },
  "language_info": {
   "codemirror_mode": {
    "name": "ipython",
    "version": 3
   },
   "file_extension": ".py",
   "mimetype": "text/x-python",
   "name": "python",
   "nbconvert_exporter": "python",
   "pygments_lexer": "ipython3",
   "version": "3.12.3"
  }
 },
 "nbformat": 4,
 "nbformat_minor": 5
}
